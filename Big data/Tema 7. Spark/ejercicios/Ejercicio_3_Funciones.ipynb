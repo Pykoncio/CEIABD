{
  "nbformat": 4,
  "nbformat_minor": 0,
  "metadata": {
    "colab": {
      "provenance": []
    },
    "kernelspec": {
      "name": "python3",
      "display_name": "Python 3"
    },
    "language_info": {
      "name": "python"
    }
  },
  "cells": [
    {
      "cell_type": "markdown",
      "source": [
        "# Ejercicios de Funciones en PySpark"
      ],
      "metadata": {
        "id": "wfFMY-3qoa-B"
      }
    },
    {
      "cell_type": "code",
      "execution_count": null,
      "metadata": {
        "id": "KQoO6O1RoXl1"
      },
      "outputs": [],
      "source": [
        "# Configuración de entorno\n",
        "!wget -q https://apache.osuosl.org/spark/spark-3.5.4/spark-3.5.4-bin-hadoop3.tgz\n",
        "!tar xf spark-3.5.4-bin-hadoop3.tgz\n",
        "!pip install -q findspark pyspark\n",
        "\n",
        "import os\n",
        "os.environ[\"JAVA_HOME\"] = \"/usr/lib/jvm/java-11-openjdk-amd64\"\n",
        "os.environ[\"SPARK_HOME\"] = \"/content/spark-3.5.4-bin-hadoop3\"\n",
        "\n",
        "import findspark\n",
        "findspark.init()\n",
        "from pyspark.sql import SparkSession\n",
        "spark = SparkSession.builder.getOrCreate()\n",
        "\n",
        "# Creación del DataFrame de ejemplo\n",
        "emp = [(1, \"AAA\", \"dept1\", 1000),\n",
        "       (2, \"BBB\", \"dept1\", 1100),\n",
        "       (3, \"CCC\", \"dept1\", 3000),\n",
        "       (4, \"DDD\", \"dept1\", 5500),\n",
        "       (5, \"EEE\", \"dept2\", 8000),\n",
        "       (6, \"FFF\", \"dept2\", 9200),\n",
        "       (7, \"GGG\", \"dept3\", 1100),\n",
        "       (None, None, None, 5500),\n",
        "       (9, \"III\", None, 3500),\n",
        "       (10, None, \"dept5\", 2500)]\n",
        "\n",
        "df = spark.createDataFrame(emp, [\"id\", \"name\", \"dept\", \"salary\"])"
      ]
    },
    {
      "cell_type": "markdown",
      "source": [
        "## Ejercicio 1: UDF con manejo de nulos\n",
        "Crea una UDF que clasifique los salarios igual que en el ejemplo visto, pero devuelva 'invalid_salary' si el nombre es nulo. Agrega esta nueva columna al DataFrame."
      ],
      "metadata": {
        "id": "kG6uVVbBomNy"
      }
    },
    {
      "cell_type": "code",
      "source": [],
      "metadata": {
        "id": "EBK8QwZoopFY"
      },
      "execution_count": null,
      "outputs": []
    },
    {
      "cell_type": "markdown",
      "source": [
        "## Ejercicio 2: Expresión SQL compleja\n",
        "**Enunciado:** Usando `expr`, crea una columna que muestre:\n",
        "- 'valid' si el departamento existe y el salario > 2000\n",
        "- 'invalid' en cualquier otro caso."
      ],
      "metadata": {
        "id": "ZJmJMmB-o7JK"
      }
    },
    {
      "cell_type": "code",
      "source": [],
      "metadata": {
        "id": "5eKL1wkHpAId"
      },
      "execution_count": null,
      "outputs": []
    },
    {
      "cell_type": "markdown",
      "source": [
        "## Ejercicio 3: Combinación de operaciones NULL\n",
        "**Enunciado:** Crea un nuevo DataFrame que:\n",
        "1. Rellene los valores nulos en 'dept' con 'no_dept'\n",
        "2. Elimine filas donde tanto 'id' como 'name' son nulos."
      ],
      "metadata": {
        "id": "lhYFvNREpGDc"
      }
    },
    {
      "cell_type": "code",
      "source": [],
      "metadata": {
        "id": "Jp8ZcdEJpJ1A"
      },
      "execution_count": null,
      "outputs": []
    },
    {
      "cell_type": "markdown",
      "source": [
        "## Ejercicio 4: UDF con múltiples condiciones\n",
        "**Enunciado:** Crea una UDF que devuelva:\n",
        "- 'executive' si el salario > 7000 y el departamento es 'dept2'\n",
        "- 'manager' si el salario está entre 3000-7000\n",
        "- 'staff' en otros casos válidos."
      ],
      "metadata": {
        "id": "7OyLCkOLpONh"
      }
    },
    {
      "cell_type": "code",
      "source": [],
      "metadata": {
        "id": "wLFOBE_PpREg"
      },
      "execution_count": null,
      "outputs": []
    },
    {
      "cell_type": "markdown",
      "source": [
        "## Ejercicio 5: Optimización con particiones\n",
        "**Enunciado:**\n",
        "1. Crea un RDD con 10 millones de elementos (números aleatorios 1-100)\n",
        "2. Particiónalo en 4 splits\n",
        "3. Filtra números > 50 y cuenta cuántos quedan usando una acción."
      ],
      "metadata": {
        "id": "ZrW2-V97pVwt"
      }
    },
    {
      "cell_type": "code",
      "source": [],
      "metadata": {
        "id": "njwfm5dlpkzE"
      },
      "execution_count": null,
      "outputs": []
    }
  ]
}