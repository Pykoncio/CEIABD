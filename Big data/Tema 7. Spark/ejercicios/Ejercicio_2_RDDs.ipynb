{
  "nbformat": 4,
  "nbformat_minor": 0,
  "metadata": {
    "colab": {
      "provenance": []
    },
    "kernelspec": {
      "name": "python3",
      "display_name": "Python 3"
    },
    "language_info": {
      "name": "python"
    }
  },
  "cells": [
    {
      "cell_type": "markdown",
      "source": [
        "# Ejercicio 2 - RDD's\n",
        "\n",
        "Utiliza Spark Context y Parallelize"
      ],
      "metadata": {
        "id": "TI2aammBPA3s"
      }
    },
    {
      "cell_type": "code",
      "source": [
        "import pandas as pd\n",
        "\n",
        "# Cargar el dataset desde CSV\n",
        "file_path = \"/content/sample_data/california_housing_test.csv\"\n",
        "\n",
        "# Cargar el archivo CSV en un DataFrame de pandas\n",
        "df = pd.read_csv(file_path)\n",
        "\n",
        "# Convertir todas las columnas numéricas a float\n",
        "for col in df.columns:\n",
        "    try:\n",
        "        df[col] = df[col].astype(float)\n",
        "    except ValueError:\n",
        "        print(f\"La columna '{col}' no se pudo convertir a float (posiblemente contiene texto).\")\n",
        "\n",
        "# Mostrar las primeras filas del DataFrame convertido\n",
        "print(df.head())\n",
        "\n",
        "# (Opcional) Guardar el archivo convertido\n",
        "df.to_csv(file_path, index=False)"
      ],
      "metadata": {
        "colab": {
          "base_uri": "https://localhost:8080/"
        },
        "id": "MNs83aeRLhzj",
        "outputId": "fd10971a-85c9-4e22-d453-1c66a0fbe26e"
      },
      "execution_count": null,
      "outputs": [
        {
          "output_type": "stream",
          "name": "stdout",
          "text": [
            "   longitude  latitude  housing_median_age  total_rooms  total_bedrooms  \\\n",
            "0    -122.05     37.37                27.0       3885.0           661.0   \n",
            "1    -118.30     34.26                43.0       1510.0           310.0   \n",
            "2    -117.81     33.78                27.0       3589.0           507.0   \n",
            "3    -118.36     33.82                28.0         67.0            15.0   \n",
            "4    -119.67     36.33                19.0       1241.0           244.0   \n",
            "\n",
            "   population  households  median_income  median_house_value  \n",
            "0      1537.0       606.0         6.6085            344700.0  \n",
            "1       809.0       277.0         3.5990            176500.0  \n",
            "2      1484.0       495.0         5.7934            270500.0  \n",
            "3        49.0        11.0         6.1359            330000.0  \n",
            "4       850.0       237.0         2.9375             81700.0  \n"
          ]
        }
      ]
    },
    {
      "cell_type": "code",
      "execution_count": null,
      "metadata": {
        "id": "30F8Bo1xO9kc",
        "colab": {
          "base_uri": "https://localhost:8080/"
        },
        "outputId": "eddcc83b-0f2b-4aa9-feea-abb0ce8c6b75"
      },
      "outputs": [
        {
          "output_type": "execute_result",
          "data": {
            "text/plain": [
              "[['-122.05',\n",
              "  '37.37',\n",
              "  '27.0',\n",
              "  '3885.0',\n",
              "  '661.0',\n",
              "  '1537.0',\n",
              "  '606.0',\n",
              "  '6.6085',\n",
              "  '344700.0'],\n",
              " ['-118.3',\n",
              "  '34.26',\n",
              "  '43.0',\n",
              "  '1510.0',\n",
              "  '310.0',\n",
              "  '809.0',\n",
              "  '277.0',\n",
              "  '3.599',\n",
              "  '176500.0'],\n",
              " ['-117.81',\n",
              "  '33.78',\n",
              "  '27.0',\n",
              "  '3589.0',\n",
              "  '507.0',\n",
              "  '1484.0',\n",
              "  '495.0',\n",
              "  '5.7934',\n",
              "  '270500.0']]"
            ]
          },
          "metadata": {},
          "execution_count": 38
        }
      ],
      "source": [
        "from pyspark import SparkContext\n",
        "\n",
        "# Crear un contexto de Spark\n",
        "sc = SparkContext.getOrCreate()\n",
        "\n",
        "# Cargar el archivo en un RDD\n",
        "rdd = sc.textFile(file_path)\n",
        "\n",
        "# Obtener encabezados y eliminar la primera línea (cabecera)\n",
        "header = rdd.first()\n",
        "rdd = rdd.filter(lambda line: line != header).map(lambda line: line.split(\",\"))\n",
        "\n",
        "# Mostrar estructura del RDD\n",
        "rdd.take(3)"
      ]
    },
    {
      "cell_type": "markdown",
      "source": [
        "1. Filtra todas las casas donde el precio medio (median_house_value) sea superior a 300,000 dólares y la población (population) sea mayor a 1,000 personas.\n",
        "\n",
        "**Resultado esperado**: Un RDD con las filas que cumplen ambas condiciones."
      ],
      "metadata": {
        "id": "t4ldXm8uPY6v"
      }
    },
    {
      "cell_type": "code",
      "source": [],
      "metadata": {
        "id": "NRfC1CAKPdh_"
      },
      "execution_count": null,
      "outputs": []
    },
    {
      "cell_type": "markdown",
      "source": [
        "2. Calcula el precio por habitación (median_house_value / total_rooms) y normaliza los valores dividiéndolos entre su máximo valor.\n",
        "\n",
        "**Resultado esperado**: Un RDD con una nueva columna price_per_room, donde los valores están normalizados.\n"
      ],
      "metadata": {
        "id": "ZhYWiqNCPeze"
      }
    },
    {
      "cell_type": "code",
      "source": [],
      "metadata": {
        "id": "0GKuvecYPkJ4"
      },
      "execution_count": null,
      "outputs": []
    },
    {
      "cell_type": "markdown",
      "source": [
        "3. Clasifica las viviendas en “bajo”, “medio” y “alto” en función de su median_house_value, donde:\n",
        "\n",
        "\t* “bajo” si el valor está por debajo de 100,000,\n",
        "\t* “medio” si está entre 100,000 y 400,000,\n",
        "\t* “alto” si está por encima de 400,000.\n",
        "\n",
        "**Resultado esperado**: Un RDD con una nueva columna de categorías de precio.\n"
      ],
      "metadata": {
        "id": "wD9nz-eRPtM1"
      }
    },
    {
      "cell_type": "code",
      "source": [],
      "metadata": {
        "id": "_SV8Qy1EPwrx"
      },
      "execution_count": null,
      "outputs": []
    },
    {
      "cell_type": "markdown",
      "source": [
        "4. Encuentra la fila con el mayor valor de median_house_value.\n",
        "\n",
        "**Resultado esperado**: La fila con el precio más alto de vivienda.\n"
      ],
      "metadata": {
        "id": "VkqBUAo7PxLt"
      }
    },
    {
      "cell_type": "code",
      "source": [
        "most_expensive_house = rdd.max(lambda row: row[8])\n",
        "\n",
        "most_expensive_house"
      ],
      "metadata": {
        "id": "f9nrT5mjP0mu",
        "colab": {
          "base_uri": "https://localhost:8080/",
          "height": 180
        },
        "outputId": "65775129-8597-42d2-cf3e-6d716a49240c"
      },
      "execution_count": 1,
      "outputs": [
        {
          "output_type": "error",
          "ename": "NameError",
          "evalue": "name 'rdd' is not defined",
          "traceback": [
            "\u001b[0;31m---------------------------------------------------------------------------\u001b[0m",
            "\u001b[0;31mNameError\u001b[0m                                 Traceback (most recent call last)",
            "\u001b[0;32m<ipython-input-1-de0c8ce149c4>\u001b[0m in \u001b[0;36m<cell line: 0>\u001b[0;34m()\u001b[0m\n\u001b[0;32m----> 1\u001b[0;31m \u001b[0mmost_expensive_house\u001b[0m \u001b[0;34m=\u001b[0m \u001b[0mrdd\u001b[0m\u001b[0;34m.\u001b[0m\u001b[0mmax\u001b[0m\u001b[0;34m(\u001b[0m\u001b[0;32mlambda\u001b[0m \u001b[0mrow\u001b[0m\u001b[0;34m:\u001b[0m \u001b[0mrow\u001b[0m\u001b[0;34m[\u001b[0m\u001b[0;36m8\u001b[0m\u001b[0;34m]\u001b[0m\u001b[0;34m)\u001b[0m\u001b[0;34m\u001b[0m\u001b[0;34m\u001b[0m\u001b[0m\n\u001b[0m\u001b[1;32m      2\u001b[0m \u001b[0;34m\u001b[0m\u001b[0m\n\u001b[1;32m      3\u001b[0m \u001b[0mmost_expensive_house\u001b[0m\u001b[0;34m\u001b[0m\u001b[0;34m\u001b[0m\u001b[0m\n",
            "\u001b[0;31mNameError\u001b[0m: name 'rdd' is not defined"
          ]
        }
      ]
    }
  ]
}