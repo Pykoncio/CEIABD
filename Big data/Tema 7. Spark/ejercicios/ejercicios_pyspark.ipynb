{
    "nbformat": 4,
    "nbformat_minor": 0,
    "metadata": {
      "colab": {
        "provenance": []
      },
      "kernelspec": {
        "name": "python3",
        "display_name": "Python 3"
      },
      "language_info": {
        "name": "python"
      }
    },
    "cells": [
      {
        "cell_type": "markdown",
        "source": [
          "# Ejercicios de iniciación a PySpark"
        ],
        "metadata": {
          "id": "TI2aammBPA3s"
        }
      },
      {
        "cell_type": "code",
        "execution_count": 2,
        "metadata": {
          "id": "30F8Bo1xO9kc"
        },
        "outputs": [],
        "source": [
          "# Importar PySpark\n",
          "from pyspark.sql import SparkSession\n",
          "from pyspark.sql.functions import col, avg, count, max, min, desc, sum, when, abs\n",
          "\n",
          "# Crear una sesión de Spark\n",
          "spark = SparkSession.builder.appName(\"PeliculasPySpark\").getOrCreate()\n",
          "\n",
          "# Leer el archivo CSV de películas\n",
          "df = spark.read.option(\"header\", \"true\").csv(\"/content/peliculas.csv\")"
        ]
      },
      {
        "cell_type": "markdown",
        "source": [
          "1. Mostrar las primeras 10 filas ordenadas por la puntuación de los críticos en orden descendente"
        ],
        "metadata": {
          "id": "t4ldXm8uPY6v"
        }
      },
      {
        "cell_type": "code",
        "source": [],
        "metadata": {
          "id": "NRfC1CAKPdh_"
        },
        "execution_count": null,
        "outputs": []
      },
      {
        "cell_type": "markdown",
        "source": [
          "2. Imprimir el esquema del DataFrame y contar el número total de filas\n"
        ],
        "metadata": {
          "id": "ZhYWiqNCPeze"
        }
      },
      {
        "cell_type": "code",
        "source": [],
        "metadata": {
          "id": "0GKuvecYPkJ4"
        },
        "execution_count": 2,
        "outputs": []
      },
      {
        "cell_type": "markdown",
        "source": [
          "3. Seleccionar las columnas 'title', 'year', 'genre', 'people_score' y calcular la media de 'people_score' para cada género\n"
        ],
        "metadata": {
          "id": "N20yt5HSPkoT"
        }
      },
      {
        "cell_type": "code",
        "source": [],
        "metadata": {
          "id": "12isFT5zPojz"
        },
        "execution_count": 2,
        "outputs": []
      },
      {
        "cell_type": "markdown",
        "source": [
          "4. Filtrar películas con una puntuación de críticos mayor a 90 y una puntuación de audiencia mayor a 85\n"
        ],
        "metadata": {
          "id": "N510X_DyPo9W"
        }
      },
      {
        "cell_type": "code",
        "source": [],
        "metadata": {
          "id": "9bxh5YpXPsu0"
        },
        "execution_count": 2,
        "outputs": []
      },
      {
        "cell_type": "markdown",
        "source": [
          "5. Contar cuántas películas hay por cada género y mostrar solo aquellos géneros con más de 100 películas\n"
        ],
        "metadata": {
          "id": "wD9nz-eRPtM1"
        }
      },
      {
        "cell_type": "code",
        "source": [],
        "metadata": {
          "id": "_SV8Qy1EPwrx"
        },
        "execution_count": 2,
        "outputs": []
      },
      {
        "cell_type": "markdown",
        "source": [
          "6. Encontrar la película con la mayor diferencia entre la puntuación de críticos y la del público\n"
        ],
        "metadata": {
          "id": "VkqBUAo7PxLt"
        }
      },
      {
        "cell_type": "code",
        "source": [],
        "metadata": {
          "id": "f9nrT5mjP0mu"
        },
        "execution_count": 2,
        "outputs": []
      },
      {
        "cell_type": "markdown",
        "source": [
          "7. Calcular el porcentaje de películas que han recaudado más de $100M en taquilla con respecto al total\n"
        ],
        "metadata": {
          "id": "2m5v4MjAP1Aa"
        }
      },
      {
        "cell_type": "code",
        "source": [],
        "metadata": {
          "id": "BACMyVWsP4V8"
        },
        "execution_count": 2,
        "outputs": []
      },
      {
        "cell_type": "markdown",
        "source": [
          "8. Obtener el año con el mayor número de películas estrenadas\n"
        ],
        "metadata": {
          "id": "kNUYL0QgP42D"
        }
      },
      {
        "cell_type": "code",
        "source": [],
        "metadata": {
          "id": "7hJDdT_IP9WB"
        },
        "execution_count": 2,
        "outputs": []
      },
      {
        "cell_type": "markdown",
        "source": [
          "9. Convertir la columna 'year' a tipo entero y filtrar películas lanzadas entre 1980 y 2000, ordenadas por número de reseñas\n"
        ],
        "metadata": {
          "id": "A96zsvJcP95A"
        }
      },
      {
        "cell_type": "code",
        "source": [],
        "metadata": {
          "id": "sykRDE2rQBHu"
        },
        "execution_count": 2,
        "outputs": []
      },
      {
        "cell_type": "markdown",
        "source": [
          "10. Crea una nueva columna llamada critic_category, que clasifique las películas según su puntuación de críticos (critic_score) en cuatro categorías:\n",
          "\n",
          "\t*\t“Excelente”: Si la puntuación de críticos es mayor o igual a 85.\n",
          "\t*\t“Buena”: Si la puntuación de críticos es mayor o igual a 70 pero menor a 85.\n",
          "\t*\t“Regular”: Si la puntuación de críticos es mayor o igual a 50 pero menor a 70.\n",
          "\t*\t“Mala”: Si la puntuación de críticos es menor a 50.\n",
          "\n",
          "\n",
          "Muestra un DataFrame con las columnas title, critic_score y la nueva columna critic_category.\n"
        ],
        "metadata": {
          "id": "Nj-KV3Z_QBnW"
        }
      },
      {
        "cell_type": "code",
        "source": [],
        "metadata": {
          "id": "-CMgKbwVQK2l"
        },
        "execution_count": 2,
        "outputs": []
      }
    ]
  }