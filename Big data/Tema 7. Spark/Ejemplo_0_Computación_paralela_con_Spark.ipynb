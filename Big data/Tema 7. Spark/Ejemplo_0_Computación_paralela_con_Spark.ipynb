{
  "cells": [
    {
      "cell_type": "markdown",
      "metadata": {
        "id": "2I7p_uqUiIb3"
      },
      "source": [
        "# Inicialización"
      ]
    },
    {
      "cell_type": "markdown",
      "metadata": {
        "id": "ri7MiwC8fOqi"
      },
      "source": [
        "En primer lugar instalamos y configuramos todas las dependencias de Spark para Python. De esta forma enlazaremos nuestro entorno con el servidor de Spark. Además configuraremos el entorno Spark con las variables que sean necesarias.\n",
        "\n",
        "\n",
        "\n",
        "**NOTA:**\n",
        "\n",
        "**La última versión de PySpark es la 3.5.4 [link](https://pypi.org/project/pyspark/#history)**"
      ]
    },
    {
      "cell_type": "code",
      "execution_count": 1,
      "metadata": {
        "colab": {
          "base_uri": "https://localhost:8080/"
        },
        "id": "XWM4ntmGfLSE",
        "outputId": "eb60accb-284b-408c-f631-cb182d40a680"
      },
      "outputs": [
        {
          "name": "stdout",
          "output_type": "stream",
          "text": [
            "Requirement already satisfied: pyspark in c:\\users\\alfre\\appdata\\local\\programs\\python\\python311\\lib\\site-packages (3.5.4)\n",
            "Requirement already satisfied: py4j==0.10.9.7 in c:\\users\\alfre\\appdata\\local\\programs\\python\\python311\\lib\\site-packages (from pyspark) (0.10.9.7)\n"
          ]
        }
      ],
      "source": [
        "# Install spark-related dependencies\n",
        "# !wget -q  https://apache.osuosl.org/spark/spark-3.5.4/spark-3.5.4-bin-hadoop3.tgz\n",
        "# !tar xf spark-3.5.4-bin-hadoop3.tgz\n",
        "\n",
        "!pip install -q findspark\n",
        "!pip install pyspark\n",
        "# Set up required environment variables\n",
        "\n",
        "import os\n",
        "os.environ[\"JAVA_HOME\"] = \"/usr/lib/jvm/java-11-openjdk-amd64\"\n",
        "os.environ[\"SPARK_HOME\"] = \"D:\\CEIABD\\spark-3.5.4-bin-hadoop3\""
      ]
    },
    {
      "cell_type": "markdown",
      "metadata": {
        "id": "6dq4j8GfmSRY"
      },
      "source": [
        "Vamos a verificar que el entorno Spark está bien creado"
      ]
    },
    {
      "cell_type": "code",
      "execution_count": 2,
      "metadata": {
        "colab": {
          "base_uri": "https://localhost:8080/",
          "height": 35
        },
        "id": "4pMTURnTgoIe",
        "outputId": "64a85901-f340-437b-b2d5-cbc7b17b5207"
      },
      "outputs": [
        {
          "data": {
            "text/plain": [
              "'D:\\\\CEIABD\\\\spark-3.5.4-bin-hadoop3'"
            ]
          },
          "execution_count": 2,
          "metadata": {},
          "output_type": "execute_result"
        }
      ],
      "source": [
        "os.environ[\"SPARK_HOME\"]"
      ]
    },
    {
      "cell_type": "markdown",
      "metadata": {
        "id": "CCyZxBpShBiP"
      },
      "source": [
        "Vamos a iniciar uan sesión de spark simple para testear nuestra instalación\n",
        "\n",
        "1. Ejecutamos findspark.init() para hacer que pyspark sea importable como una biblioteca normal"
      ]
    },
    {
      "cell_type": "code",
      "execution_count": 3,
      "metadata": {},
      "outputs": [
        {
          "name": "stdout",
          "output_type": "stream",
          "text": [
            "c:\\Users\\alfre\\AppData\\Local\\Programs\\Python\\Python311;c:\\Users\\alfre\\AppData\\Roaming\\Python\\Python311\\Scripts;C:\\Program Files\\Common Files\\Oracle\\Java\\javapath;C:\\Program Files (x86)\\Common Files\\Oracle\\Java\\java8path;C:\\Program Files (x86)\\Common Files\\Oracle\\Java\\javapath;C:\\Windows\\system32;C:\\Windows;C:\\Windows\\System32\\Wbem;C:\\Windows\\System32\\WindowsPowerShell\\v1.0\\;C:\\Windows\\System32\\OpenSSH\\;C:\\Program Files\\Java\\jdk-17\\bin;C:\\Program Files\\nodejs\\;C:\\Program Files\\Git\\cmd;C:\\Program Files\\WireGuard\\;C:\\Program Files\\Amazon\\AWSCLIV2\\;C:\\Program Files\\Docker\\Docker\\resources\\bin;C:\\Program Files\\Exiftool;C:\\Users\\alfre\\AppData\\Local\\Programs\\oh-my-posh\\bin\\;C:\\Users\\alfre\\.cargo\\bin;C:\\Program Files\\MySQL\\MySQL Shell 8.0\\bin\\;C:\\Users\\alfre\\AppData\\Local\\Programs\\Python\\Python311\\Scripts\\;C:\\Users\\alfre\\AppData\\Local\\Programs\\Python\\Python311\\;C:\\Users\\alfre\\AppData\\Local\\Microsoft\\WindowsApps;C:\\Users\\alfre\\AppData\\Local\\Programs\\Microsoft VS Code\\bin;C:\\msys64\\usr\\bin;C:\\Program Files\\JetBrains\\IntelliJ IDEA Community Edition 2023.1.1\\bin;;C:\\Users\\alfre\\AppData\\Local\\GitHubDesktop\\bin;C:\\Users\\alfre\\AppData\\Roaming\\npm;C:\\Program Files\\PostgreSQL\\16\\bin;C:\\Program Files\\apache\\maven-3.9.5\\bin;C:\\Users\\alfre\\AppData\\Local\\Programs\\oh-my-posh\\bin;C:\\Program Files\\Exiftool;;C:\\Program Files\\Common Files\\Oracle\\Java\\javapath;C:\\Program Files (x86)\\Common Files\\Oracle\\Java\\java8path;C:\\Program Files (x86)\\Common Files\\Oracle\\Java\\javapath;C:\\Windows\\system32;C:\\Windows;C:\\Windows\\System32\\Wbem;C:\\Windows\\System32\\WindowsPowerShell\\v1.0\\;C:\\Windows\\System32\\OpenSSH\\;C:\\Program Files\\Java\\jdk-17\\bin;C:\\Program Files\\nodejs\\;C:\\Program Files\\Git\\cmd;C:\\Program Files\\WireGuard\\;C:\\Program Files\\Amazon\\AWSCLIV2\\;C:\\Program Files\\Docker\\Docker\\resources\\bin;C:\\Program Files\\Exiftool;C:\\Users\\alfre\\AppData\\Local\\Programs\\oh-my-posh\\bin\\;C:\\Users\\alfre\\.cargo\\bin;C:\\Program Files\\MySQL\\MySQL Shell 8.0\\bin\\;C:\\Users\\alfre\\AppData\\Local\\Programs\\Python\\Python311\\Scripts\\;C:\\Users\\alfre\\AppData\\Local\\Programs\\Python\\Python311\\;C:\\Users\\alfre\\AppData\\Local\\Microsoft\\WindowsApps;C:\\Users\\alfre\\AppData\\Local\\Programs\\Microsoft VS Code\\bin;C:\\msys64\\usr\\bin;C:\\Program Files\\JetBrains\\IntelliJ IDEA Community Edition 2023.1.1\\bin;;C:\\Users\\alfre\\AppData\\Local\\GitHubDesktop\\bin;C:\\Users\\alfre\\AppData\\Roaming\\npm;C:\\Program Files\\PostgreSQL\\16\\bin;C:\\Program Files\\apache\\maven-3.9.5\\bin;C:\\Users\\alfre\\AppData\\Local\\Programs\\oh-my-posh\\bin;C:\\Program Files\\Exiftool;\n"
          ]
        }
      ],
      "source": [
        "echo %PATH%"
      ]
    },
    {
      "cell_type": "code",
      "execution_count": 4,
      "metadata": {
        "id": "Y7nrYBCBhBOh"
      },
      "outputs": [],
      "source": [
        "import findspark\n",
        "findspark.init()"
      ]
    },
    {
      "cell_type": "markdown",
      "metadata": {
        "id": "8LZqWpiYnpGt"
      },
      "source": [
        "2. Crear un contexto Spark para ejecutar la aplicación\n",
        "\n",
        "> NOTA: Un SparkContext representa la conexión al cluster de Spark, y puede utilizarse para crear RDDs y otros elementos. **Sólo puede haber un SparkContext activo**. Se debe detener (*stop()*) el SparkContext activo antes de crear uno nuevo."
      ]
    },
    {
      "cell_type": "code",
      "execution_count": 5,
      "metadata": {
        "id": "8E2ccfuQWsug"
      },
      "outputs": [],
      "source": [
        "import pyspark\n",
        "from pyspark.sql import *\n",
        "from pyspark.sql.functions import *\n",
        "from pyspark import SparkContext, SparkConf"
      ]
    },
    {
      "cell_type": "code",
      "execution_count": null,
      "metadata": {
        "colab": {
          "base_uri": "https://localhost:8080/",
          "height": 197
        },
        "id": "jMbWlE-0nbJl",
        "outputId": "fd412803-8eb1-440e-a0ee-686136a9990d"
      },
      "outputs": [],
      "source": [
        "conf = SparkConf()\n",
        "conf.set(\"spark.ui.port\", \"4050\")\n",
        "conf.set(\"spark.appName\", \"Pi\")\n",
        "# create the context\n",
        "sc = pyspark.SparkContext(conf=conf)\n",
        "spark = SparkSession.builder.getOrCreate()\n",
        "sc\n"
      ]
    },
    {
      "cell_type": "markdown",
      "metadata": {
        "id": "qILlcLo6oFBk"
      },
      "source": [
        "# Paralelizar el cálculo con parallelize:\n",
        "Este método se utiliza para distribuir la colección de elementos del mismo tipo (datos u operaciones) para poder funcionar en paralelo.\n",
        "\n",
        "sc.parallelize()"
      ]
    },
    {
      "cell_type": "markdown",
      "metadata": {
        "id": "_poGTJ9hndn9"
      },
      "source": [
        "# Particiones en Spark\n",
        "La partición significa que los datos completos no están presentes en un solo lugar. Se divide en varios fragmentos y estos fragmentos se colocan en diferentes nodos.\n",
        "\n",
        "Si tiene una partición, Spark solo tendrá un paralelismo de una, incluso si tiene miles de ejecutores. Además, si tiene muchas particiones pero solo un ejecutor, Spark seguirá teniendo solo un paralelismo de uno porque solo hay un recurso de cálculo.\n",
        "\n",
        "En Spark, las API de nivel inferior nos permiten definir la cantidad de particiones.\n",
        "\n",
        "Tomemos un ejemplo sencillo para entender cómo la partición nos ayuda a dar resultados más rápidos. Crearemos una lista de 20 millones de números aleatorios entre 10 y 1000 y contaremos los números mayores a 200.\n",
        "\n",
        "Veamos qué tan rápido podemos hacer esto con una sola partición:"
      ]
    },
    {
      "cell_type": "code",
      "execution_count": null,
      "metadata": {
        "colab": {
          "base_uri": "https://localhost:8080/"
        },
        "id": "t-HgJFtDlvUY",
        "outputId": "c9a14ca0-9e04-4bae-c7d4-a4df1f270c05"
      },
      "outputs": [
        {
          "name": "stdout",
          "output_type": "stream",
          "text": [
            "1\n"
          ]
        }
      ],
      "source": [
        "from random import randint\n",
        "\n",
        "# create a list of random numbers between 10 to 1000\n",
        "my_large_list = [randint(10,1000) for x in range(0,20000000)]\n",
        "\n",
        "# create one partition of the list\n",
        "my_large_list_one_partition = sc.parallelize(my_large_list,numSlices=1)\n",
        "\n",
        "# check number of partitions\n",
        "print(my_large_list_one_partition.getNumPartitions())\n",
        "# >> 1\n",
        "\n",
        "# filter numbers greater than equal to 200\n",
        "my_large_list_one_partition = my_large_list_one_partition.filter(lambda x : x >= 200)"
      ]
    },
    {
      "cell_type": "code",
      "execution_count": null,
      "metadata": {
        "colab": {
          "base_uri": "https://localhost:8080/"
        },
        "id": "r70aTvYEnFmw",
        "outputId": "fa21856b-1211-439e-e0ab-5b85a12129bd"
      },
      "outputs": [
        {
          "name": "stdout",
          "output_type": "stream",
          "text": [
            "16166223\n",
            "CPU times: user 78.6 ms, sys: 11.4 ms, total: 90 ms\n",
            "Wall time: 13.2 s\n"
          ]
        }
      ],
      "source": [
        "# to calculate the time taken to execute the following command\n",
        "%%time\n",
        "\n",
        "# count the number of elements in filtered list\n",
        "print(my_large_list_one_partition.count())\n",
        "# >> 16162207"
      ]
    },
    {
      "cell_type": "markdown",
      "metadata": {
        "id": "mXX4YFqxoY6_"
      },
      "source": [
        "Ahora, aumentemos el número de particiones a 5 y verifiquemos si obtenemos alguna mejora en el tiempo de ejecución:"
      ]
    },
    {
      "cell_type": "code",
      "execution_count": null,
      "metadata": {
        "id": "X_jAEEHHohZq"
      },
      "outputs": [],
      "source": [
        "# create five partitions of the list\n",
        "my_large_list_with_five_partition = sc.parallelize(my_large_list, numSlices=5)\n",
        "\n",
        "# filter numbers greater than equal to 200\n",
        "my_large_list_with_five_partition = my_large_list_with_five_partition.filter(lambda x : x >= 200)"
      ]
    },
    {
      "cell_type": "code",
      "execution_count": null,
      "metadata": {
        "colab": {
          "base_uri": "https://localhost:8080/"
        },
        "id": "3y-2e3Btoo9B",
        "outputId": "eb81b187-97a3-4fb0-87ee-0275973f4260"
      },
      "outputs": [
        {
          "name": "stdout",
          "output_type": "stream",
          "text": [
            "16166223\n",
            "CPU times: user 57.5 ms, sys: 5.99 ms, total: 63.5 ms\n",
            "Wall time: 9.29 s\n"
          ]
        }
      ],
      "source": [
        "%%time\n",
        "\n",
        "# count the number of elements in the filtered list\n",
        "print(my_large_list_with_five_partition.count())"
      ]
    },
    {
      "cell_type": "markdown",
      "metadata": {
        "id": "DBUPnpdIoWRu"
      },
      "source": [
        "Paramos el SparkContext"
      ]
    },
    {
      "cell_type": "code",
      "execution_count": null,
      "metadata": {
        "id": "kB9mF_zJoVal"
      },
      "outputs": [],
      "source": [
        "sc.stop()"
      ]
    }
  ],
  "metadata": {
    "colab": {
      "provenance": []
    },
    "kernelspec": {
      "display_name": "Python 3",
      "name": "python3"
    },
    "language_info": {
      "codemirror_mode": {
        "name": "ipython",
        "version": 3
      },
      "file_extension": ".py",
      "mimetype": "text/x-python",
      "name": "python",
      "nbconvert_exporter": "python",
      "pygments_lexer": "ipython3",
      "version": "3.11.2"
    }
  },
  "nbformat": 4,
  "nbformat_minor": 0
}
