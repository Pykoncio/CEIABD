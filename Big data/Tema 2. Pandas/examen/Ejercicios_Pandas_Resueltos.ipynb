{
  "nbformat": 4,
  "nbformat_minor": 0,
  "metadata": {
    "colab": {
      "provenance": []
    },
    "kernelspec": {
      "name": "python3",
      "display_name": "Python 3"
    },
    "language_info": {
      "name": "python"
    }
  },
  "cells": [
    {
      "cell_type": "markdown",
      "source": [
        "# **Ejercicios PANDAS**"
      ],
      "metadata": {
        "id": "G8URFqNUwI7s"
      }
    },
    {
      "cell_type": "markdown",
      "source": [
        "1) Leer el archivo cereal.CSV y mostrar las primeras 5 filas."
      ],
      "metadata": {
        "id": "MJ3nHpiUwRRp"
      }
    },
    {
      "cell_type": "code",
      "execution_count": 2,
      "metadata": {
        "colab": {
          "base_uri": "https://localhost:8080/"
        },
        "id": "7ryeUkfIwGpU",
        "outputId": "99c72b95-b9b0-4769-cd02-8623e5527e82"
      },
      "outputs": [
        {
          "output_type": "stream",
          "name": "stdout",
          "text": [
            "                        name mfr type  calories  protein  fat  sodium  fiber  \\\n",
            "0                  100% Bran   N    C        70        4    1     130   10.0   \n",
            "1          100% Natural Bran   Q    C       120        3    5      15    2.0   \n",
            "2                   All-Bran   K    C        70        4    1     260    9.0   \n",
            "3  All-Bran with Extra Fiber   K    C        50        4    0     140   14.0   \n",
            "4             Almond Delight   R    C       110        2    2     200    1.0   \n",
            "\n",
            "   carbo  sugars  potass  vitamins  shelf  weight  cups      rating  \n",
            "0    5.0       6     280        25      3     1.0  0.33  68.402.973  \n",
            "1    8.0       8     135         0      3     1.0  1.00  33.983.679  \n",
            "2    7.0       5     320        25      3     1.0  0.33  59.425.505  \n",
            "3    8.0       0     330        25      3     1.0  0.50  93.704.912  \n",
            "4   14.0       8      -1        25      3     1.0  0.75  34.384.843  \n"
          ]
        }
      ],
      "source": [
        "import pandas as pd\n",
        "df = pd.read_csv('/content/cereal.csv')\n",
        "print(df.head())"
      ]
    },
    {
      "cell_type": "markdown",
      "source": [
        "2) Mostrar las últimas 5 filas del DataFrame."
      ],
      "metadata": {
        "id": "R7matU6hweGM"
      }
    },
    {
      "cell_type": "code",
      "source": [
        "df.tail()"
      ],
      "metadata": {
        "colab": {
          "base_uri": "https://localhost:8080/",
          "height": 206
        },
        "id": "0Ee0fwxCx_Dy",
        "outputId": "1e74d158-c738-4ce1-89db-5f4dac178aa8"
      },
      "execution_count": 3,
      "outputs": [
        {
          "output_type": "execute_result",
          "data": {
            "text/plain": [
              "                   name mfr type  calories  protein  fat  sodium  fiber  \\\n",
              "72              Triples   G    C       110        2    1     250    0.0   \n",
              "73                 Trix   G    C       110        1    1     140    0.0   \n",
              "74           Wheat Chex   R    C       100        3    1     230    3.0   \n",
              "75             Wheaties   G    C       100        3    1     200    3.0   \n",
              "76  Wheaties Honey Gold   G    C       110        2    1     200    1.0   \n",
              "\n",
              "    carbo  sugars  potass  vitamins  shelf  weight  cups      rating  \n",
              "72   21.0       3      60        25      3     1.0  0.75  39.106.174  \n",
              "73   13.0      12      25        25      2     1.0  1.00  27.753.301  \n",
              "74   17.0       3     115        25      1     1.0  0.67  49.787.445  \n",
              "75   17.0       3     110        25      1     1.0  1.00  51.592.193  \n",
              "76   16.0       8      60        25      1     1.0  0.75  36.187.559  "
            ],
            "text/html": [
              "\n",
              "  <div id=\"df-e46f9052-6ae3-4685-93eb-1a1cb4927c83\" class=\"colab-df-container\">\n",
              "    <div>\n",
              "<style scoped>\n",
              "    .dataframe tbody tr th:only-of-type {\n",
              "        vertical-align: middle;\n",
              "    }\n",
              "\n",
              "    .dataframe tbody tr th {\n",
              "        vertical-align: top;\n",
              "    }\n",
              "\n",
              "    .dataframe thead th {\n",
              "        text-align: right;\n",
              "    }\n",
              "</style>\n",
              "<table border=\"1\" class=\"dataframe\">\n",
              "  <thead>\n",
              "    <tr style=\"text-align: right;\">\n",
              "      <th></th>\n",
              "      <th>name</th>\n",
              "      <th>mfr</th>\n",
              "      <th>type</th>\n",
              "      <th>calories</th>\n",
              "      <th>protein</th>\n",
              "      <th>fat</th>\n",
              "      <th>sodium</th>\n",
              "      <th>fiber</th>\n",
              "      <th>carbo</th>\n",
              "      <th>sugars</th>\n",
              "      <th>potass</th>\n",
              "      <th>vitamins</th>\n",
              "      <th>shelf</th>\n",
              "      <th>weight</th>\n",
              "      <th>cups</th>\n",
              "      <th>rating</th>\n",
              "    </tr>\n",
              "  </thead>\n",
              "  <tbody>\n",
              "    <tr>\n",
              "      <th>72</th>\n",
              "      <td>Triples</td>\n",
              "      <td>G</td>\n",
              "      <td>C</td>\n",
              "      <td>110</td>\n",
              "      <td>2</td>\n",
              "      <td>1</td>\n",
              "      <td>250</td>\n",
              "      <td>0.0</td>\n",
              "      <td>21.0</td>\n",
              "      <td>3</td>\n",
              "      <td>60</td>\n",
              "      <td>25</td>\n",
              "      <td>3</td>\n",
              "      <td>1.0</td>\n",
              "      <td>0.75</td>\n",
              "      <td>39.106.174</td>\n",
              "    </tr>\n",
              "    <tr>\n",
              "      <th>73</th>\n",
              "      <td>Trix</td>\n",
              "      <td>G</td>\n",
              "      <td>C</td>\n",
              "      <td>110</td>\n",
              "      <td>1</td>\n",
              "      <td>1</td>\n",
              "      <td>140</td>\n",
              "      <td>0.0</td>\n",
              "      <td>13.0</td>\n",
              "      <td>12</td>\n",
              "      <td>25</td>\n",
              "      <td>25</td>\n",
              "      <td>2</td>\n",
              "      <td>1.0</td>\n",
              "      <td>1.00</td>\n",
              "      <td>27.753.301</td>\n",
              "    </tr>\n",
              "    <tr>\n",
              "      <th>74</th>\n",
              "      <td>Wheat Chex</td>\n",
              "      <td>R</td>\n",
              "      <td>C</td>\n",
              "      <td>100</td>\n",
              "      <td>3</td>\n",
              "      <td>1</td>\n",
              "      <td>230</td>\n",
              "      <td>3.0</td>\n",
              "      <td>17.0</td>\n",
              "      <td>3</td>\n",
              "      <td>115</td>\n",
              "      <td>25</td>\n",
              "      <td>1</td>\n",
              "      <td>1.0</td>\n",
              "      <td>0.67</td>\n",
              "      <td>49.787.445</td>\n",
              "    </tr>\n",
              "    <tr>\n",
              "      <th>75</th>\n",
              "      <td>Wheaties</td>\n",
              "      <td>G</td>\n",
              "      <td>C</td>\n",
              "      <td>100</td>\n",
              "      <td>3</td>\n",
              "      <td>1</td>\n",
              "      <td>200</td>\n",
              "      <td>3.0</td>\n",
              "      <td>17.0</td>\n",
              "      <td>3</td>\n",
              "      <td>110</td>\n",
              "      <td>25</td>\n",
              "      <td>1</td>\n",
              "      <td>1.0</td>\n",
              "      <td>1.00</td>\n",
              "      <td>51.592.193</td>\n",
              "    </tr>\n",
              "    <tr>\n",
              "      <th>76</th>\n",
              "      <td>Wheaties Honey Gold</td>\n",
              "      <td>G</td>\n",
              "      <td>C</td>\n",
              "      <td>110</td>\n",
              "      <td>2</td>\n",
              "      <td>1</td>\n",
              "      <td>200</td>\n",
              "      <td>1.0</td>\n",
              "      <td>16.0</td>\n",
              "      <td>8</td>\n",
              "      <td>60</td>\n",
              "      <td>25</td>\n",
              "      <td>1</td>\n",
              "      <td>1.0</td>\n",
              "      <td>0.75</td>\n",
              "      <td>36.187.559</td>\n",
              "    </tr>\n",
              "  </tbody>\n",
              "</table>\n",
              "</div>\n",
              "    <div class=\"colab-df-buttons\">\n",
              "\n",
              "  <div class=\"colab-df-container\">\n",
              "    <button class=\"colab-df-convert\" onclick=\"convertToInteractive('df-e46f9052-6ae3-4685-93eb-1a1cb4927c83')\"\n",
              "            title=\"Convert this dataframe to an interactive table.\"\n",
              "            style=\"display:none;\">\n",
              "\n",
              "  <svg xmlns=\"http://www.w3.org/2000/svg\" height=\"24px\" viewBox=\"0 -960 960 960\">\n",
              "    <path d=\"M120-120v-720h720v720H120Zm60-500h600v-160H180v160Zm220 220h160v-160H400v160Zm0 220h160v-160H400v160ZM180-400h160v-160H180v160Zm440 0h160v-160H620v160ZM180-180h160v-160H180v160Zm440 0h160v-160H620v160Z\"/>\n",
              "  </svg>\n",
              "    </button>\n",
              "\n",
              "  <style>\n",
              "    .colab-df-container {\n",
              "      display:flex;\n",
              "      gap: 12px;\n",
              "    }\n",
              "\n",
              "    .colab-df-convert {\n",
              "      background-color: #E8F0FE;\n",
              "      border: none;\n",
              "      border-radius: 50%;\n",
              "      cursor: pointer;\n",
              "      display: none;\n",
              "      fill: #1967D2;\n",
              "      height: 32px;\n",
              "      padding: 0 0 0 0;\n",
              "      width: 32px;\n",
              "    }\n",
              "\n",
              "    .colab-df-convert:hover {\n",
              "      background-color: #E2EBFA;\n",
              "      box-shadow: 0px 1px 2px rgba(60, 64, 67, 0.3), 0px 1px 3px 1px rgba(60, 64, 67, 0.15);\n",
              "      fill: #174EA6;\n",
              "    }\n",
              "\n",
              "    .colab-df-buttons div {\n",
              "      margin-bottom: 4px;\n",
              "    }\n",
              "\n",
              "    [theme=dark] .colab-df-convert {\n",
              "      background-color: #3B4455;\n",
              "      fill: #D2E3FC;\n",
              "    }\n",
              "\n",
              "    [theme=dark] .colab-df-convert:hover {\n",
              "      background-color: #434B5C;\n",
              "      box-shadow: 0px 1px 3px 1px rgba(0, 0, 0, 0.15);\n",
              "      filter: drop-shadow(0px 1px 2px rgba(0, 0, 0, 0.3));\n",
              "      fill: #FFFFFF;\n",
              "    }\n",
              "  </style>\n",
              "\n",
              "    <script>\n",
              "      const buttonEl =\n",
              "        document.querySelector('#df-e46f9052-6ae3-4685-93eb-1a1cb4927c83 button.colab-df-convert');\n",
              "      buttonEl.style.display =\n",
              "        google.colab.kernel.accessAllowed ? 'block' : 'none';\n",
              "\n",
              "      async function convertToInteractive(key) {\n",
              "        const element = document.querySelector('#df-e46f9052-6ae3-4685-93eb-1a1cb4927c83');\n",
              "        const dataTable =\n",
              "          await google.colab.kernel.invokeFunction('convertToInteractive',\n",
              "                                                    [key], {});\n",
              "        if (!dataTable) return;\n",
              "\n",
              "        const docLinkHtml = 'Like what you see? Visit the ' +\n",
              "          '<a target=\"_blank\" href=https://colab.research.google.com/notebooks/data_table.ipynb>data table notebook</a>'\n",
              "          + ' to learn more about interactive tables.';\n",
              "        element.innerHTML = '';\n",
              "        dataTable['output_type'] = 'display_data';\n",
              "        await google.colab.output.renderOutput(dataTable, element);\n",
              "        const docLink = document.createElement('div');\n",
              "        docLink.innerHTML = docLinkHtml;\n",
              "        element.appendChild(docLink);\n",
              "      }\n",
              "    </script>\n",
              "  </div>\n",
              "\n",
              "\n",
              "<div id=\"df-22537aad-5e59-4148-b40a-276a76eace91\">\n",
              "  <button class=\"colab-df-quickchart\" onclick=\"quickchart('df-22537aad-5e59-4148-b40a-276a76eace91')\"\n",
              "            title=\"Suggest charts\"\n",
              "            style=\"display:none;\">\n",
              "\n",
              "<svg xmlns=\"http://www.w3.org/2000/svg\" height=\"24px\"viewBox=\"0 0 24 24\"\n",
              "     width=\"24px\">\n",
              "    <g>\n",
              "        <path d=\"M19 3H5c-1.1 0-2 .9-2 2v14c0 1.1.9 2 2 2h14c1.1 0 2-.9 2-2V5c0-1.1-.9-2-2-2zM9 17H7v-7h2v7zm4 0h-2V7h2v10zm4 0h-2v-4h2v4z\"/>\n",
              "    </g>\n",
              "</svg>\n",
              "  </button>\n",
              "\n",
              "<style>\n",
              "  .colab-df-quickchart {\n",
              "      --bg-color: #E8F0FE;\n",
              "      --fill-color: #1967D2;\n",
              "      --hover-bg-color: #E2EBFA;\n",
              "      --hover-fill-color: #174EA6;\n",
              "      --disabled-fill-color: #AAA;\n",
              "      --disabled-bg-color: #DDD;\n",
              "  }\n",
              "\n",
              "  [theme=dark] .colab-df-quickchart {\n",
              "      --bg-color: #3B4455;\n",
              "      --fill-color: #D2E3FC;\n",
              "      --hover-bg-color: #434B5C;\n",
              "      --hover-fill-color: #FFFFFF;\n",
              "      --disabled-bg-color: #3B4455;\n",
              "      --disabled-fill-color: #666;\n",
              "  }\n",
              "\n",
              "  .colab-df-quickchart {\n",
              "    background-color: var(--bg-color);\n",
              "    border: none;\n",
              "    border-radius: 50%;\n",
              "    cursor: pointer;\n",
              "    display: none;\n",
              "    fill: var(--fill-color);\n",
              "    height: 32px;\n",
              "    padding: 0;\n",
              "    width: 32px;\n",
              "  }\n",
              "\n",
              "  .colab-df-quickchart:hover {\n",
              "    background-color: var(--hover-bg-color);\n",
              "    box-shadow: 0 1px 2px rgba(60, 64, 67, 0.3), 0 1px 3px 1px rgba(60, 64, 67, 0.15);\n",
              "    fill: var(--button-hover-fill-color);\n",
              "  }\n",
              "\n",
              "  .colab-df-quickchart-complete:disabled,\n",
              "  .colab-df-quickchart-complete:disabled:hover {\n",
              "    background-color: var(--disabled-bg-color);\n",
              "    fill: var(--disabled-fill-color);\n",
              "    box-shadow: none;\n",
              "  }\n",
              "\n",
              "  .colab-df-spinner {\n",
              "    border: 2px solid var(--fill-color);\n",
              "    border-color: transparent;\n",
              "    border-bottom-color: var(--fill-color);\n",
              "    animation:\n",
              "      spin 1s steps(1) infinite;\n",
              "  }\n",
              "\n",
              "  @keyframes spin {\n",
              "    0% {\n",
              "      border-color: transparent;\n",
              "      border-bottom-color: var(--fill-color);\n",
              "      border-left-color: var(--fill-color);\n",
              "    }\n",
              "    20% {\n",
              "      border-color: transparent;\n",
              "      border-left-color: var(--fill-color);\n",
              "      border-top-color: var(--fill-color);\n",
              "    }\n",
              "    30% {\n",
              "      border-color: transparent;\n",
              "      border-left-color: var(--fill-color);\n",
              "      border-top-color: var(--fill-color);\n",
              "      border-right-color: var(--fill-color);\n",
              "    }\n",
              "    40% {\n",
              "      border-color: transparent;\n",
              "      border-right-color: var(--fill-color);\n",
              "      border-top-color: var(--fill-color);\n",
              "    }\n",
              "    60% {\n",
              "      border-color: transparent;\n",
              "      border-right-color: var(--fill-color);\n",
              "    }\n",
              "    80% {\n",
              "      border-color: transparent;\n",
              "      border-right-color: var(--fill-color);\n",
              "      border-bottom-color: var(--fill-color);\n",
              "    }\n",
              "    90% {\n",
              "      border-color: transparent;\n",
              "      border-bottom-color: var(--fill-color);\n",
              "    }\n",
              "  }\n",
              "</style>\n",
              "\n",
              "  <script>\n",
              "    async function quickchart(key) {\n",
              "      const quickchartButtonEl =\n",
              "        document.querySelector('#' + key + ' button');\n",
              "      quickchartButtonEl.disabled = true;  // To prevent multiple clicks.\n",
              "      quickchartButtonEl.classList.add('colab-df-spinner');\n",
              "      try {\n",
              "        const charts = await google.colab.kernel.invokeFunction(\n",
              "            'suggestCharts', [key], {});\n",
              "      } catch (error) {\n",
              "        console.error('Error during call to suggestCharts:', error);\n",
              "      }\n",
              "      quickchartButtonEl.classList.remove('colab-df-spinner');\n",
              "      quickchartButtonEl.classList.add('colab-df-quickchart-complete');\n",
              "    }\n",
              "    (() => {\n",
              "      let quickchartButtonEl =\n",
              "        document.querySelector('#df-22537aad-5e59-4148-b40a-276a76eace91 button');\n",
              "      quickchartButtonEl.style.display =\n",
              "        google.colab.kernel.accessAllowed ? 'block' : 'none';\n",
              "    })();\n",
              "  </script>\n",
              "</div>\n",
              "\n",
              "    </div>\n",
              "  </div>\n"
            ],
            "application/vnd.google.colaboratory.intrinsic+json": {
              "type": "dataframe",
              "summary": "{\n  \"name\": \"df\",\n  \"rows\": 5,\n  \"fields\": [\n    {\n      \"column\": \"name\",\n      \"properties\": {\n        \"dtype\": \"string\",\n        \"num_unique_values\": 5,\n        \"samples\": [\n          \"Trix\",\n          \"Wheaties Honey Gold\",\n          \"Wheat Chex\"\n        ],\n        \"semantic_type\": \"\",\n        \"description\": \"\"\n      }\n    },\n    {\n      \"column\": \"mfr\",\n      \"properties\": {\n        \"dtype\": \"category\",\n        \"num_unique_values\": 2,\n        \"samples\": [\n          \"R\",\n          \"G\"\n        ],\n        \"semantic_type\": \"\",\n        \"description\": \"\"\n      }\n    },\n    {\n      \"column\": \"type\",\n      \"properties\": {\n        \"dtype\": \"category\",\n        \"num_unique_values\": 1,\n        \"samples\": [\n          \"C\"\n        ],\n        \"semantic_type\": \"\",\n        \"description\": \"\"\n      }\n    },\n    {\n      \"column\": \"calories\",\n      \"properties\": {\n        \"dtype\": \"number\",\n        \"std\": 5,\n        \"min\": 100,\n        \"max\": 110,\n        \"num_unique_values\": 2,\n        \"samples\": [\n          100\n        ],\n        \"semantic_type\": \"\",\n        \"description\": \"\"\n      }\n    },\n    {\n      \"column\": \"protein\",\n      \"properties\": {\n        \"dtype\": \"number\",\n        \"std\": 0,\n        \"min\": 1,\n        \"max\": 3,\n        \"num_unique_values\": 3,\n        \"samples\": [\n          2\n        ],\n        \"semantic_type\": \"\",\n        \"description\": \"\"\n      }\n    },\n    {\n      \"column\": \"fat\",\n      \"properties\": {\n        \"dtype\": \"number\",\n        \"std\": 0,\n        \"min\": 1,\n        \"max\": 1,\n        \"num_unique_values\": 1,\n        \"samples\": [\n          1\n        ],\n        \"semantic_type\": \"\",\n        \"description\": \"\"\n      }\n    },\n    {\n      \"column\": \"sodium\",\n      \"properties\": {\n        \"dtype\": \"number\",\n        \"std\": 41,\n        \"min\": 140,\n        \"max\": 250,\n        \"num_unique_values\": 4,\n        \"samples\": [\n          140\n        ],\n        \"semantic_type\": \"\",\n        \"description\": \"\"\n      }\n    },\n    {\n      \"column\": \"fiber\",\n      \"properties\": {\n        \"dtype\": \"number\",\n        \"std\": 1.5165750888103102,\n        \"min\": 0.0,\n        \"max\": 3.0,\n        \"num_unique_values\": 3,\n        \"samples\": [\n          0.0\n        ],\n        \"semantic_type\": \"\",\n        \"description\": \"\"\n      }\n    },\n    {\n      \"column\": \"carbo\",\n      \"properties\": {\n        \"dtype\": \"number\",\n        \"std\": 2.8635642126552705,\n        \"min\": 13.0,\n        \"max\": 21.0,\n        \"num_unique_values\": 4,\n        \"samples\": [\n          13.0\n        ],\n        \"semantic_type\": \"\",\n        \"description\": \"\"\n      }\n    },\n    {\n      \"column\": \"sugars\",\n      \"properties\": {\n        \"dtype\": \"number\",\n        \"std\": 4,\n        \"min\": 3,\n        \"max\": 12,\n        \"num_unique_values\": 3,\n        \"samples\": [\n          3\n        ],\n        \"semantic_type\": \"\",\n        \"description\": \"\"\n      }\n    },\n    {\n      \"column\": \"potass\",\n      \"properties\": {\n        \"dtype\": \"number\",\n        \"std\": 37,\n        \"min\": 25,\n        \"max\": 115,\n        \"num_unique_values\": 4,\n        \"samples\": [\n          25\n        ],\n        \"semantic_type\": \"\",\n        \"description\": \"\"\n      }\n    },\n    {\n      \"column\": \"vitamins\",\n      \"properties\": {\n        \"dtype\": \"number\",\n        \"std\": 0,\n        \"min\": 25,\n        \"max\": 25,\n        \"num_unique_values\": 1,\n        \"samples\": [\n          25\n        ],\n        \"semantic_type\": \"\",\n        \"description\": \"\"\n      }\n    },\n    {\n      \"column\": \"shelf\",\n      \"properties\": {\n        \"dtype\": \"number\",\n        \"std\": 0,\n        \"min\": 1,\n        \"max\": 3,\n        \"num_unique_values\": 3,\n        \"samples\": [\n          3\n        ],\n        \"semantic_type\": \"\",\n        \"description\": \"\"\n      }\n    },\n    {\n      \"column\": \"weight\",\n      \"properties\": {\n        \"dtype\": \"number\",\n        \"std\": 0.0,\n        \"min\": 1.0,\n        \"max\": 1.0,\n        \"num_unique_values\": 1,\n        \"samples\": [\n          1.0\n        ],\n        \"semantic_type\": \"\",\n        \"description\": \"\"\n      }\n    },\n    {\n      \"column\": \"cups\",\n      \"properties\": {\n        \"dtype\": \"number\",\n        \"std\": 0.15501612819316574,\n        \"min\": 0.67,\n        \"max\": 1.0,\n        \"num_unique_values\": 3,\n        \"samples\": [\n          0.75\n        ],\n        \"semantic_type\": \"\",\n        \"description\": \"\"\n      }\n    },\n    {\n      \"column\": \"rating\",\n      \"properties\": {\n        \"dtype\": \"string\",\n        \"num_unique_values\": 5,\n        \"samples\": [\n          \"27.753.301\"\n        ],\n        \"semantic_type\": \"\",\n        \"description\": \"\"\n      }\n    }\n  ]\n}"
            }
          },
          "metadata": {},
          "execution_count": 3
        }
      ]
    },
    {
      "cell_type": "markdown",
      "source": [
        "3) Obtener información general del DataFrame, incluyendo el tipo de dato de cada columna."
      ],
      "metadata": {
        "id": "pYiRkDXsx_ZX"
      }
    },
    {
      "cell_type": "code",
      "source": [
        "df.info()"
      ],
      "metadata": {
        "colab": {
          "base_uri": "https://localhost:8080/"
        },
        "id": "PN14OFViyJjY",
        "outputId": "3460964b-cad5-48b2-b2b2-38928a43c32f"
      },
      "execution_count": 4,
      "outputs": [
        {
          "output_type": "stream",
          "name": "stdout",
          "text": [
            "<class 'pandas.core.frame.DataFrame'>\n",
            "RangeIndex: 77 entries, 0 to 76\n",
            "Data columns (total 16 columns):\n",
            " #   Column    Non-Null Count  Dtype  \n",
            "---  ------    --------------  -----  \n",
            " 0   name      77 non-null     object \n",
            " 1   mfr       77 non-null     object \n",
            " 2   type      77 non-null     object \n",
            " 3   calories  77 non-null     int64  \n",
            " 4   protein   77 non-null     int64  \n",
            " 5   fat       77 non-null     int64  \n",
            " 6   sodium    77 non-null     int64  \n",
            " 7   fiber     77 non-null     float64\n",
            " 8   carbo     77 non-null     float64\n",
            " 9   sugars    77 non-null     int64  \n",
            " 10  potass    77 non-null     int64  \n",
            " 11  vitamins  77 non-null     int64  \n",
            " 12  shelf     77 non-null     int64  \n",
            " 13  weight    77 non-null     float64\n",
            " 14  cups      77 non-null     float64\n",
            " 15  rating    77 non-null     object \n",
            "dtypes: float64(4), int64(8), object(4)\n",
            "memory usage: 9.8+ KB\n"
          ]
        }
      ]
    },
    {
      "cell_type": "markdown",
      "source": [
        "4) Crear un subconjunto de datos que solo incluya las columnas name, calories, y protein."
      ],
      "metadata": {
        "id": "zZo2cWZlyKUH"
      }
    },
    {
      "cell_type": "code",
      "source": [
        "subset = df[['name', 'calories', 'protein']]\n",
        "subset.head()"
      ],
      "metadata": {
        "colab": {
          "base_uri": "https://localhost:8080/",
          "height": 206
        },
        "id": "QAWX9UuUyPEC",
        "outputId": "efb5035a-d832-4666-f1b5-4cb80ee51673"
      },
      "execution_count": 5,
      "outputs": [
        {
          "output_type": "execute_result",
          "data": {
            "text/plain": [
              "                        name  calories  protein\n",
              "0                  100% Bran        70        4\n",
              "1          100% Natural Bran       120        3\n",
              "2                   All-Bran        70        4\n",
              "3  All-Bran with Extra Fiber        50        4\n",
              "4             Almond Delight       110        2"
            ],
            "text/html": [
              "\n",
              "  <div id=\"df-418769ec-d8fc-409f-bf2d-4f6363348127\" class=\"colab-df-container\">\n",
              "    <div>\n",
              "<style scoped>\n",
              "    .dataframe tbody tr th:only-of-type {\n",
              "        vertical-align: middle;\n",
              "    }\n",
              "\n",
              "    .dataframe tbody tr th {\n",
              "        vertical-align: top;\n",
              "    }\n",
              "\n",
              "    .dataframe thead th {\n",
              "        text-align: right;\n",
              "    }\n",
              "</style>\n",
              "<table border=\"1\" class=\"dataframe\">\n",
              "  <thead>\n",
              "    <tr style=\"text-align: right;\">\n",
              "      <th></th>\n",
              "      <th>name</th>\n",
              "      <th>calories</th>\n",
              "      <th>protein</th>\n",
              "    </tr>\n",
              "  </thead>\n",
              "  <tbody>\n",
              "    <tr>\n",
              "      <th>0</th>\n",
              "      <td>100% Bran</td>\n",
              "      <td>70</td>\n",
              "      <td>4</td>\n",
              "    </tr>\n",
              "    <tr>\n",
              "      <th>1</th>\n",
              "      <td>100% Natural Bran</td>\n",
              "      <td>120</td>\n",
              "      <td>3</td>\n",
              "    </tr>\n",
              "    <tr>\n",
              "      <th>2</th>\n",
              "      <td>All-Bran</td>\n",
              "      <td>70</td>\n",
              "      <td>4</td>\n",
              "    </tr>\n",
              "    <tr>\n",
              "      <th>3</th>\n",
              "      <td>All-Bran with Extra Fiber</td>\n",
              "      <td>50</td>\n",
              "      <td>4</td>\n",
              "    </tr>\n",
              "    <tr>\n",
              "      <th>4</th>\n",
              "      <td>Almond Delight</td>\n",
              "      <td>110</td>\n",
              "      <td>2</td>\n",
              "    </tr>\n",
              "  </tbody>\n",
              "</table>\n",
              "</div>\n",
              "    <div class=\"colab-df-buttons\">\n",
              "\n",
              "  <div class=\"colab-df-container\">\n",
              "    <button class=\"colab-df-convert\" onclick=\"convertToInteractive('df-418769ec-d8fc-409f-bf2d-4f6363348127')\"\n",
              "            title=\"Convert this dataframe to an interactive table.\"\n",
              "            style=\"display:none;\">\n",
              "\n",
              "  <svg xmlns=\"http://www.w3.org/2000/svg\" height=\"24px\" viewBox=\"0 -960 960 960\">\n",
              "    <path d=\"M120-120v-720h720v720H120Zm60-500h600v-160H180v160Zm220 220h160v-160H400v160Zm0 220h160v-160H400v160ZM180-400h160v-160H180v160Zm440 0h160v-160H620v160ZM180-180h160v-160H180v160Zm440 0h160v-160H620v160Z\"/>\n",
              "  </svg>\n",
              "    </button>\n",
              "\n",
              "  <style>\n",
              "    .colab-df-container {\n",
              "      display:flex;\n",
              "      gap: 12px;\n",
              "    }\n",
              "\n",
              "    .colab-df-convert {\n",
              "      background-color: #E8F0FE;\n",
              "      border: none;\n",
              "      border-radius: 50%;\n",
              "      cursor: pointer;\n",
              "      display: none;\n",
              "      fill: #1967D2;\n",
              "      height: 32px;\n",
              "      padding: 0 0 0 0;\n",
              "      width: 32px;\n",
              "    }\n",
              "\n",
              "    .colab-df-convert:hover {\n",
              "      background-color: #E2EBFA;\n",
              "      box-shadow: 0px 1px 2px rgba(60, 64, 67, 0.3), 0px 1px 3px 1px rgba(60, 64, 67, 0.15);\n",
              "      fill: #174EA6;\n",
              "    }\n",
              "\n",
              "    .colab-df-buttons div {\n",
              "      margin-bottom: 4px;\n",
              "    }\n",
              "\n",
              "    [theme=dark] .colab-df-convert {\n",
              "      background-color: #3B4455;\n",
              "      fill: #D2E3FC;\n",
              "    }\n",
              "\n",
              "    [theme=dark] .colab-df-convert:hover {\n",
              "      background-color: #434B5C;\n",
              "      box-shadow: 0px 1px 3px 1px rgba(0, 0, 0, 0.15);\n",
              "      filter: drop-shadow(0px 1px 2px rgba(0, 0, 0, 0.3));\n",
              "      fill: #FFFFFF;\n",
              "    }\n",
              "  </style>\n",
              "\n",
              "    <script>\n",
              "      const buttonEl =\n",
              "        document.querySelector('#df-418769ec-d8fc-409f-bf2d-4f6363348127 button.colab-df-convert');\n",
              "      buttonEl.style.display =\n",
              "        google.colab.kernel.accessAllowed ? 'block' : 'none';\n",
              "\n",
              "      async function convertToInteractive(key) {\n",
              "        const element = document.querySelector('#df-418769ec-d8fc-409f-bf2d-4f6363348127');\n",
              "        const dataTable =\n",
              "          await google.colab.kernel.invokeFunction('convertToInteractive',\n",
              "                                                    [key], {});\n",
              "        if (!dataTable) return;\n",
              "\n",
              "        const docLinkHtml = 'Like what you see? Visit the ' +\n",
              "          '<a target=\"_blank\" href=https://colab.research.google.com/notebooks/data_table.ipynb>data table notebook</a>'\n",
              "          + ' to learn more about interactive tables.';\n",
              "        element.innerHTML = '';\n",
              "        dataTable['output_type'] = 'display_data';\n",
              "        await google.colab.output.renderOutput(dataTable, element);\n",
              "        const docLink = document.createElement('div');\n",
              "        docLink.innerHTML = docLinkHtml;\n",
              "        element.appendChild(docLink);\n",
              "      }\n",
              "    </script>\n",
              "  </div>\n",
              "\n",
              "\n",
              "<div id=\"df-d1de77a6-44d4-4b52-ba6e-ff97c352651e\">\n",
              "  <button class=\"colab-df-quickchart\" onclick=\"quickchart('df-d1de77a6-44d4-4b52-ba6e-ff97c352651e')\"\n",
              "            title=\"Suggest charts\"\n",
              "            style=\"display:none;\">\n",
              "\n",
              "<svg xmlns=\"http://www.w3.org/2000/svg\" height=\"24px\"viewBox=\"0 0 24 24\"\n",
              "     width=\"24px\">\n",
              "    <g>\n",
              "        <path d=\"M19 3H5c-1.1 0-2 .9-2 2v14c0 1.1.9 2 2 2h14c1.1 0 2-.9 2-2V5c0-1.1-.9-2-2-2zM9 17H7v-7h2v7zm4 0h-2V7h2v10zm4 0h-2v-4h2v4z\"/>\n",
              "    </g>\n",
              "</svg>\n",
              "  </button>\n",
              "\n",
              "<style>\n",
              "  .colab-df-quickchart {\n",
              "      --bg-color: #E8F0FE;\n",
              "      --fill-color: #1967D2;\n",
              "      --hover-bg-color: #E2EBFA;\n",
              "      --hover-fill-color: #174EA6;\n",
              "      --disabled-fill-color: #AAA;\n",
              "      --disabled-bg-color: #DDD;\n",
              "  }\n",
              "\n",
              "  [theme=dark] .colab-df-quickchart {\n",
              "      --bg-color: #3B4455;\n",
              "      --fill-color: #D2E3FC;\n",
              "      --hover-bg-color: #434B5C;\n",
              "      --hover-fill-color: #FFFFFF;\n",
              "      --disabled-bg-color: #3B4455;\n",
              "      --disabled-fill-color: #666;\n",
              "  }\n",
              "\n",
              "  .colab-df-quickchart {\n",
              "    background-color: var(--bg-color);\n",
              "    border: none;\n",
              "    border-radius: 50%;\n",
              "    cursor: pointer;\n",
              "    display: none;\n",
              "    fill: var(--fill-color);\n",
              "    height: 32px;\n",
              "    padding: 0;\n",
              "    width: 32px;\n",
              "  }\n",
              "\n",
              "  .colab-df-quickchart:hover {\n",
              "    background-color: var(--hover-bg-color);\n",
              "    box-shadow: 0 1px 2px rgba(60, 64, 67, 0.3), 0 1px 3px 1px rgba(60, 64, 67, 0.15);\n",
              "    fill: var(--button-hover-fill-color);\n",
              "  }\n",
              "\n",
              "  .colab-df-quickchart-complete:disabled,\n",
              "  .colab-df-quickchart-complete:disabled:hover {\n",
              "    background-color: var(--disabled-bg-color);\n",
              "    fill: var(--disabled-fill-color);\n",
              "    box-shadow: none;\n",
              "  }\n",
              "\n",
              "  .colab-df-spinner {\n",
              "    border: 2px solid var(--fill-color);\n",
              "    border-color: transparent;\n",
              "    border-bottom-color: var(--fill-color);\n",
              "    animation:\n",
              "      spin 1s steps(1) infinite;\n",
              "  }\n",
              "\n",
              "  @keyframes spin {\n",
              "    0% {\n",
              "      border-color: transparent;\n",
              "      border-bottom-color: var(--fill-color);\n",
              "      border-left-color: var(--fill-color);\n",
              "    }\n",
              "    20% {\n",
              "      border-color: transparent;\n",
              "      border-left-color: var(--fill-color);\n",
              "      border-top-color: var(--fill-color);\n",
              "    }\n",
              "    30% {\n",
              "      border-color: transparent;\n",
              "      border-left-color: var(--fill-color);\n",
              "      border-top-color: var(--fill-color);\n",
              "      border-right-color: var(--fill-color);\n",
              "    }\n",
              "    40% {\n",
              "      border-color: transparent;\n",
              "      border-right-color: var(--fill-color);\n",
              "      border-top-color: var(--fill-color);\n",
              "    }\n",
              "    60% {\n",
              "      border-color: transparent;\n",
              "      border-right-color: var(--fill-color);\n",
              "    }\n",
              "    80% {\n",
              "      border-color: transparent;\n",
              "      border-right-color: var(--fill-color);\n",
              "      border-bottom-color: var(--fill-color);\n",
              "    }\n",
              "    90% {\n",
              "      border-color: transparent;\n",
              "      border-bottom-color: var(--fill-color);\n",
              "    }\n",
              "  }\n",
              "</style>\n",
              "\n",
              "  <script>\n",
              "    async function quickchart(key) {\n",
              "      const quickchartButtonEl =\n",
              "        document.querySelector('#' + key + ' button');\n",
              "      quickchartButtonEl.disabled = true;  // To prevent multiple clicks.\n",
              "      quickchartButtonEl.classList.add('colab-df-spinner');\n",
              "      try {\n",
              "        const charts = await google.colab.kernel.invokeFunction(\n",
              "            'suggestCharts', [key], {});\n",
              "      } catch (error) {\n",
              "        console.error('Error during call to suggestCharts:', error);\n",
              "      }\n",
              "      quickchartButtonEl.classList.remove('colab-df-spinner');\n",
              "      quickchartButtonEl.classList.add('colab-df-quickchart-complete');\n",
              "    }\n",
              "    (() => {\n",
              "      let quickchartButtonEl =\n",
              "        document.querySelector('#df-d1de77a6-44d4-4b52-ba6e-ff97c352651e button');\n",
              "      quickchartButtonEl.style.display =\n",
              "        google.colab.kernel.accessAllowed ? 'block' : 'none';\n",
              "    })();\n",
              "  </script>\n",
              "</div>\n",
              "\n",
              "    </div>\n",
              "  </div>\n"
            ],
            "application/vnd.google.colaboratory.intrinsic+json": {
              "type": "dataframe",
              "variable_name": "subset",
              "summary": "{\n  \"name\": \"subset\",\n  \"rows\": 77,\n  \"fields\": [\n    {\n      \"column\": \"name\",\n      \"properties\": {\n        \"dtype\": \"string\",\n        \"num_unique_values\": 77,\n        \"samples\": [\n          \"Almond Delight\",\n          \"Honey Graham Ohs\",\n          \"Cap'n'Crunch\"\n        ],\n        \"semantic_type\": \"\",\n        \"description\": \"\"\n      }\n    },\n    {\n      \"column\": \"calories\",\n      \"properties\": {\n        \"dtype\": \"number\",\n        \"std\": 19,\n        \"min\": 50,\n        \"max\": 160,\n        \"num_unique_values\": 11,\n        \"samples\": [\n          90,\n          70,\n          160\n        ],\n        \"semantic_type\": \"\",\n        \"description\": \"\"\n      }\n    },\n    {\n      \"column\": \"protein\",\n      \"properties\": {\n        \"dtype\": \"number\",\n        \"std\": 1,\n        \"min\": 1,\n        \"max\": 6,\n        \"num_unique_values\": 6,\n        \"samples\": [\n          4,\n          3,\n          5\n        ],\n        \"semantic_type\": \"\",\n        \"description\": \"\"\n      }\n    }\n  ]\n}"
            }
          },
          "metadata": {},
          "execution_count": 5
        }
      ]
    },
    {
      "cell_type": "markdown",
      "source": [
        "5) Seleccionar todos los cereales fabricados por \"N\" o \"Q\"."
      ],
      "metadata": {
        "id": "BGL03ENbyPg8"
      }
    },
    {
      "cell_type": "code",
      "source": [
        "print(df[df['mfr'].isin(['N', 'Q'])])"
      ],
      "metadata": {
        "colab": {
          "base_uri": "https://localhost:8080/"
        },
        "id": "0jUZzDg_yddq",
        "outputId": "7c143736-e177-4ea0-c463-cf26130d8ca7"
      },
      "execution_count": 6,
      "outputs": [
        {
          "output_type": "stream",
          "name": "stdout",
          "text": [
            "                         name mfr type  calories  protein  fat  sodium  fiber  \\\n",
            "0                   100% Bran   N    C        70        4    1     130   10.0   \n",
            "1           100% Natural Bran   Q    C       120        3    5      15    2.0   \n",
            "10               Cap'n'Crunch   Q    C       120        1    2     220    0.0   \n",
            "20     Cream of Wheat (Quick)   N    H       100        3    0      80    1.0   \n",
            "35           Honey Graham Ohs   Q    C       120        1    2     220    1.0   \n",
            "41                       Life   Q    C       100        4    2     150    2.0   \n",
            "54                Puffed Rice   Q    C        50        1    0       0    0.0   \n",
            "55               Puffed Wheat   Q    C        50        2    0       0    1.0   \n",
            "56         Quaker Oat Squares   Q    C       100        4    1     135    2.0   \n",
            "57             Quaker Oatmeal   Q    H       100        5    2       0    2.7   \n",
            "63             Shredded Wheat   N    C        80        2    0       0    3.0   \n",
            "64     Shredded Wheat 'n'Bran   N    C        90        3    0       0    4.0   \n",
            "65  Shredded Wheat spoon size   N    C        90        3    0       0    3.0   \n",
            "68    Strawberry Fruit Wheats   N    C        90        2    0      15    3.0   \n",
            "\n",
            "    carbo  sugars  potass  vitamins  shelf  weight  cups      rating  \n",
            "0     5.0       6     280        25      3    1.00  0.33  68.402.973  \n",
            "1     8.0       8     135         0      3    1.00  1.00  33.983.679  \n",
            "10   12.0      12      35        25      2    1.00  0.75  18.042.851  \n",
            "20   21.0       0      -1         0      2    1.00  1.00  64.533.816  \n",
            "35   12.0      11      45        25      2    1.00  1.00  21.871.292  \n",
            "41   12.0       6      95        25      2    1.00  0.67  45.328.074  \n",
            "54   13.0       0      15         0      3    0.50  1.00  60.756.112  \n",
            "55   10.0       0      50         0      3    0.50  1.00  63.005.645  \n",
            "56   14.0       6     110        25      3    1.00  0.50  49.511.874  \n",
            "57   -1.0      -1     110         0      1    1.00  0.67  50.828.392  \n",
            "63   16.0       0      95         0      1    0.83  1.00  68.235.885  \n",
            "64   19.0       0     140         0      1    1.00  0.67  74.472.949  \n",
            "65   20.0       0     120         0      1    1.00  0.67  72.801.787  \n",
            "68   15.0       5      90        25      2    1.00  1.00  59.363.993  \n"
          ]
        }
      ]
    },
    {
      "cell_type": "markdown",
      "source": [
        "6) Utilizar loc para seleccionar las columnas name y rating de los primeros 5 registros."
      ],
      "metadata": {
        "id": "QqCYS5YAyd7G"
      }
    },
    {
      "cell_type": "code",
      "source": [
        "print(df.loc[:4, ['name', 'rating']])"
      ],
      "metadata": {
        "colab": {
          "base_uri": "https://localhost:8080/"
        },
        "id": "tl3NxUAuy-U2",
        "outputId": "2fc3e5bc-9102-4e08-96e5-f0862306d449"
      },
      "execution_count": 7,
      "outputs": [
        {
          "output_type": "stream",
          "name": "stdout",
          "text": [
            "                        name      rating\n",
            "0                  100% Bran  68.402.973\n",
            "1          100% Natural Bran  33.983.679\n",
            "2                   All-Bran  59.425.505\n",
            "3  All-Bran with Extra Fiber  93.704.912\n",
            "4             Almond Delight  34.384.843\n"
          ]
        }
      ]
    },
    {
      "cell_type": "markdown",
      "source": [
        "7) Utilizar iloc para seleccionar las primeras 3 filas y las primeras 4 columnas."
      ],
      "metadata": {
        "id": "KxRb9k9zzBXn"
      }
    },
    {
      "cell_type": "code",
      "source": [
        "print(df.iloc[:3, :4])"
      ],
      "metadata": {
        "colab": {
          "base_uri": "https://localhost:8080/"
        },
        "id": "SU6AakOQzFvF",
        "outputId": "b8c8564a-a101-4f36-ecb5-89a9d916177c"
      },
      "execution_count": 8,
      "outputs": [
        {
          "output_type": "stream",
          "name": "stdout",
          "text": [
            "                name mfr type  calories\n",
            "0          100% Bran   N    C        70\n",
            "1  100% Natural Bran   Q    C       120\n",
            "2           All-Bran   K    C        70\n"
          ]
        }
      ]
    },
    {
      "cell_type": "markdown",
      "source": [
        "8) Mostrar los valores únicos de la columna type."
      ],
      "metadata": {
        "id": "Tmk_kuVBzINb"
      }
    },
    {
      "cell_type": "code",
      "source": [
        "print(df['type'].unique())"
      ],
      "metadata": {
        "colab": {
          "base_uri": "https://localhost:8080/"
        },
        "id": "dwggEz4kzNUQ",
        "outputId": "1aefd3d8-033f-42d7-bfa0-c0beded520fe"
      },
      "execution_count": 9,
      "outputs": [
        {
          "output_type": "stream",
          "name": "stdout",
          "text": [
            "['C' 'H']\n"
          ]
        }
      ]
    },
    {
      "cell_type": "markdown",
      "source": [
        "9) Agrupar los cereales por mfr y calcular el promedio de sugars para cada grupo."
      ],
      "metadata": {
        "id": "ET8n22xgzPZ3"
      }
    },
    {
      "cell_type": "code",
      "source": [
        "print(df.groupby('mfr')['sugars'].mean())"
      ],
      "metadata": {
        "colab": {
          "base_uri": "https://localhost:8080/"
        },
        "id": "0EXsZinczU2i",
        "outputId": "75499344-50e2-48e1-dd41-c8029f2452fb"
      },
      "execution_count": 10,
      "outputs": [
        {
          "output_type": "stream",
          "name": "stdout",
          "text": [
            "mfr\n",
            "A    3.000000\n",
            "G    7.954545\n",
            "K    7.565217\n",
            "N    1.833333\n",
            "P    8.777778\n",
            "Q    5.250000\n",
            "R    6.125000\n",
            "Name: sugars, dtype: float64\n"
          ]
        }
      ]
    },
    {
      "cell_type": "markdown",
      "source": [
        "10) Ordenar el DataFrame por la columna calories de forma ascendente."
      ],
      "metadata": {
        "id": "wsdbL4LQzXHV"
      }
    },
    {
      "cell_type": "code",
      "source": [
        "print(df.sort_values('calories').head())"
      ],
      "metadata": {
        "colab": {
          "base_uri": "https://localhost:8080/"
        },
        "id": "Ns6zWv4mzbsi",
        "outputId": "f0ff64d7-7b7f-4ee9-dc8f-9279461d0923"
      },
      "execution_count": 11,
      "outputs": [
        {
          "output_type": "stream",
          "name": "stdout",
          "text": [
            "                         name mfr type  calories  protein  fat  sodium  fiber  \\\n",
            "3   All-Bran with Extra Fiber   K    C        50        4    0     140   14.0   \n",
            "54                Puffed Rice   Q    C        50        1    0       0    0.0   \n",
            "55               Puffed Wheat   Q    C        50        2    0       0    1.0   \n",
            "0                   100% Bran   N    C        70        4    1     130   10.0   \n",
            "2                    All-Bran   K    C        70        4    1     260    9.0   \n",
            "\n",
            "    carbo  sugars  potass  vitamins  shelf  weight  cups      rating  \n",
            "3     8.0       0     330        25      3     1.0  0.50  93.704.912  \n",
            "54   13.0       0      15         0      3     0.5  1.00  60.756.112  \n",
            "55   10.0       0      50         0      3     0.5  1.00  63.005.645  \n",
            "0     5.0       6     280        25      3     1.0  0.33  68.402.973  \n",
            "2     7.0       5     320        25      3     1.0  0.33  59.425.505  \n"
          ]
        }
      ]
    },
    {
      "cell_type": "markdown",
      "source": [
        "11) Filtrar los cereales que contienen más de 5 gramos de proteína (protein) y menos de 100 calorías (calories)."
      ],
      "metadata": {
        "id": "oukvPu1l4IBJ"
      }
    },
    {
      "cell_type": "code",
      "source": [
        "print(df[(df['protein'] > 5) & (df['calories'] < 100)])"
      ],
      "metadata": {
        "id": "h2ld2qxK4KiF",
        "colab": {
          "base_uri": "https://localhost:8080/"
        },
        "outputId": "e9989ca6-df39-460f-ac0b-bae698cf98d3"
      },
      "execution_count": 12,
      "outputs": [
        {
          "output_type": "stream",
          "name": "stdout",
          "text": [
            "Empty DataFrame\n",
            "Columns: [name, mfr, type, calories, protein, fat, sodium, fiber, carbo, sugars, potass, vitamins, shelf, weight, cups, rating]\n",
            "Index: []\n"
          ]
        }
      ]
    },
    {
      "cell_type": "markdown",
      "source": [
        "12) Clasificar los cereales por su calificación (rating), de mayor a menor, y mostrar los top 5."
      ],
      "metadata": {
        "id": "3VNCGrbq4NTs"
      }
    },
    {
      "cell_type": "code",
      "source": [
        "print(df.sort_values('rating', ascending=False).head(5))"
      ],
      "metadata": {
        "colab": {
          "base_uri": "https://localhost:8080/"
        },
        "id": "ag4OMr804RxY",
        "outputId": "cf2289b1-9c04-4740-a3d3-c58178ab1d4c"
      },
      "execution_count": 13,
      "outputs": [
        {
          "output_type": "stream",
          "name": "stdout",
          "text": [
            "                         name mfr type  calories  protein  fat  sodium  fiber  \\\n",
            "3   All-Bran with Extra Fiber   K    C        50        4    0     140   14.0   \n",
            "64     Shredded Wheat 'n'Bran   N    C        90        3    0       0    4.0   \n",
            "65  Shredded Wheat spoon size   N    C        90        3    0       0    3.0   \n",
            "0                   100% Bran   N    C        70        4    1     130   10.0   \n",
            "63             Shredded Wheat   N    C        80        2    0       0    3.0   \n",
            "\n",
            "    carbo  sugars  potass  vitamins  shelf  weight  cups      rating  \n",
            "3     8.0       0     330        25      3    1.00  0.50  93.704.912  \n",
            "64   19.0       0     140         0      1    1.00  0.67  74.472.949  \n",
            "65   20.0       0     120         0      1    1.00  0.67  72.801.787  \n",
            "0     5.0       6     280        25      3    1.00  0.33  68.402.973  \n",
            "63   16.0       0      95         0      1    0.83  1.00  68.235.885  \n"
          ]
        }
      ]
    },
    {
      "cell_type": "markdown",
      "source": [
        "13) Muestra todos los nombres de cereales que tengan más de 70 de calorias"
      ],
      "metadata": {
        "id": "QSY16HWg4Tm5"
      }
    },
    {
      "cell_type": "code",
      "source": [
        "print(df[df['calories'] > 70].name)\n",
        "print(df.loc[df['calories'] > 70, ['name', 'calories']])\n",
        "\n",
        "#otra forma sin usar loc\n",
        "filtered_df = df[df['calories'] > 70]\n",
        "print(filtered_df[['name', 'calories']])"
      ],
      "metadata": {
        "colab": {
          "base_uri": "https://localhost:8080/"
        },
        "id": "fVr-KWSV7B1k",
        "outputId": "72b7f7bd-4faf-4f27-a6b8-cb4dc2839f77"
      },
      "execution_count": 14,
      "outputs": [
        {
          "output_type": "stream",
          "name": "stdout",
          "text": [
            "1           100% Natural Bran\n",
            "4              Almond Delight\n",
            "5     Apple Cinnamon Cheerios\n",
            "6                 Apple Jacks\n",
            "7                     Basic 4\n",
            "               ...           \n",
            "72                    Triples\n",
            "73                       Trix\n",
            "74                 Wheat Chex\n",
            "75                   Wheaties\n",
            "76        Wheaties Honey Gold\n",
            "Name: name, Length: 72, dtype: object\n",
            "                       name  calories\n",
            "1         100% Natural Bran       120\n",
            "4            Almond Delight       110\n",
            "5   Apple Cinnamon Cheerios       110\n",
            "6               Apple Jacks       110\n",
            "7                   Basic 4       130\n",
            "..                      ...       ...\n",
            "72                  Triples       110\n",
            "73                     Trix       110\n",
            "74               Wheat Chex       100\n",
            "75                 Wheaties       100\n",
            "76      Wheaties Honey Gold       110\n",
            "\n",
            "[72 rows x 2 columns]\n",
            "                       name  calories\n",
            "1         100% Natural Bran       120\n",
            "4            Almond Delight       110\n",
            "5   Apple Cinnamon Cheerios       110\n",
            "6               Apple Jacks       110\n",
            "7                   Basic 4       130\n",
            "..                      ...       ...\n",
            "72                  Triples       110\n",
            "73                     Trix       110\n",
            "74               Wheat Chex       100\n",
            "75                 Wheaties       100\n",
            "76      Wheaties Honey Gold       110\n",
            "\n",
            "[72 rows x 2 columns]\n"
          ]
        }
      ]
    },
    {
      "cell_type": "markdown",
      "source": [
        "14) # ¿Cuántas calorias se han contabilizado por cada tipo de cereal (type)?"
      ],
      "metadata": {
        "id": "QSw9SAec9QGr"
      }
    },
    {
      "cell_type": "code",
      "source": [
        "df.groupby(\"type\")[\"calories\"].sum()"
      ],
      "metadata": {
        "colab": {
          "base_uri": "https://localhost:8080/",
          "height": 178
        },
        "id": "2EojJym19okU",
        "outputId": "893daedc-c7b8-43b2-d8ad-b15031d9c9d9"
      },
      "execution_count": 15,
      "outputs": [
        {
          "output_type": "execute_result",
          "data": {
            "text/plain": [
              "type\n",
              "C    7930\n",
              "H     300\n",
              "Name: calories, dtype: int64"
            ],
            "text/html": [
              "<div>\n",
              "<style scoped>\n",
              "    .dataframe tbody tr th:only-of-type {\n",
              "        vertical-align: middle;\n",
              "    }\n",
              "\n",
              "    .dataframe tbody tr th {\n",
              "        vertical-align: top;\n",
              "    }\n",
              "\n",
              "    .dataframe thead th {\n",
              "        text-align: right;\n",
              "    }\n",
              "</style>\n",
              "<table border=\"1\" class=\"dataframe\">\n",
              "  <thead>\n",
              "    <tr style=\"text-align: right;\">\n",
              "      <th></th>\n",
              "      <th>calories</th>\n",
              "    </tr>\n",
              "    <tr>\n",
              "      <th>type</th>\n",
              "      <th></th>\n",
              "    </tr>\n",
              "  </thead>\n",
              "  <tbody>\n",
              "    <tr>\n",
              "      <th>C</th>\n",
              "      <td>7930</td>\n",
              "    </tr>\n",
              "    <tr>\n",
              "      <th>H</th>\n",
              "      <td>300</td>\n",
              "    </tr>\n",
              "  </tbody>\n",
              "</table>\n",
              "</div><br><label><b>dtype:</b> int64</label>"
            ]
          },
          "metadata": {},
          "execution_count": 15
        }
      ]
    }
  ]
}