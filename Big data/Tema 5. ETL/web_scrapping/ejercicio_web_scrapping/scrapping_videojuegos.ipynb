{
 "cells": [
  {
   "cell_type": "markdown",
   "metadata": {},
   "source": [
    "# Proyecto de Scrapping de Estadísticas de Videojuegos - Hugo Peralta Muñoz"
   ]
  },
  {
   "cell_type": "markdown",
   "metadata": {},
   "source": [
    "En este proyecto se desarrollará el *scrapping* de una página web de videojuegos, la cual actúa como base de datos para almacenar cada uno de ellos. La página es la siguiente: <a>https://www.mobygames.com/</a>. Esta es una de las webs más usadas para buscar sobre videojuegos.\n",
    "\n",
    "El scrapeo se realizará con la biblioteca `BeautifulSoup4` en *Python*. Podrás encontrar información útil de su aplicación y la misma documentación en la página de *Python Packages Index*: <a>https://pypi.org/project/beautifulsoup4/</a>."
   ]
  },
  {
   "cell_type": "markdown",
   "metadata": {},
   "source": [
    "## Importación de librerías"
   ]
  },
  {
   "cell_type": "code",
   "execution_count": 22,
   "metadata": {},
   "outputs": [],
   "source": [
    "from bs4 import BeautifulSoup\n",
    "import requests\n",
    "import pandas as pd\n",
    "import numpy as np"
   ]
  },
  {
   "cell_type": "markdown",
   "metadata": {},
   "source": [
    "## Inicialización de datos "
   ]
  },
  {
   "cell_type": "code",
   "execution_count": 23,
   "metadata": {},
   "outputs": [],
   "source": [
    "# Inicializacion de variables\n",
    "pages = 2\n",
    "\n",
    "fields = []\n",
    "\n",
    "header = {\n",
    "    'User-Agent': 'Mozilla/5.0 (Windows NT 10.0; Win64; x64) AppleWebKit/537.36 (KHTML, like Gecko) Chrome/91.0.4472.124 Safari/537.36'\n",
    "}\n",
    "\n",
    "games_df = pd.DataFrame(columns=fields)"
   ]
  },
  {
   "cell_type": "markdown",
   "metadata": {},
   "source": [
    "Tendremos almacenadas las URLs que usaremos para acceder a la página y scrapear su contenido."
   ]
  },
  {
   "cell_type": "code",
   "execution_count": 24,
   "metadata": {},
   "outputs": [],
   "source": [
    "page_games_url = \"https://www.metacritic.com/browse/game/?releaseYearMin=1958&releaseYearMax=2025&page=\""
   ]
  },
  {
   "cell_type": "markdown",
   "metadata": {},
   "source": [
    "## Scrapeo de datos"
   ]
  },
  {
   "cell_type": "markdown",
   "metadata": {},
   "source": [
    "### Scrapeo de las paginas\n",
    "\n",
    "Cada página de la base de datos muestra $50$ juegos, scrapearemos primero las entradas de estos videojuegos. "
   ]
  },
  {
   "cell_type": "code",
   "execution_count": 25,
   "metadata": {},
   "outputs": [
    {
     "data": {
      "text/plain": [
       "['https://www.mobygames.com/game/sort:moby_score/page:1/',\n",
       " 'https://www.mobygames.com/game/sort:moby_score/page:2/']"
      ]
     },
     "execution_count": 25,
     "metadata": {},
     "output_type": "execute_result"
    }
   ],
   "source": [
    "game_pages = []\n",
    "\n",
    "for page in range(1, pages + 1):\n",
    "    game_pages.append(page_games_url + str(page))\n",
    "\n",
    "game_pages"
   ]
  },
  {
   "cell_type": "markdown",
   "metadata": {},
   "source": [
    "Una vez tengamos las urls de las páginas, tendremos que sacar las entradas de cada videojuegos."
   ]
  },
  {
   "cell_type": "code",
   "execution_count": 36,
   "metadata": {},
   "outputs": [
    {
     "name": "stdout",
     "output_type": "stream",
     "text": [
      "None\n",
      "None\n"
     ]
    },
    {
     "data": {
      "text/plain": [
       "[]"
      ]
     },
     "execution_count": 36,
     "metadata": {},
     "output_type": "execute_result"
    }
   ],
   "source": [
    "game_links = []\n",
    "\n",
    "for page in game_pages:\n",
    "    response = requests.get(page, headers=header)\n",
    "    soup = BeautifulSoup(response.content, \"html.parser\")\n",
    "\n",
    "    \n",
    "\n",
    "\n",
    "\n",
    "game_links"
   ]
  },
  {
   "cell_type": "markdown",
   "metadata": {},
   "source": [
    "Ahora, nuestra variable `game_links` almacena el enlace a cada juego de forma individual, lo que necesitamos ahora es sacar los datos relevantes que queremos obtener, las cuales serán las variables inicializadas con anterioridad."
   ]
  },
  {
   "cell_type": "code",
   "execution_count": 27,
   "metadata": {},
   "outputs": [
    {
     "ename": "NameError",
     "evalue": "name 'game_data' is not defined",
     "output_type": "error",
     "traceback": [
      "\u001b[1;31m---------------------------------------------------------------------------\u001b[0m",
      "\u001b[1;31mNameError\u001b[0m                                 Traceback (most recent call last)",
      "Cell \u001b[1;32mIn[27], line 46\u001b[0m\n\u001b[0;32m     42\u001b[0m         \u001b[38;5;28;01mpass\u001b[39;00m\n\u001b[0;32m     44\u001b[0m     rank_counter \u001b[38;5;241m+\u001b[39m\u001b[38;5;241m=\u001b[39m \u001b[38;5;241m1\u001b[39m\n\u001b[1;32m---> 46\u001b[0m \u001b[38;5;28;01mfor\u001b[39;00m key, value \u001b[38;5;129;01min\u001b[39;00m \u001b[43mgame_data\u001b[49m\u001b[38;5;241m.\u001b[39mitems():\n\u001b[0;32m     47\u001b[0m         \u001b[38;5;28mprint\u001b[39m(\u001b[38;5;124mf\u001b[39m\u001b[38;5;124m\"\u001b[39m\u001b[38;5;132;01m{\u001b[39;00mkey\u001b[38;5;132;01m}\u001b[39;00m\u001b[38;5;124m: \u001b[39m\u001b[38;5;132;01m{\u001b[39;00mvalue\u001b[38;5;132;01m}\u001b[39;00m\u001b[38;5;124m\"\u001b[39m)\n",
      "\u001b[1;31mNameError\u001b[0m: name 'game_data' is not defined"
     ]
    }
   ],
   "source": [
    "rank_counter = 1\n",
    "for game_url in game_links:\n",
    "\n",
    "    response = requests.get(game_url)\n",
    "    soup = BeautifulSoup(response.content, \"html.parser\")\n",
    "\n",
    "    "
   ]
  }
 ],
 "metadata": {
  "kernelspec": {
   "display_name": "Python 3",
   "language": "python",
   "name": "python3"
  },
  "language_info": {
   "codemirror_mode": {
    "name": "ipython",
    "version": 3
   },
   "file_extension": ".py",
   "mimetype": "text/x-python",
   "name": "python",
   "nbconvert_exporter": "python",
   "pygments_lexer": "ipython3",
   "version": "3.11.2"
  }
 },
 "nbformat": 4,
 "nbformat_minor": 2
}
