{
 "cells": [
  {
   "cell_type": "markdown",
   "metadata": {},
   "source": [
    "# Proyecto de Scrapping de Estadísticas de Videojuegos - Hugo Peralta Muñoz"
   ]
  },
  {
   "cell_type": "markdown",
   "metadata": {},
   "source": [
    "En este proyecto se desarrollará el *scrapping* de una página web de videojuegos, la cual también actúa como base de datos para almacenar cada uno de ellos. La página es la siguiente: <a>https://www.vgchartz.com/</a>.  \n",
    "\n",
    "El scrapeo se realizará con la biblioteca `BeautifulSoup4` en *Python*. Podrás encontrar información útil de su aplicación y la misma documentación en la página de *Python Packages Index*: <a>https://pypi.org/project/beautifulsoup4/</a>."
   ]
  },
  {
   "cell_type": "markdown",
   "metadata": {},
   "source": [
    "## Importación de librerías"
   ]
  },
  {
   "cell_type": "code",
   "execution_count": 46,
   "metadata": {},
   "outputs": [],
   "source": [
    "from bs4 import BeautifulSoup\n",
    "import requests\n",
    "import pandas as pd\n",
    "import numpy as np"
   ]
  },
  {
   "cell_type": "markdown",
   "metadata": {},
   "source": [
    "## Inicialización de datos "
   ]
  },
  {
   "cell_type": "code",
   "execution_count": 47,
   "metadata": {},
   "outputs": [],
   "source": [
    "# Inicializacion de variables\n",
    "pages = 2\n",
    "\n",
    "rank = []\n",
    "game_name = []\n",
    "platform = []\n",
    "year = []\n",
    "genre = []\n",
    "publisher = []\n",
    "na_sales = []\n",
    "eu_sales = []\n",
    "jp_sales = []\n",
    "other_sales = []\n",
    "global_sales = []"
   ]
  },
  {
   "cell_type": "markdown",
   "metadata": {},
   "source": [
    "Tendremos almacenadas las URLs que usaremos para acceder a la página y scrapear su contenido."
   ]
  },
  {
   "cell_type": "code",
   "execution_count": 48,
   "metadata": {},
   "outputs": [],
   "source": [
    "raw_url = \"https://www.vgchartz.com/games/games.php?page=1&order=Sales&ownership=Both&showpublisher=1&showreleasedate=1&showlastupdate=1&showvgchartzscore=1&showcriticscore=1&showuserscore=1&showshipped=1\"\n",
    "urlhead = \"https://www.vgchartz.com/games/games.php?page=\"\n",
    "urltail = \"&order=Sales&ownership=Both&showpublisher=1&showreleasedate=1&showlastupdate=1&showvgchartzscore=1&showcriticscore=1&showuserscore=1&showshipped=1\""
   ]
  },
  {
   "cell_type": "markdown",
   "metadata": {},
   "source": [
    "## Scrapeo de datos"
   ]
  },
  {
   "cell_type": "markdown",
   "metadata": {},
   "source": [
    "### Scrapeo de las paginas\n",
    "\n",
    "Cada página de la base de datos muestra $50$ juegos, scrapearemos primero las entradas de estos videojuegos. "
   ]
  },
  {
   "cell_type": "code",
   "execution_count": 49,
   "metadata": {},
   "outputs": [
    {
     "data": {
      "text/plain": [
       "['https://www.vgchartz.com/games/games.php?page=1&order=Sales&ownership=Both&showpublisher=1&showreleasedate=1&showlastupdate=1&showvgchartzscore=1&showcriticscore=1&showuserscore=1&showshipped=1',\n",
       " 'https://www.vgchartz.com/games/games.php?page=2&order=Sales&ownership=Both&showpublisher=1&showreleasedate=1&showlastupdate=1&showvgchartzscore=1&showcriticscore=1&showuserscore=1&showshipped=1']"
      ]
     },
     "execution_count": 49,
     "metadata": {},
     "output_type": "execute_result"
    }
   ],
   "source": [
    "game_pages = []\n",
    "\n",
    "for page in range(1, pages + 1):\n",
    "    game_pages.append(urlhead + str(page) + urltail)\n",
    "\n",
    "game_pages"
   ]
  },
  {
   "cell_type": "markdown",
   "metadata": {},
   "source": [
    "Una vez tengamos las urls de las páginas, tendremos que sacar las entradas de cada videojuegos."
   ]
  },
  {
   "cell_type": "code",
   "execution_count": 51,
   "metadata": {},
   "outputs": [
    {
     "data": {
      "text/plain": [
       "['https://www.vgchartz.com/game/226237/tetris/?region=All',\n",
       " 'https://www.vgchartz.com/game/226036/call-of-duty/?region=All',\n",
       " 'https://www.vgchartz.com/game/226034/pokemon/?region=All',\n",
       " 'https://www.vgchartz.com/game/226037/grand-theft-auto/?region=All',\n",
       " 'https://www.vgchartz.com/game/226187/super-mario/?region=All',\n",
       " 'https://www.vgchartz.com/game/226038/fifa/?region=All',\n",
       " 'https://www.vgchartz.com/game/226085/minecraft/?region=All',\n",
       " 'https://www.vgchartz.com/game/227428/minecraft/?region=All',\n",
       " 'https://www.vgchartz.com/game/227429/grand-theft-auto-v/?region=All',\n",
       " 'https://www.vgchartz.com/game/226259/lego/?region=All',\n",
       " 'https://www.vgchartz.com/game/226103/assassins-creed/?region=All',\n",
       " 'https://www.vgchartz.com/game/226166/the-sims/?region=All',\n",
       " 'https://www.vgchartz.com/game/226241/final-fantasy/?region=All',\n",
       " 'https://www.vgchartz.com/game/226188/mario-kart/?region=All',\n",
       " 'https://www.vgchartz.com/game/226039/resident-evil/?region=All',\n",
       " 'https://www.vgchartz.com/game/226035/the-legend-of-zelda/?region=All',\n",
       " 'https://www.vgchartz.com/game/226238/tomb-raider/?region=All',\n",
       " 'https://www.vgchartz.com/game/226152/nba-2k/?region=All',\n",
       " 'https://www.vgchartz.com/game/226227/need-for-speed/?region=All',\n",
       " 'https://www.vgchartz.com/game/226191/wiinintendo-sports/?region=All',\n",
       " 'https://www.vgchartz.com/game/226229/madden-nfl/?region=All',\n",
       " 'https://www.vgchartz.com/game/226233/pro-evolution-soccerefootball/?region=All',\n",
       " 'https://www.vgchartz.com/game/226041/monster-hunter/?region=All',\n",
       " 'https://www.vgchartz.com/game/226081/sonic-the-hedgehog/?region=All',\n",
       " 'https://www.vgchartz.com/game/226239/dragon-quest/?region=All',\n",
       " 'https://www.vgchartz.com/game/226283/the-elder-scrolls/?region=All',\n",
       " 'https://www.vgchartz.com/game/226235/red-dead/?region=All',\n",
       " 'https://www.vgchartz.com/game/226066/gran-turismo/?region=All',\n",
       " 'https://www.vgchartz.com/game/226067/borderlands/?region=All',\n",
       " 'https://www.vgchartz.com/game/226219/battlefield/?region=All',\n",
       " 'https://www.vgchartz.com/game/226258/mortal-kombat/?region=All',\n",
       " 'https://www.vgchartz.com/game/2667/wii-sports/?region=All',\n",
       " 'https://www.vgchartz.com/game/226190/animal-crossing/?region=All',\n",
       " 'https://www.vgchartz.com/game/226032/halo/?region=All',\n",
       " 'https://www.vgchartz.com/game/226101/just-dance/?region=All',\n",
       " 'https://www.vgchartz.com/game/226282/god-of-war/?region=All',\n",
       " 'https://www.vgchartz.com/game/226286/dragon-ball/?region=All',\n",
       " 'https://www.vgchartz.com/game/226193/super-smash-bros/?region=All',\n",
       " 'https://www.vgchartz.com/game/226170/mario-party/?region=All',\n",
       " 'https://www.vgchartz.com/game/227625/playerunknowns-battlegrounds/?region=All',\n",
       " 'https://www.vgchartz.com/game/226341/pubg/?region=All',\n",
       " 'https://www.vgchartz.com/game/226111/the-witcher/?region=All',\n",
       " 'https://www.vgchartz.com/game/228118/worms/?region=All',\n",
       " 'https://www.vgchartz.com/game/226068/civilization/?region=All',\n",
       " 'https://www.vgchartz.com/game/226289/harry-potterwizarding-world/?region=All',\n",
       " 'https://www.vgchartz.com/game/226269/wwe-2k/?region=All',\n",
       " 'https://www.vgchartz.com/game/227430/red-dead-redemption-2/?region=All',\n",
       " 'https://www.vgchartz.com/game/226175/counter-strike/?region=All',\n",
       " 'https://www.vgchartz.com/game/226264/crash-bandicoot/?region=All',\n",
       " 'https://www.vgchartz.com/game/226203/donkey-kong/?region=All',\n",
       " 'https://www.vgchartz.com/game/226167/the-oregon-trail/?region=All',\n",
       " 'https://www.vgchartz.com/game/153114/mario-kart-8-deluxe/?region=All',\n",
       " 'https://www.vgchartz.com/game/226234/metal-gear/?region=All',\n",
       " 'https://www.vgchartz.com/game/226226/star-wars-battlefront/?region=All',\n",
       " 'https://www.vgchartz.com/game/227648/the-elder-scrolls-v-skyrim/?region=All',\n",
       " 'https://www.vgchartz.com/game/226323/spider-man/?region=All',\n",
       " 'https://www.vgchartz.com/game/226294/terraria/?region=All',\n",
       " 'https://www.vgchartz.com/game/227443/terraria/?region=All',\n",
       " 'https://www.vgchartz.com/game/226204/tekken/?region=All',\n",
       " 'https://www.vgchartz.com/game/226040/street-fighter/?region=All',\n",
       " 'https://www.vgchartz.com/game/226172/diablo/?region=All',\n",
       " 'https://www.vgchartz.com/game/226268/lego-star-wars/?region=All',\n",
       " 'https://www.vgchartz.com/game/226102/far-cry/?region=All',\n",
       " 'https://www.vgchartz.com/game/226290/fallout/?region=All',\n",
       " 'https://www.vgchartz.com/game/231415/marvels-spider-man/?region=All',\n",
       " 'https://www.vgchartz.com/game/226214/kirby/?region=All',\n",
       " 'https://www.vgchartz.com/game/226375/warriors/?region=All',\n",
       " 'https://www.vgchartz.com/game/228039/the-walking-dead-telltale-games-series/?region=All',\n",
       " 'https://www.vgchartz.com/game/226228/bejeweled/?region=All',\n",
       " 'https://www.vgchartz.com/game/232051/destiny/?region=All',\n",
       " 'https://www.vgchartz.com/game/228237/human-fall-flat/?region=All',\n",
       " 'https://www.vgchartz.com/game/227681/the-witcher-3-wild-hunt/?region=All',\n",
       " 'https://www.vgchartz.com/game/226078/total-war/?region=All',\n",
       " 'https://www.vgchartz.com/game/222779/animal-crossing-new-horizons/?region=All',\n",
       " 'https://www.vgchartz.com/game/226148/uncharted/?region=All',\n",
       " 'https://www.vgchartz.com/game/226182/wii-fit/?region=All',\n",
       " 'https://www.vgchartz.com/game/226084/bioshock/?region=All',\n",
       " 'https://www.vgchartz.com/game/226042/mega-man/?region=All',\n",
       " 'https://www.vgchartz.com/game/226314/gears-of-war/?region=All',\n",
       " 'https://www.vgchartz.com/game/226110/stardew-valley/?region=All',\n",
       " 'https://www.vgchartz.com/game/227982/stardew-valley/?region=All',\n",
       " 'https://www.vgchartz.com/game/226363/world-of-warcraft/?region=All',\n",
       " 'https://www.vgchartz.com/game/226158/souls/?region=All',\n",
       " 'https://www.vgchartz.com/game/6455/super-mario-bros/?region=All',\n",
       " 'https://www.vgchartz.com/game/57184/counter-strike-global-offensive/?region=All',\n",
       " 'https://www.vgchartz.com/game/226279/farming-simulator/?region=All',\n",
       " 'https://www.vgchartz.com/game/226287/guitar-hero/?region=All',\n",
       " 'https://www.vgchartz.com/game/226225/medal-of-honor/?region=All',\n",
       " 'https://www.vgchartz.com/game/226267/the-last-of-us/?region=All',\n",
       " 'https://www.vgchartz.com/game/6968/mario-kart-wii/?region=All',\n",
       " 'https://www.vgchartz.com/game/231093/dark-souls/?region=All',\n",
       " 'https://www.vgchartz.com/game/215988/playerunknowns-battlegrounds/?region=All',\n",
       " 'https://www.vgchartz.com/game/226236/kingdom-hearts/?region=All',\n",
       " 'https://www.vgchartz.com/game/226100/tom-clancys-rainbow-six/?region=All',\n",
       " 'https://www.vgchartz.com/game/226069/naruto-ultimate-ninja/?region=All',\n",
       " 'https://www.vgchartz.com/game/226189/brain-age/?region=All',\n",
       " 'https://www.vgchartz.com/game/221289/super-smash-bros-ultimate/?region=All',\n",
       " 'https://www.vgchartz.com/game/226224/nba-live/?region=All',\n",
       " 'https://www.vgchartz.com/game/4534/tetris/?region=All',\n",
       " 'https://www.vgchartz.com/game/226318/tom-clancys-ghost-recon/?region=All']"
      ]
     },
     "execution_count": 51,
     "metadata": {},
     "output_type": "execute_result"
    }
   ],
   "source": [
    "game_links = []\n",
    "\n",
    "for page in game_pages:\n",
    "    response = requests.get(page)\n",
    "    soup = BeautifulSoup(response.content, \"html.parser\")\n",
    "    table = soup.find(\"div\", {\"id\": \"generalBody\"}).find(\"table\")\n",
    "\n",
    "    if table:\n",
    "        for row in table.find_all(\"td\"):  # Buscar todas las filas de la tabla\n",
    "            link = row.find(\"a\", href=True)  # Buscar el enlace en la fila\n",
    "            if link and link[\"href\"].startswith(\"https://www.vgchartz.com/game/\"):  # Verificar que el enlace envia a la pagina del videojuego\n",
    "                game_links.append(link[\"href\"])\n",
    "\n",
    "game_links"
   ]
  }
 ],
 "metadata": {
  "kernelspec": {
   "display_name": "Python 3",
   "language": "python",
   "name": "python3"
  },
  "language_info": {
   "codemirror_mode": {
    "name": "ipython",
    "version": 3
   },
   "file_extension": ".py",
   "mimetype": "text/x-python",
   "name": "python",
   "nbconvert_exporter": "python",
   "pygments_lexer": "ipython3",
   "version": "3.11.2"
  }
 },
 "nbformat": 4,
 "nbformat_minor": 2
}
