{
  "cells": [
    {
      "cell_type": "markdown",
      "metadata": {
        "id": "kawLG98HhheS"
      },
      "source": [
        "# Faker\n",
        "**Datos sintéticos**\n",
        "\n",
        "Tal como define la Agencia Española de Protección de Datos entendemos por datos sintéticos los \"datos generados artificialmente, a diferencia de los datos reales que se recopilan de la realidad\".\n",
        "\n",
        "Los datos sintéticos deben preservar las características y propiedades de los datos reales para un caso de uso específico.\n",
        "\n",
        "Por ejemplo, los utilizaremos durante las fases de desarrollo, prueba y validación de servicios de aprendizaje automático, donde los datos reales no están disponibles en las cantidades necesarias, o incluso dichos datos reales no existen.\n",
        "\n",
        "También nos permite utilizarlos como técnica de privacidad, cuando se utilizan para crear conjuntos de datos no personales con la misma utilidad que los personales."
      ]
    },
    {
      "cell_type": "markdown",
      "metadata": {
        "id": "dBIPumenhwec"
      },
      "source": [
        "**Faker**\n",
        "\n",
        "Si necesitamos generar muchos datos, es muy útil emplear una librería como Faker para generar datos sintéticos.\n",
        "\n",
        "Primero hemos de instalarla mediante pip:"
      ]
    },
    {
      "cell_type": "code",
      "execution_count": 1,
      "metadata": {
        "colab": {
          "base_uri": "https://localhost:8080/"
        },
        "id": "D6DP7xVuhvno",
        "outputId": "46a9ccb2-0482-4fb3-f688-1be7588e1ee1"
      },
      "outputs": [
        {
          "name": "stdout",
          "output_type": "stream",
          "text": [
            "Collecting faker\n",
            "  Downloading Faker-33.3.1-py3-none-any.whl.metadata (15 kB)\n",
            "Requirement already satisfied: python-dateutil>=2.4 in c:\\users\\alfre\\appdata\\local\\programs\\python\\python311\\lib\\site-packages (from faker) (2.8.2)\n",
            "Requirement already satisfied: typing-extensions in c:\\users\\alfre\\appdata\\roaming\\python\\python311\\site-packages (from faker) (4.12.2)\n",
            "Requirement already satisfied: six>=1.5 in c:\\users\\alfre\\appdata\\local\\programs\\python\\python311\\lib\\site-packages (from python-dateutil>=2.4->faker) (1.16.0)\n",
            "Downloading Faker-33.3.1-py3-none-any.whl (1.9 MB)\n",
            "   ---------------------------------------- 0.0/1.9 MB ? eta -:--:--\n",
            "   ---------------------- ----------------- 1.0/1.9 MB 7.2 MB/s eta 0:00:01\n",
            "   ---------------------------------------- 1.9/1.9 MB 8.0 MB/s eta 0:00:00\n",
            "Installing collected packages: faker\n",
            "Successfully installed faker-33.3.1\n"
          ]
        }
      ],
      "source": [
        "!pip3 install faker"
      ]
    },
    {
      "cell_type": "markdown",
      "metadata": {
        "id": "vDsDmLpoh8hc"
      },
      "source": [
        "Vamos a realizar un ejemplo para mostrar algunos datos aleatorios y comprobar su funcionamiento:"
      ]
    },
    {
      "cell_type": "code",
      "execution_count": 2,
      "metadata": {
        "colab": {
          "base_uri": "https://localhost:8080/"
        },
        "id": "yjKCZd5yh-_s",
        "outputId": "43772155-587c-4205-ff93-ea6c92049e55"
      },
      "outputs": [
        {
          "name": "stdout",
          "output_type": "stream",
          "text": [
            "Nombre: Cebrián Nadal Vendrell\n",
            "Dirección: Calle Eligio Arrieta 7\n",
            "Barcelona, 42132\n",
            "Nombre de hombre: Gonzalo\n",
            "Número de teléfono: +34 813 42 90 62\n",
            "Color: Rojo ladrillo\n",
            "Fecha: 2010-03-27\n",
            "Email: hgomis@example.net\n",
            "Frase de 10 palabras Placeat facilis non quis enim nisi sint veritatis cupiditate nihil at quae.\n"
          ]
        }
      ],
      "source": [
        "from faker import Faker\n",
        "\n",
        "fake = Faker()\n",
        "fake = Faker('es_ES')   # cambiamos el locale a español\n",
        "\n",
        "print(\"Nombre:\", fake.name())\n",
        "print(\"Dirección:\", fake.address())\n",
        "print(\"Nombre de hombre:\", fake.first_name_male())\n",
        "print(\"Número de teléfono:\", fake.phone_number())\n",
        "print(\"Color:\", fake.color_name())\n",
        "print(\"Fecha:\", fake.date())\n",
        "print(\"Email:\", fake.email())\n",
        "print(\"Frase de 10 palabras\", fake.sentence(nb_words=10))"
      ]
    },
    {
      "cell_type": "markdown",
      "metadata": {
        "id": "ZOAcJuzUiFy_"
      },
      "source": [
        "Los diferentes grupos de datos que genera se agrupan en Providers: de dirección, fechas, relacionados con internet, bancarios, códigos de barra, isbn, etc...\n",
        "\n",
        "Se recomienda consultar la documentación en https://faker.readthedocs.io/en/master/providers.html."
      ]
    },
    {
      "cell_type": "markdown",
      "metadata": {
        "id": "urr1sQ1EiTkX"
      },
      "source": [
        "NOTA: Al trabajar con el idioma en español, puede que algunos métodos no funcionen (más que no funcionar, posiblemente tengan otro nombre). Es recomendable comprobar las opciones disponibles en https://faker.readthedocs.io/en/master/locales/es_ES.html"
      ]
    },
    {
      "cell_type": "markdown",
      "metadata": {
        "id": "ezFsBQI-iX43"
      },
      "source": [
        "**Generando CSV**\n",
        "\n",
        "Vamos a generar un CSV con datos de 1000 personas. Primero creamos una lista con los encabezados y los escribimos en el fichero, para posteriormente, línea a línea, generar los datos de cada persona:"
      ]
    },
    {
      "cell_type": "code",
      "execution_count": 5,
      "metadata": {
        "id": "gKis23ivifuw"
      },
      "outputs": [],
      "source": [
        "from faker import Faker\n",
        "import csv\n",
        "\n",
        "output = open('datosFaker.csv', 'w', encoding='utf-8')\n",
        "\n",
        "fake = Faker('es_ES')   # cambiamos el locale a español\n",
        "header = ['nombre', 'edad', 'calle', 'ciudad',\n",
        "        'provincia', 'cp', 'longitud', 'latitud']\n",
        "mywriter = csv.writer(output)\n",
        "mywriter.writerow(header)\n",
        "\n",
        "for r in range(1000):\n",
        "    mywriter.writerow([fake.name(),\n",
        "                    fake.random_int(min=18, max=80, step=1),\n",
        "                    fake.street_address(),\n",
        "                    fake.city(),\n",
        "                    fake.state(),\n",
        "                    fake.postcode(),\n",
        "                    fake.longitude(),\n",
        "                    fake.latitude()])\n",
        "output.close()"
      ]
    },
    {
      "cell_type": "markdown",
      "metadata": {
        "id": "Nc9Ymz0niv5h"
      },
      "source": [
        "**Generando JSON**\n",
        "\n",
        "Y a continuación repetimos el mismo ejemplo, pero ahora generando un documento JSON. La principal diferencia es que primero vamos a rellenar un diccionario con toda la información, y luego persistimos el diccionario:"
      ]
    },
    {
      "cell_type": "code",
      "execution_count": 6,
      "metadata": {
        "id": "yWFjo2uqiZ-n"
      },
      "outputs": [],
      "source": [
        "from faker import Faker\n",
        "import json\n",
        "\n",
        "fake = Faker('es_ES')   # cambiamos el locale a español\n",
        "\n",
        "# Preparamos los datos\n",
        "datos = {}\n",
        "datos['registros'] = []\n",
        "\n",
        "for x in range(1000):\n",
        "    persona = {\"datos\": fake.name(),\n",
        "            \"edad\": fake.random_int(min=18, max=80, step=1),\n",
        "            \"calle\": fake.street_address(),\n",
        "            \"ciudad\": fake.city(),\n",
        "            \"provincia\": fake.state(),\n",
        "            \"cp\": fake.postcode(),\n",
        "            \"longitud\": float(fake.longitude()),\n",
        "            \"latitud\": float(fake.latitude())}\n",
        "    datos['registros'].append(persona)\n",
        "\n",
        "# Los metemos en el fichero\n",
        "output = open('datosFaker.json', 'w', encoding='utf-8') \n",
        "json.dump(datos, output)"
      ]
    }
  ],
  "metadata": {
    "colab": {
      "provenance": []
    },
    "kernelspec": {
      "display_name": "Python 3",
      "name": "python3"
    },
    "language_info": {
      "codemirror_mode": {
        "name": "ipython",
        "version": 3
      },
      "file_extension": ".py",
      "mimetype": "text/x-python",
      "name": "python",
      "nbconvert_exporter": "python",
      "pygments_lexer": "ipython3",
      "version": "3.11.2"
    }
  },
  "nbformat": 4,
  "nbformat_minor": 0
}
