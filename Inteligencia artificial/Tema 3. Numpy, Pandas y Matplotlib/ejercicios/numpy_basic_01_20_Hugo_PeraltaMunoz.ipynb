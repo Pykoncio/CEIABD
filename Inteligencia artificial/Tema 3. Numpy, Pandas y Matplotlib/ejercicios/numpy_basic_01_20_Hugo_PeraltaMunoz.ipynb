{
  "cells": [
    {
      "cell_type": "markdown",
      "metadata": {
        "id": "JAxhI321zhtS"
      },
      "source": [
        "# NumPy Basic (1-20) - Hugo Peralta Muñoz"
      ]
    },
    {
      "cell_type": "markdown",
      "metadata": {
        "id": "v55dgHiQ0KW-"
      },
      "source": [
        "Import NumPy"
      ]
    },
    {
      "cell_type": "code",
      "execution_count": 2,
      "metadata": {
        "id": "CGcbQmXp0Giw"
      },
      "outputs": [],
      "source": [
        "import numpy as np"
      ]
    },
    {
      "cell_type": "markdown",
      "metadata": {
        "id": "kJE6z2yCzlMR"
      },
      "source": [
        "#### 1. Write a Numpy program to get the Numpy version and show the Numpy build configuration.\n"
      ]
    },
    {
      "cell_type": "code",
      "execution_count": 4,
      "metadata": {
        "colab": {
          "base_uri": "https://localhost:8080/"
        },
        "id": "f6FnoHAfzg2y",
        "outputId": "6b6ad8ec-1e02-424f-deff-85c52ca6a6d8"
      },
      "outputs": [
        {
          "name": "stdout",
          "output_type": "stream",
          "text": [
            "1.26.4\n",
            "Build Dependencies:\n",
            "  blas:\n",
            "    detection method: pkgconfig\n",
            "    found: true\n",
            "    include directory: /usr/local/include\n",
            "    lib directory: /usr/local/lib\n",
            "    name: openblas64\n",
            "    openblas configuration: USE_64BITINT=1 DYNAMIC_ARCH=1 DYNAMIC_OLDER= NO_CBLAS=\n",
            "      NO_LAPACK= NO_LAPACKE= NO_AFFINITY=1 USE_OPENMP= HASWELL MAX_THREADS=2\n",
            "    pc file directory: /usr/local/lib/pkgconfig\n",
            "    version: 0.3.23.dev\n",
            "  lapack:\n",
            "    detection method: internal\n",
            "    found: true\n",
            "    include directory: unknown\n",
            "    lib directory: unknown\n",
            "    name: dep139863411681952\n",
            "    openblas configuration: unknown\n",
            "    pc file directory: unknown\n",
            "    version: 1.26.4\n",
            "Compilers:\n",
            "  c:\n",
            "    args: -fno-strict-aliasing\n",
            "    commands: cc\n",
            "    linker: ld.bfd\n",
            "    linker args: -Wl,--strip-debug, -fno-strict-aliasing\n",
            "    name: gcc\n",
            "    version: 10.2.1\n",
            "  c++:\n",
            "    commands: c++\n",
            "    linker: ld.bfd\n",
            "    linker args: -Wl,--strip-debug\n",
            "    name: gcc\n",
            "    version: 10.2.1\n",
            "  cython:\n",
            "    commands: cython\n",
            "    linker: cython\n",
            "    name: cython\n",
            "    version: 3.0.8\n",
            "Machine Information:\n",
            "  build:\n",
            "    cpu: x86_64\n",
            "    endian: little\n",
            "    family: x86_64\n",
            "    system: linux\n",
            "  host:\n",
            "    cpu: x86_64\n",
            "    endian: little\n",
            "    family: x86_64\n",
            "    system: linux\n",
            "Python Information:\n",
            "  path: /opt/python/cp310-cp310/bin/python\n",
            "  version: '3.10'\n",
            "SIMD Extensions:\n",
            "  baseline:\n",
            "  - SSE\n",
            "  - SSE2\n",
            "  - SSE3\n",
            "  found:\n",
            "  - SSSE3\n",
            "  - SSE41\n",
            "  - POPCNT\n",
            "  - SSE42\n",
            "  - AVX\n",
            "  - F16C\n",
            "  - FMA3\n",
            "  - AVX2\n",
            "  not found:\n",
            "  - AVX512F\n",
            "  - AVX512CD\n",
            "  - AVX512_KNL\n",
            "  - AVX512_KNM\n",
            "  - AVX512_SKX\n",
            "  - AVX512_CLX\n",
            "  - AVX512_CNL\n",
            "  - AVX512_ICL\n",
            "\n",
            "None\n"
          ]
        }
      ],
      "source": [
        "print(np.version.version)\n",
        "print(np.show_config())"
      ]
    },
    {
      "cell_type": "markdown",
      "metadata": {
        "id": "NF1FoCxT0CLi"
      },
      "source": [
        "#### 2. Write a NumPy program to get help with the add function."
      ]
    },
    {
      "cell_type": "code",
      "execution_count": 5,
      "metadata": {
        "colab": {
          "base_uri": "https://localhost:8080/"
        },
        "id": "gfmB148m0EQJ",
        "outputId": "80a4468d-0dee-4479-bd14-8e14949f7cdd"
      },
      "outputs": [
        {
          "name": "stdout",
          "output_type": "stream",
          "text": [
            "add(x1, x2, /, out=None, *, where=True, casting='same_kind', order='K', dtype=None, subok=True[, signature, extobj])\n",
            "\n",
            "Add arguments element-wise.\n",
            "\n",
            "Parameters\n",
            "----------\n",
            "x1, x2 : array_like\n",
            "    The arrays to be added.\n",
            "    If ``x1.shape != x2.shape``, they must be broadcastable to a common\n",
            "    shape (which becomes the shape of the output).\n",
            "out : ndarray, None, or tuple of ndarray and None, optional\n",
            "    A location into which the result is stored. If provided, it must have\n",
            "    a shape that the inputs broadcast to. If not provided or None,\n",
            "    a freshly-allocated array is returned. A tuple (possible only as a\n",
            "    keyword argument) must have length equal to the number of outputs.\n",
            "where : array_like, optional\n",
            "    This condition is broadcast over the input. At locations where the\n",
            "    condition is True, the `out` array will be set to the ufunc result.\n",
            "    Elsewhere, the `out` array will retain its original value.\n",
            "    Note that if an uninitialized `out` array is created via the default\n",
            "    ``out=None``, locations within it where the condition is False will\n",
            "    remain uninitialized.\n",
            "**kwargs\n",
            "    For other keyword-only arguments, see the\n",
            "    :ref:`ufunc docs <ufuncs.kwargs>`.\n",
            "\n",
            "Returns\n",
            "-------\n",
            "add : ndarray or scalar\n",
            "    The sum of `x1` and `x2`, element-wise.\n",
            "    This is a scalar if both `x1` and `x2` are scalars.\n",
            "\n",
            "Notes\n",
            "-----\n",
            "Equivalent to `x1` + `x2` in terms of array broadcasting.\n",
            "\n",
            "Examples\n",
            "--------\n",
            ">>> np.add(1.0, 4.0)\n",
            "5.0\n",
            ">>> x1 = np.arange(9.0).reshape((3, 3))\n",
            ">>> x2 = np.arange(3.0)\n",
            ">>> np.add(x1, x2)\n",
            "array([[  0.,   2.,   4.],\n",
            "       [  3.,   5.,   7.],\n",
            "       [  6.,   8.,  10.]])\n",
            "\n",
            "The ``+`` operator can be used as a shorthand for ``np.add`` on ndarrays.\n",
            "\n",
            ">>> x1 = np.arange(9.0).reshape((3, 3))\n",
            ">>> x2 = np.arange(3.0)\n",
            ">>> x1 + x2\n",
            "array([[ 0.,  2.,  4.],\n",
            "       [ 3.,  5.,  7.],\n",
            "       [ 6.,  8., 10.]])\n"
          ]
        }
      ],
      "source": [
        "np.info(np.add)"
      ]
    },
    {
      "cell_type": "markdown",
      "metadata": {
        "id": "LYHud1o26-5s"
      },
      "source": [
        "#### 3. Write a NumPy program to test whether none of the elements of a given array are zero.\n",
        "\n",
        "La función `numpy.all()` devuelve un valor booleano dependiendo de los cero que contenga el array introducido.\n",
        "\n",
        "* `True`: Si todos los elementos del array son distintos de cero.\n",
        "* `False`: Si algún valor del array es cero. "
      ]
    },
    {
      "cell_type": "code",
      "execution_count": 5,
      "metadata": {
        "id": "-BTG6Eid7PGh"
      },
      "outputs": [
        {
          "name": "stdout",
          "output_type": "stream",
          "text": [
            "[[1 1 1]\n",
            " [1 1 0]\n",
            " [1 1 1]]\n",
            "False\n"
          ]
        }
      ],
      "source": [
        "array = np.ones([3, 3], dtype=int)\n",
        "\n",
        "# Descomentar la linea inferior para comprobar el resultado contrario\n",
        "#array[1, 2] = 0\n",
        "print(array)\n",
        "\n",
        "# la función \n",
        "print(np.all(array))"
      ]
    },
    {
      "cell_type": "markdown",
      "metadata": {
        "id": "RmrttlHE0i8u"
      },
      "source": [
        "#### 4. Write a NumPy program to test if any of the elements of a given array are non-zero.\n",
        "\n",
        "La función `numpy.any()` devuelve un valor booleano en función de los cero que contenga el array provisto.\n",
        "\n",
        "* `True`: Si alguno de sus elementos es distinto de cero.\n",
        "* `False`: Si todos sus elementos son cero."
      ]
    },
    {
      "cell_type": "code",
      "execution_count": 7,
      "metadata": {
        "colab": {
          "base_uri": "https://localhost:8080/"
        },
        "id": "buQwO_cP0tBX",
        "outputId": "66f8624c-29fa-42d1-a80b-8b943cc1f89b"
      },
      "outputs": [
        {
          "name": "stdout",
          "output_type": "stream",
          "text": [
            "[[0 0 0]\n",
            " [0 0 0]\n",
            " [0 0 0]]\n",
            "False\n"
          ]
        }
      ],
      "source": [
        "\n",
        "array = np.zeros([3, 3], dtype=int)\n",
        "\n",
        "# Descomentar la linea inferior para comprobar el resultado contrario\n",
        "# array[1, 2] = 1\n",
        "print(array)\n",
        "\n",
        "# La función any devuelve true si alguno de sus elementos es distinto de cero o falso si todos sus elementos son cero\n",
        "print(np.any(array))\n"
      ]
    },
    {
      "cell_type": "markdown",
      "metadata": {},
      "source": [
        "#### 5. Write a NumPy program to test a given array element-wise for finiteness (not infinity or not a number).\n",
        "\n",
        "La función `numpy.isfinite()` devuelve un array de booleanos comprobando todos los valores del array proporcionado individualmente.\n",
        "\n",
        "Si un valor es:\n",
        "* `True`: Significa que es un número finito.\n",
        "* `False`: Significa que es un número infinito o no es un número."
      ]
    },
    {
      "cell_type": "code",
      "execution_count": 17,
      "metadata": {},
      "outputs": [
        {
          "name": "stdout",
          "output_type": "stream",
          "text": [
            "[ inf   0. -inf  nan]\n",
            "[False  True False False]\n"
          ]
        }
      ],
      "source": [
        "array_finitos_o_infinitos = np.array([np.inf, 0, -np.inf, np.nan]) # nan = Not A Number\n",
        "print(array_finitos_o_infinitos)\n",
        "\n",
        "print(np.isfinite(array_finitos_o_infinitos))"
      ]
    },
    {
      "cell_type": "markdown",
      "metadata": {},
      "source": [
        "#### 6. Write a NumPy program to test elements-wise for positive or negative infinity.\n",
        "\n",
        "La función `numpy.isinf()` devuelve un array comprobando los valores del array que se introduce.\n",
        "\n",
        "Si su valor es:\n",
        "* `True`: El elemento es infinito.\n",
        "* `False`: El elemento es finito."
      ]
    },
    {
      "cell_type": "code",
      "execution_count": 19,
      "metadata": {},
      "outputs": [
        {
          "name": "stdout",
          "output_type": "stream",
          "text": [
            "[ inf   0. -inf  nan]\n",
            "[ True False  True False]\n"
          ]
        }
      ],
      "source": [
        "print(array_finitos_o_infinitos)\n",
        "print(np.isinf(array_finitos_o_infinitos))"
      ]
    },
    {
      "cell_type": "markdown",
      "metadata": {},
      "source": [
        "#### 7. Write a NumPy program to test element-wise for NaN of a given array.\n",
        "\n",
        "Podemos usar la función que trae numpy, `numpy.isnan()` que nos devuelve en forma de booleano si el elemento o los elementos a valorar son numéricos o no. NaN = Not a Number. "
      ]
    },
    {
      "cell_type": "code",
      "execution_count": 20,
      "metadata": {},
      "outputs": [
        {
          "name": "stdout",
          "output_type": "stream",
          "text": [
            "[ inf   0. -inf  nan]\n",
            "[False False False  True]\n"
          ]
        }
      ],
      "source": [
        "print(array_finitos_o_infinitos)\n",
        "print(np.isnan(array_finitos_o_infinitos))"
      ]
    },
    {
      "cell_type": "markdown",
      "metadata": {},
      "source": [
        "#### 8. Write a NumPy program to test element-wise for complex numbers, real numbers in a given array. Also test if a given number is of a scalar type or not\n",
        "\n",
        "Para comprobar si un número es complejo o no podemos usar el método `numpy.iscomplex()` que devuelve un booleano o un array de booleanos dependiendo de si el elementos o array de elementos introducido son complejos o no. \n",
        "\n",
        "***Nota importante: No considera complejo a un número si éste es cero en la parte imaginaria.***\n",
        "\n",
        "Si queremos comprobar que un número sea escalar o no podremos usar la función `numpy.isscalar()`\n",
        "\n",
        "Los valores escalares se refieren a como bien dice su nombre, valores escalares, como el volumen, tamaño, etc.\n",
        "\n",
        "***Al mostrar los arrays, podemos mostrarlo con comas si añadimos la función `repr()` a la hora de mostrar por pantalla.***"
      ]
    },
    {
      "cell_type": "code",
      "execution_count": 27,
      "metadata": {},
      "outputs": [
        {
          "name": "stdout",
          "output_type": "stream",
          "text": [
            "array([1. +1.j, 1. +0.j, 4.5+0.j, 3. +0.j, 2. +0.j, 0. +2.j])\n",
            "[ True False False False False  True]\n",
            "True\n",
            "True\n",
            "False\n",
            "False\n",
            "True\n",
            "True\n",
            "True\n",
            "True\n"
          ]
        }
      ],
      "source": [
        "numbers = np.array([1+1j, 1+0j, 4.5, 3, 2, 2j])\n",
        "\n",
        "print(repr(numbers)) # Con repr() mostramos los valores del array con comas\n",
        "print(np.iscomplex(numbers))\n",
        "\n",
        "print(np.isscalar(5))\n",
        "print(np.isscalar(3.7))\n",
        "print(np.isscalar([3.7]))\n",
        "print(np.isscalar(np.array(3.1)))\n",
        "print(np.isscalar(\"asd\"))\n",
        "print(np.isscalar(True))\n",
        "print(np.isscalar(\"numpy\"))\n",
        "print(np.isscalar(5j))"
      ]
    },
    {
      "cell_type": "markdown",
      "metadata": {},
      "source": [
        "#### 9. Write a NumPy program to test whether two arrays are element-wise equal within a tolerance.\n",
        "\n",
        "Para realizar este ejercicio deberemos saber lo que hace la función `numpy.allclose()`, este método toma dos valores iniciales que son los arrays a comparar y dentro de un rango de tolerancia relativo y absoluto, calcula si son valores aproximados y devuelve un booleano en correspondencia.\n",
        "\n",
        "Si la siguiente función es True, entonces `allclose()` devuelve True:\n",
        "* `absolute(a - b) <= (atol + rtol * absolute(b))`. Esta función no es simétrica, el resultado puede variar según el orden en el que introduzcamos los valores."
      ]
    },
    {
      "cell_type": "code",
      "execution_count": 41,
      "metadata": {},
      "outputs": [
        {
          "name": "stdout",
          "output_type": "stream",
          "text": [
            "True\n",
            "False\n",
            "False\n",
            "True\n"
          ]
        }
      ],
      "source": [
        "a = np.array([1.0, 2.0, 3.00001]) # Entra en el rango relativo de tolerancia por defecto que es 1e+-5\n",
        "b = np.array([1.0, 2.0, 3.0])\n",
        "c = np.array([1.0, 2.0, 3.0001])\n",
        "\n",
        "print(np.allclose(a, b))\n",
        "print(np.allclose(b, c))\n",
        "\n",
        "print(np.allclose([1e10,1e-7], [1.00001e10,1e-8]))\n",
        "print(np.allclose([1e10,1e-8], [1.00001e10,1e-9]))\n",
        "\n",
        "print(np.allclose([1.0, np.nan], [1.0, np.nan]))\n",
        "print(np.allclose([1.0, np.nan], [1.0, np.nan], equal_nan=True))"
      ]
    },
    {
      "cell_type": "markdown",
      "metadata": {},
      "source": [
        "#### 10. Write a NumPy program to create an element-wise comparison (greater, greater_equal, less and less_equal) of two given arrays."
      ]
    },
    {
      "cell_type": "code",
      "execution_count": 42,
      "metadata": {},
      "outputs": [
        {
          "name": "stdout",
          "output_type": "stream",
          "text": [
            "[False False  True  True]\n",
            "[False  True  True  True]\n",
            "[ True False False False]\n",
            "[ True  True False False]\n"
          ]
        }
      ],
      "source": [
        "a = np.array([1, 2, 3, 4])\n",
        "b = np.array([4, 2, 1, 3])\n",
        "\n",
        "print(np.greater(a, b))\n",
        "print(np.greater_equal(a, b))\n",
        "print(np.less(a, b))\n",
        "print(np.less_equal(a, b))"
      ]
    },
    {
      "cell_type": "markdown",
      "metadata": {},
      "source": [
        "#### 11. Write a NumPy program to create an element-wise comparison (equal, equal within a tolerance) of two given arrays.\n",
        "\n",
        "Para ir de elemento a elemento usaremos la función `numpy.isclose()`."
      ]
    },
    {
      "cell_type": "code",
      "execution_count": 49,
      "metadata": {},
      "outputs": [
        {
          "name": "stdout",
          "output_type": "stream",
          "text": [
            "[False  True False]\n",
            "[ True  True False]\n"
          ]
        }
      ],
      "source": [
        "a = np.array([1.0000001, 2.0, 3.0])\n",
        "b = np.array([1.0, 2.0, 3.0001])\n",
        "\n",
        "print(np.equal(a, b)) # Lo mismo que a == b\n",
        "print(np.isclose(a, b)) # Aproximado"
      ]
    },
    {
      "cell_type": "markdown",
      "metadata": {},
      "source": [
        "#### 12. Write a NumPy program to create an array with the values 1, 7, 13, 105 and determine the size of the memory occupied by the array."
      ]
    },
    {
      "cell_type": "code",
      "execution_count": 65,
      "metadata": {},
      "outputs": [
        {
          "name": "stdout",
          "output_type": "stream",
          "text": [
            "[  1   7  13 105  54]\n",
            "40\n"
          ]
        }
      ],
      "source": [
        "array = np.array([1, 7, 13, 105, 54], dtype=int) # 8 bytes por cada número del array\n",
        "\n",
        "print(array)\n",
        "print(array.nbytes)"
      ]
    },
    {
      "cell_type": "markdown",
      "metadata": {},
      "source": [
        "#### 13. Write a NumPy program to create an array of 10 zeros, 10 ones, and 10 fives. "
      ]
    },
    {
      "cell_type": "code",
      "execution_count": 7,
      "metadata": {},
      "outputs": [
        {
          "name": "stdout",
          "output_type": "stream",
          "text": [
            "[0 0 0 0 0 0 0 0 0 0]\n",
            "[1 1 1 1 1 1 1 1 1 1]\n",
            "[5 5 5 5 5 5 5 5 5 5]\n"
          ]
        }
      ],
      "source": [
        "ceros = np.zeros(10, dtype=int)\n",
        "unos = np.ones(10, dtype=int)\n",
        "cincos = np.full(10, 5)\n",
        "\n",
        "print(ceros)\n",
        "print(unos)\n",
        "print(cincos)"
      ]
    },
    {
      "cell_type": "markdown",
      "metadata": {},
      "source": [
        "#### 14. Write a NumPy program to create an array of integers from 30 to 70."
      ]
    },
    {
      "cell_type": "code",
      "execution_count": 8,
      "metadata": {},
      "outputs": [
        {
          "name": "stdout",
          "output_type": "stream",
          "text": [
            "[30 31 32 33 34 35 36 37 38 39 40 41 42 43 44 45 46 47 48 49 50 51 52 53\n",
            " 54 55 56 57 58 59 60 61 62 63 64 65 66 67 68 69 70]\n"
          ]
        }
      ],
      "source": [
        "array_range = np.arange(30, 71)\n",
        "\n",
        "print(array_range)"
      ]
    },
    {
      "cell_type": "markdown",
      "metadata": {},
      "source": [
        "#### 15. Write a NumPy program to create an array of all even integers from 30 to 70"
      ]
    },
    {
      "cell_type": "code",
      "execution_count": 10,
      "metadata": {},
      "outputs": [
        {
          "name": "stdout",
          "output_type": "stream",
          "text": [
            "[30 32 34 36 38 40 42 44 46 48 50 52 54 56 58 60 62 64 66 68 70]\n"
          ]
        }
      ],
      "source": [
        "even_array = np.arange(30, 71, 2)\n",
        "\n",
        "print(even_array)"
      ]
    },
    {
      "cell_type": "markdown",
      "metadata": {},
      "source": [
        "#### 16. Write a NumPy program to create a 3x3 identity matrix."
      ]
    },
    {
      "cell_type": "code",
      "execution_count": 11,
      "metadata": {},
      "outputs": [
        {
          "name": "stdout",
          "output_type": "stream",
          "text": [
            "[[1. 0. 0.]\n",
            " [0. 1. 0.]\n",
            " [0. 0. 1.]]\n"
          ]
        }
      ],
      "source": [
        "identity_array = np.identity(3)\n",
        "\n",
        "print(identity_array)"
      ]
    },
    {
      "cell_type": "markdown",
      "metadata": {},
      "source": [
        "#### 17. Write a NumPy program to generate a random number between 0 and 1."
      ]
    },
    {
      "cell_type": "code",
      "execution_count": 17,
      "metadata": {},
      "outputs": [
        {
          "name": "stdout",
          "output_type": "stream",
          "text": [
            "0.45505757242741807\n"
          ]
        }
      ],
      "source": [
        "rng = np.random.default_rng() \n",
        "\n",
        "random_num = rng.random() # Por defecto, el rango del random es desde el 0 al 1\n",
        "\n",
        "print(random_num)"
      ]
    },
    {
      "cell_type": "markdown",
      "metadata": {},
      "source": [
        "#### 18. Write a NumPy program to generate an array of 15 random numbers from a standard normal distribution."
      ]
    },
    {
      "cell_type": "code",
      "execution_count": 18,
      "metadata": {},
      "outputs": [
        {
          "name": "stdout",
          "output_type": "stream",
          "text": [
            "[0.57626579 0.79703469 0.18703757 0.38819373 0.77535942 0.48327702\n",
            " 0.3027586  0.20796035 0.44749834 0.1250663  0.33196206 0.80054308\n",
            " 0.0252215  0.09523756 0.88399444]\n"
          ]
        }
      ],
      "source": [
        "random_array = rng.random(15)\n",
        "\n",
        "print(random_array)"
      ]
    },
    {
      "cell_type": "markdown",
      "metadata": {},
      "source": [
        "#### 19. Write a NumPy program to create a vector with values ranging from 15 to 55 and print all values except the first and last.\n"
      ]
    },
    {
      "cell_type": "code",
      "execution_count": 25,
      "metadata": {},
      "outputs": [
        {
          "name": "stdout",
          "output_type": "stream",
          "text": [
            "[31 44 50 27 26 26 53 55 27 46]\n",
            "[44 50 27 26 26 53 55 27]\n"
          ]
        }
      ],
      "source": [
        "random_array = np.random.randint(15, 56, size=10)\n",
        "\n",
        "print(random_array)\n",
        "print(random_array[1:-1])"
      ]
    },
    {
      "cell_type": "markdown",
      "metadata": {},
      "source": [
        "#### 20. Write a NumPy program to create a 3X4 array and iterate over it."
      ]
    },
    {
      "cell_type": "code",
      "execution_count": 30,
      "metadata": {},
      "outputs": [
        {
          "name": "stdout",
          "output_type": "stream",
          "text": [
            "[[0 2 0 2]\n",
            " [9 9 1 7]\n",
            " [1 9 1 2]]\n",
            "Elemento en (0, 0): 0\n",
            "Elemento en (0, 1): 2\n",
            "Elemento en (0, 2): 0\n",
            "Elemento en (0, 3): 2\n",
            "Elemento en (1, 0): 9\n",
            "Elemento en (1, 1): 9\n",
            "Elemento en (1, 2): 1\n",
            "Elemento en (1, 3): 7\n",
            "Elemento en (2, 0): 1\n",
            "Elemento en (2, 1): 9\n",
            "Elemento en (2, 2): 1\n",
            "Elemento en (2, 3): 2\n"
          ]
        }
      ],
      "source": [
        "a = np.random.randint(10, size=(3, 4))\n",
        "\n",
        "print(a)\n",
        "\n",
        "\n",
        "for fila in range(a.shape[0]):    # Iterar sobre las filas\n",
        "    for columna in range(a.shape[1]): # Iterar sobre las columnas\n",
        "        print(f\"Elemento en ({fila}, {columna}):\", a[fila, columna])\n"
      ]
    }
  ],
  "metadata": {
    "colab": {
      "provenance": []
    },
    "kernelspec": {
      "display_name": "Python 3",
      "name": "python3"
    },
    "language_info": {
      "codemirror_mode": {
        "name": "ipython",
        "version": 3
      },
      "file_extension": ".py",
      "mimetype": "text/x-python",
      "name": "python",
      "nbconvert_exporter": "python",
      "pygments_lexer": "ipython3",
      "version": "3.12.7"
    }
  },
  "nbformat": 4,
  "nbformat_minor": 0
}
