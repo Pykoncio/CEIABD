{
 "cells": [
  {
   "cell_type": "code",
   "execution_count": null,
   "metadata": {},
   "outputs": [],
   "source": [
    "import numpy as np\n",
    "import matplotlib.pyplot as plt"
   ]
  },
  {
   "cell_type": "markdown",
   "metadata": {},
   "source": [
    "## Una neurona con una entrada y un peso.\n",
    "\n",
    "Establecemos un peso de 0.5 y la entrada la pedimos al usuario."
   ]
  },
  {
   "cell_type": "code",
   "execution_count": null,
   "metadata": {},
   "outputs": [
    {
     "name": "stdout",
     "output_type": "stream",
     "text": [
      "La salida de la neurona es: 3.9\n"
     ]
    }
   ],
   "source": [
    "w = 0.5\n",
    "x = float(input(\"Introduzca un valor a la entrada: \"))\n",
    "y = x * w\n",
    "print(f\"La salida de la neurona es: {y}\")"
   ]
  },
  {
   "cell_type": "markdown",
   "metadata": {},
   "source": [
    "## Una neurona con dos entradas"
   ]
  },
  {
   "cell_type": "markdown",
   "metadata": {},
   "source": [
    "Establecemos pesos de 1.5 y 2.5 y pedimos las entradas al usuario."
   ]
  },
  {
   "cell_type": "code",
   "execution_count": 8,
   "metadata": {},
   "outputs": [
    {
     "name": "stdout",
     "output_type": "stream",
     "text": [
      "La salida de la neurona es: 15.75\n"
     ]
    }
   ],
   "source": [
    "w0, w1 = 1.5, 2.5\n",
    "\n",
    "x0, x1 = map(float, input(\"Introduzca el valor de las entradas separadas por espacios: \").split())\n",
    "\n",
    "y = w0 * x0 + w1 * x1\n",
    "\n",
    "print(f\"La salida de la neurona es: {y}\")"
   ]
  },
  {
   "cell_type": "markdown",
   "metadata": {},
   "source": [
    "## Una neurona con tres entradas y bias (sesgo)"
   ]
  },
  {
   "cell_type": "markdown",
   "metadata": {},
   "source": [
    "Establecemos pesos de 1, 2, 3 y un bias de 10."
   ]
  },
  {
   "cell_type": "code",
   "execution_count": 9,
   "metadata": {},
   "outputs": [
    {
     "name": "stdout",
     "output_type": "stream",
     "text": [
      "La salida de la neurona es: 17.0\n"
     ]
    }
   ],
   "source": [
    "w0, w1, w2 = 1, 2, 3\n",
    "b = 10\n",
    "\n",
    "x0, x1, x2 = map(float, input(\"Introduzca el valor de las tres entradas separadas por espacios: \").split())\n",
    "\n",
    "y = w0 * x0 + w1 * x1 + w2 * x2 + b\n",
    "\n",
    "print(f\"La salida de la neurona es: {y}\")"
   ]
  },
  {
   "cell_type": "markdown",
   "metadata": {},
   "source": [
    "## Una neurona con un vector de entrada y bias"
   ]
  },
  {
   "cell_type": "markdown",
   "metadata": {},
   "source": [
    "Se debe de comprobar que el vector de pesos tiene la misma longitud que el vector de entradas y mostrar un mensaje de error si no se cumple esta condición."
   ]
  },
  {
   "cell_type": "code",
   "execution_count": null,
   "metadata": {},
   "outputs": [
    {
     "name": "stdout",
     "output_type": "stream",
     "text": [
      "La salida de la neurona es: 139.925\n"
     ]
    }
   ],
   "source": [
    "weights = np.fromstring(input(\"Introduzca el valor de los pesos separados por espacios: \").split())\n",
    "\n",
    "inputs = np.fromstring(input(\"Introduzca el valor de las entradas separadas por espacios: \").split())\n",
    "\n",
    "b = float(input(\"Introduzca el valor del sesgo: \"))\n",
    "\n",
    "if len(inputs) != len(weights):\n",
    "    raise ValueError(\"El número de entradas y pesos no coincide...\")\n",
    "else:\n",
    "    # Esto sería con List Comprehension -> y = sum(x * w for x, w in zip(inputs, weights)) + b\n",
    "    y = np.dot(inputs, weights) + b\n",
    "    print(f\"La salida de la neurona es: {y}\")"
   ]
  },
  {
   "cell_type": "markdown",
   "metadata": {},
   "source": [
    "# Función de Activación\n"
   ]
  },
  {
   "cell_type": "markdown",
   "metadata": {},
   "source": [
    "## Sigmoide o $\\sigma$\n",
    "\n",
    "Devuelve un valor entre 0 y 1.\n",
    "\n",
    "Es útil para representar probabilidades.\n",
    "\n",
    "$\\sigma = \\frac{1}{1 + e^{-x}}$"
   ]
  },
  {
   "cell_type": "markdown",
   "metadata": {},
   "source": [
    "## ReLU (Rectified Linear Unit)\n",
    "\n",
    "Si x es negativo, devuelve 0\n",
    "Si x es positivo, devuelve x\n",
    "\n",
    "$y = max(0, x)$"
   ]
  },
  {
   "cell_type": "markdown",
   "metadata": {},
   "source": [
    "## Tangente hiperbólica\n",
    "\n",
    "Acota el valor de salida al intervalo [-1, 1]\n",
    "\n",
    "$y = \\frac{2}{1 + e^{-2x}} - 1$"
   ]
  },
  {
   "cell_type": "markdown",
   "metadata": {},
   "source": [
    "## Binary Step\n",
    "\n",
    "Si x es negativo, devuelve 0.  \n",
    "Si x es positivo, devuelve 1. "
   ]
  },
  {
   "cell_type": "markdown",
   "metadata": {},
   "source": [
    "# Perceptrón"
   ]
  },
  {
   "cell_type": "markdown",
   "metadata": {},
   "source": [
    "$ y = \\phi\\left(\\sum_{i=0}^{n} x_n w_n + b\\right) $"
   ]
  },
  {
   "cell_type": "markdown",
   "metadata": {},
   "source": [
    "## Ejercicio\n",
    "\n",
    "Creación de la clase Neuron.\n",
    "\n",
    "- Esta clase debe permitir instanciar neuronas con un vector de pesos, un sesgo y una determinada función de activación.\n",
    "\n",
    "- Se podrán cambiar los pesos y el sesgo a posteriori.\n",
    "\n",
    "- Dado un vector de entrada, la neurona debe ser capaz de dar la salida adecuada."
   ]
  },
  {
   "cell_type": "code",
   "execution_count": 11,
   "metadata": {},
   "outputs": [],
   "source": [
    "import numpy as np\n",
    "\n",
    "class Neuron:\n",
    "    def __init__(self, weights, bias, activation_function_name=\"sigmoid\"): # Sigmoid es por defecto\n",
    "        self.__weights = weights\n",
    "        self.__bias = bias\n",
    "        self.__activation_function = self.__get_activation_function(activation_function_name)\n",
    "\n",
    "    @property\n",
    "    def weights(self):\n",
    "        return self.__weights\n",
    "    \n",
    "    @weights.setter\n",
    "    def weights(self, weights):\n",
    "        self.__weights = weights\n",
    "\n",
    "    @property\n",
    "    def bias(self):\n",
    "        return self.__bias\n",
    "    \n",
    "    @bias.setter\n",
    "    def bias(self, bias):\n",
    "        self.__bias = bias\n",
    "\n",
    "    def __get_activation_function(self, name):\n",
    "        functions = {\n",
    "            \"sigmoid\": self.__sigmoid,\n",
    "            \"relu\": self.__relu,\n",
    "            \"tanh\": self.__tanh,\n",
    "            \"binary_step\": self.__binary_step\n",
    "        }\n",
    "\n",
    "        return functions.get(name, self.__sigmoid) # Si no encuentra la función, devuelve la sigmoide\n",
    "    \n",
    "    def __sigmoid(self, x):\n",
    "        return 1 / (1 + np.exp(-x))\n",
    "\n",
    "    def __tanh(self, x):\n",
    "        return np.tanh(x)\n",
    "\n",
    "    def __relu(self, x):\n",
    "        return np.maximum(0, x)\n",
    "    \n",
    "    def __binary_step(self, x):\n",
    "        return np.where(x >= 0, 1, 0)\n",
    "    \n",
    "    def run(self, input_data):\n",
    "        if len(input_data) != len(self.__weights):\n",
    "            raise ValueError(f\"El número de entradas y pesos no coincide... El vector de entrada debe de tener una longitud de {len(self.weights)} valores.\")\n",
    "        else:\n",
    "            y = np.dot(input_data, self.__weights) + self.__bias\n",
    "            return self.__activation_function(y)"
   ]
  },
  {
   "cell_type": "code",
   "execution_count": 17,
   "metadata": {},
   "outputs": [
    {
     "name": "stdout",
     "output_type": "stream",
     "text": [
      "La salida de la neurona es: 88.8\n",
      "La salida de la neurona es: 0.0\n"
     ]
    }
   ],
   "source": [
    "n1 = Neuron(weights = [0.5, 1.2, 6.8], bias=100, activation_function_name=\"relu\")\n",
    "\n",
    "x = [4, 6, -3]\n",
    "\n",
    "output = n1.run(x)\n",
    "\n",
    "print(f\"La salida de la neurona es: {output}\")\n",
    "\n",
    "n1.bias = -100\n",
    "\n",
    "output = n1.run(x)\n",
    "\n",
    "print(f\"La salida de la neurona es: {output}\")"
   ]
  }
 ],
 "metadata": {
  "kernelspec": {
   "display_name": "Python 3",
   "language": "python",
   "name": "python3"
  },
  "language_info": {
   "codemirror_mode": {
    "name": "ipython",
    "version": 3
   },
   "file_extension": ".py",
   "mimetype": "text/x-python",
   "name": "python",
   "nbconvert_exporter": "python",
   "pygments_lexer": "ipython3",
   "version": "3.11.2"
  }
 },
 "nbformat": 4,
 "nbformat_minor": 2
}
