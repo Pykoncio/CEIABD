{
 "cells": [
  {
   "cell_type": "markdown",
   "metadata": {},
   "source": [
    "# PyTorch. Evaluación de la calidad del vino.\n",
    "\n",
    "<img src=\"https://saludconlupa.com/media/images/red-wine-pouring-from-bottle-glass.width-1920.jpg\" width=\"600px\" />\n",
    "\n",
    "Vamos a crear y entrenar una red neuronal con PyTorch para clasificar la calidad del vino utilizando el conjunto de datos `wine` de `sklearn`."
   ]
  },
  {
   "cell_type": "markdown",
   "metadata": {},
   "source": [
    "## Importación de librerías"
   ]
  },
  {
   "cell_type": "code",
   "execution_count": null,
   "metadata": {},
   "outputs": [],
   "source": [
    "import numpy as np\n",
    "import matplotlib.pyplot as plt\n",
    "\n",
    "import torch\n",
    "import torch.nn as nn\n",
    "\n",
    "# Modulo de PyTorch para definir optimizadores como Adam o SGD\n",
    "import torch.optim as optim\n",
    "\n",
    "# Función de scikit-learn para cargar el conjunto de datos de vino\n",
    "from sklearn.datasets import load_wine\n",
    "\n",
    "# Función de scikit-learn para dividir el conjunto de datos en entrenamiento y prueba\n",
    "from sklearn.model_selection import train_test_split\n",
    "\n",
    "# Clase para normalizar los datos (media 0, desviación estándar 1)\n",
    "from sklearn.preprocessing import StandardScaler\n",
    "\n",
    "# Funcion para calcular la precision\n",
    "from sklearn.metrics import accuracy_score\n",
    "\n",
    "# Para mostrar la matriz de confusiòn\n",
    "from sklearn.metrics import confusion_matrix, ConfusionMatrixDisplay"
   ]
  }
 ],
 "metadata": {
  "language_info": {
   "name": "python"
  }
 },
 "nbformat": 4,
 "nbformat_minor": 2
}
