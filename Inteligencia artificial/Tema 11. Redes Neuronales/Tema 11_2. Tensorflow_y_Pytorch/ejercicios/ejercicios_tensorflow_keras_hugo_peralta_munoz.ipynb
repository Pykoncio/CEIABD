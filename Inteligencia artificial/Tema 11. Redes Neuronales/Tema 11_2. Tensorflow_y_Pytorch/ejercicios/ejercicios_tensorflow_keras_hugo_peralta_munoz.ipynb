{
 "cells": [
  {
   "cell_type": "markdown",
   "metadata": {},
   "source": [
    "# Ejercicios TensorFlow y Keras - Hugo Peralta Muñoz"
   ]
  },
  {
   "cell_type": "markdown",
   "metadata": {},
   "source": [
    "## 1. Importa TensorFlow."
   ]
  },
  {
   "cell_type": "code",
   "execution_count": 1,
   "metadata": {},
   "outputs": [],
   "source": [
    "import tensorflow as tf"
   ]
  },
  {
   "cell_type": "markdown",
   "metadata": {},
   "source": [
    "## 2. Importa Keras."
   ]
  },
  {
   "cell_type": "code",
   "execution_count": 2,
   "metadata": {},
   "outputs": [],
   "source": [
    "from tensorflow import keras"
   ]
  },
  {
   "cell_type": "markdown",
   "metadata": {},
   "source": [
    "## 3. ¿Qué es un tensor en Tensorflow?"
   ]
  },
  {
   "cell_type": "markdown",
   "metadata": {},
   "source": [
    "Un tensor en TensorFlow es una estructura de datos multidimensional que representa matrices y vectores n-dimensionales, utilizada para almacenar y manipular datos numéricos. Es el componente básico de la computación en TensorFlow, compatible con operaciones algebraicas y capaz de fluir a través de un modelo. Los tensores tienen propiedades como dimensiones (shape) y tipo de datos (dtype)."
   ]
  },
  {
   "cell_type": "markdown",
   "metadata": {},
   "source": [
    "## 4. Crea dos tensores con valores aleatorios entre $0$ y $1$ y las dimensiones `[5, 300]`."
   ]
  },
  {
   "cell_type": "code",
   "execution_count": 3,
   "metadata": {},
   "outputs": [],
   "source": [
    "tensor1 = tf.random.uniform(shape=[5, 300], minval=0, maxval=1)\n",
    "tensor2 = tf.random.uniform(shape=[5, 300], minval=0, maxval=1)"
   ]
  },
  {
   "cell_type": "markdown",
   "metadata": {},
   "source": [
    "## 5. Multiplica los dos tensores del ejercicio anterior."
   ]
  },
  {
   "cell_type": "code",
   "execution_count": 5,
   "metadata": {},
   "outputs": [
    {
     "data": {
      "text/plain": [
       "<tf.Tensor: shape=(5, 300), dtype=float32, numpy=\n",
       "array([[0.36898223, 0.00736399, 0.00514991, ..., 0.03295816, 0.12505898,\n",
       "        0.8340466 ],\n",
       "       [0.06835898, 0.00734587, 0.28862417, ..., 0.01196212, 0.12282009,\n",
       "        0.06980941],\n",
       "       [0.22706443, 0.0520004 , 0.10058136, ..., 0.05273278, 0.22387816,\n",
       "        0.10917804],\n",
       "       [0.2522772 , 0.08816355, 0.24552147, ..., 0.31966737, 0.11335851,\n",
       "        0.00892074],\n",
       "       [0.12379011, 0.17865397, 0.1486415 , ..., 0.06109536, 0.57405937,\n",
       "        0.39064342]], dtype=float32)>"
      ]
     },
     "execution_count": 5,
     "metadata": {},
     "output_type": "execute_result"
    }
   ],
   "source": [
    "multiplied_tensors = tf.multiply(tensor1, tensor2)\n",
    "multiplied_tensors"
   ]
  },
  {
   "cell_type": "markdown",
   "metadata": {},
   "source": [
    "## 6. Averigua el mínimo, máximo, suma y media del primer tensor."
   ]
  },
  {
   "cell_type": "code",
   "execution_count": 6,
   "metadata": {},
   "outputs": [
    {
     "data": {
      "text/plain": [
       "(<tf.Tensor: shape=(), dtype=float32, numpy=0.00016151912859641016>,\n",
       " <tf.Tensor: shape=(), dtype=float32, numpy=0.9462977647781372>,\n",
       " <tf.Tensor: shape=(), dtype=float32, numpy=371.7823486328125>,\n",
       " <tf.Tensor: shape=(), dtype=float32, numpy=0.24785490334033966>)"
      ]
     },
     "execution_count": 6,
     "metadata": {},
     "output_type": "execute_result"
    }
   ],
   "source": [
    "min_value = tf.reduce_min(multiplied_tensors)\n",
    "max_value = tf.reduce_max(multiplied_tensors)\n",
    "sum_value = tf.reduce_sum(multiplied_tensors)\n",
    "mean_value = tf.reduce_mean(multiplied_tensors)\n",
    "\n",
    "min_value, max_value, sum_value, mean_value"
   ]
  },
  {
   "cell_type": "markdown",
   "metadata": {},
   "source": [
    "## 7. Define un tensor con valor `[1, 2, 3]` y el tipo de datos `int32` y guarda el resultado en $x$.\n"
   ]
  },
  {
   "cell_type": "code",
   "execution_count": 7,
   "metadata": {},
   "outputs": [],
   "source": [
    "x = tf.constant([1, 2, 3], dtype=tf.float32)"
   ]
  },
  {
   "cell_type": "markdown",
   "metadata": {},
   "source": [
    "## 8. Calcula la traspuesta de un tensor $a$ y guárdalo en `a_transposed`. Prueba con el tensor `a = [[1, 2], [3, 4], [5, 6]]`.\n"
   ]
  },
  {
   "cell_type": "code",
   "execution_count": 8,
   "metadata": {},
   "outputs": [
    {
     "data": {
      "text/plain": [
       "<tf.Tensor: shape=(2, 3), dtype=float32, numpy=\n",
       "array([[1., 3., 5.],\n",
       "       [2., 4., 6.]], dtype=float32)>"
      ]
     },
     "execution_count": 8,
     "metadata": {},
     "output_type": "execute_result"
    }
   ],
   "source": [
    "a = tf.constant([[1, 2], [3, 4], [5, 6]], dtype=tf.float32)\n",
    "\n",
    "a_transposed = tf.transpose(a)\n",
    "a_transposed"
   ]
  },
  {
   "cell_type": "markdown",
   "metadata": {},
   "source": [
    "## 9. Convierte el tensor $a$ en un array de numpy con nombre `a_np`."
   ]
  },
  {
   "cell_type": "code",
   "execution_count": 9,
   "metadata": {},
   "outputs": [
    {
     "data": {
      "text/plain": [
       "array([[1., 2.],\n",
       "       [3., 4.],\n",
       "       [5., 6.]], dtype=float32)"
      ]
     },
     "execution_count": 9,
     "metadata": {},
     "output_type": "execute_result"
    }
   ],
   "source": [
    "a_np = a.numpy()\n",
    "a_np"
   ]
  },
  {
   "cell_type": "markdown",
   "metadata": {},
   "source": [
    "## 10. Calcula la suma de todos los elementos del tensor `a` y guárdalo en `a_sum`."
   ]
  },
  {
   "cell_type": "code",
   "execution_count": 13,
   "metadata": {},
   "outputs": [
    {
     "data": {
      "text/plain": [
       "<tf.Tensor: shape=(), dtype=float32, numpy=21.0>"
      ]
     },
     "execution_count": 13,
     "metadata": {},
     "output_type": "execute_result"
    }
   ],
   "source": [
    "a_sum = tf.reduce_sum(a)\n",
    "a_sum"
   ]
  },
  {
   "cell_type": "markdown",
   "metadata": {},
   "source": [
    "## 11. Calcula la media de todos los elementos del tensor `a` y guárdalo en `a_mean`.\n"
   ]
  },
  {
   "cell_type": "code",
   "execution_count": 14,
   "metadata": {},
   "outputs": [
    {
     "data": {
      "text/plain": [
       "<tf.Tensor: shape=(), dtype=float32, numpy=3.5>"
      ]
     },
     "execution_count": 14,
     "metadata": {},
     "output_type": "execute_result"
    }
   ],
   "source": [
    "a_mean = tf.reduce_mean(a)\n",
    "a_mean"
   ]
  },
  {
   "cell_type": "markdown",
   "metadata": {},
   "source": [
    "## 12. Define una variable de TensorFlow llamada `weights` con valor `[0.2, 0.8, 0.5]`."
   ]
  },
  {
   "cell_type": "code",
   "execution_count": 15,
   "metadata": {},
   "outputs": [
    {
     "data": {
      "text/plain": [
       "<tf.Tensor: shape=(3,), dtype=float32, numpy=array([0.2, 0.8, 0.5], dtype=float32)>"
      ]
     },
     "execution_count": 15,
     "metadata": {},
     "output_type": "execute_result"
    }
   ],
   "source": [
    "weights = tf.constant([0.2, 0.8, 0.5])\n",
    "weights"
   ]
  },
  {
   "cell_type": "markdown",
   "metadata": {},
   "source": [
    "## 13. Calcula la suma de dos tensores $a$ y $b$ y guarda el resultado en la variable result. Prueba con los tensores `a = [1, 2, 3]` y `b = [4, 5, 6]`."
   ]
  },
  {
   "cell_type": "code",
   "execution_count": 18,
   "metadata": {},
   "outputs": [
    {
     "data": {
      "text/plain": [
       "<tf.Tensor: shape=(3,), dtype=int32, numpy=array([5, 7, 9])>"
      ]
     },
     "execution_count": 18,
     "metadata": {},
     "output_type": "execute_result"
    }
   ],
   "source": [
    "a = tf.constant([1, 2, 3])\n",
    "b = tf.constant([4, 5, 6])\n",
    "\n",
    "result = a + b\n",
    "\n",
    "result"
   ]
  },
  {
   "cell_type": "markdown",
   "metadata": {},
   "source": [
    "## 14. Aplica la función softmax a un tensor $x$ y guarda el resultado en la variable `result`. Prueba con el tensor `x = [1.2, 3.0, 8.9]`."
   ]
  },
  {
   "cell_type": "code",
   "execution_count": 22,
   "metadata": {},
   "outputs": [
    {
     "data": {
      "text/plain": [
       "<tf.Tensor: shape=(3,), dtype=float32, numpy=array([4.5138627e-04, 2.7307284e-03, 9.9681783e-01], dtype=float32)>"
      ]
     },
     "execution_count": 22,
     "metadata": {},
     "output_type": "execute_result"
    }
   ],
   "source": [
    "x = tf.constant([1.2, 3.0, 8.9])\n",
    "\n",
    "result = tf.nn.softmax(x)\n",
    "result"
   ]
  },
  {
   "cell_type": "markdown",
   "metadata": {},
   "source": [
    "## 15. Crea un modelo de Keras de tipo *Sequential* con nombre `images_model`."
   ]
  },
  {
   "cell_type": "code",
   "execution_count": 25,
   "metadata": {},
   "outputs": [
    {
     "data": {
      "text/plain": [
       "<Sequential name=sequential_1, built=False>"
      ]
     },
     "execution_count": 25,
     "metadata": {},
     "output_type": "execute_result"
    }
   ],
   "source": [
    "images_model = keras.models.Sequential()\n",
    "images_model"
   ]
  },
  {
   "cell_type": "markdown",
   "metadata": {},
   "source": [
    "## 16. Añade una capa densa de $50$ neuronas con la función de activación *relu* a un modelo."
   ]
  },
  {
   "cell_type": "code",
   "execution_count": 24,
   "metadata": {},
   "outputs": [
    {
     "data": {
      "text/plain": [
       "<Sequential name=sequential, built=False>"
      ]
     },
     "execution_count": 24,
     "metadata": {},
     "output_type": "execute_result"
    }
   ],
   "source": [
    "images_model.add(keras.layers.Dense(50, activation=\"relu\"))\n",
    "images_model"
   ]
  }
 ],
 "metadata": {
  "kernelspec": {
   "display_name": "Python 3",
   "language": "python",
   "name": "python3"
  },
  "language_info": {
   "codemirror_mode": {
    "name": "ipython",
    "version": 3
   },
   "file_extension": ".py",
   "mimetype": "text/x-python",
   "name": "python",
   "nbconvert_exporter": "python",
   "pygments_lexer": "ipython3",
   "version": "3.11.2"
  }
 },
 "nbformat": 4,
 "nbformat_minor": 2
}
