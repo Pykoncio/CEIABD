{
 "cells": [
  {
   "cell_type": "markdown",
   "metadata": {},
   "source": [
    "# Python Filter Exercises - Hugo Peralta Muñoz"
   ]
  },
  {
   "cell_type": "markdown",
   "metadata": {},
   "source": [
    "## Exercise 14-a\n",
    "\n",
    "Using `filter()` function filter the list so that only negative numbers are left.\n",
    "\n",
    "`lst1=[12, -1, 9, 8, -0.5, -0.2, -100]`"
   ]
  },
  {
   "cell_type": "code",
   "execution_count": 1,
   "metadata": {},
   "outputs": [
    {
     "name": "stdout",
     "output_type": "stream",
     "text": [
      "[-1, -0.5, -0.2, -100]\n"
     ]
    }
   ],
   "source": [
    "lst1=[12, -1, 9, 8, -0.5, -0.2, -100]\n",
    "\n",
    "lst2 = list(filter(lambda n: n < 0, lst1))\n",
    "\n",
    "print(lst2)"
   ]
  },
  {
   "cell_type": "markdown",
   "metadata": {},
   "source": [
    "## Exercise 14-b\n",
    "\n",
    "Using filter function, filter the even numbers so that only odd numbers are passed to the new list.\n",
    "\n",
    "`lst1=[22, 100, 19, 13, 11, 1, 4, 66]`"
   ]
  },
  {
   "cell_type": "code",
   "execution_count": 2,
   "metadata": {},
   "outputs": [
    {
     "name": "stdout",
     "output_type": "stream",
     "text": [
      "[19, 13, 11, 1]\n"
     ]
    }
   ],
   "source": [
    "lst1=[22, 100, 19, 13, 11, 1, 4, 66]\n",
    "\n",
    "lst2 = list(filter(lambda n: n % 2 != 0, lst1))\n",
    "\n",
    "print(lst2)"
   ]
  },
  {
   "cell_type": "markdown",
   "metadata": {},
   "source": [
    "## Exercise 14-c\n",
    "\n",
    "Using `filter()` and `list()` functions and `.lower()` method filter all the vowels in a given string.\n",
    "\n",
    "`str1=\"Winter Olympics in 2022 will take place in Beijing China\"`"
   ]
  },
  {
   "cell_type": "code",
   "execution_count": 5,
   "metadata": {},
   "outputs": [
    {
     "name": "stdout",
     "output_type": "stream",
     "text": [
      "['i', 'e', 'O', 'i', 'i', 'i', 'a', 'e', 'a', 'e', 'i', 'e', 'i', 'i', 'i', 'a']\n"
     ]
    }
   ],
   "source": [
    "str1=\"Winter Olympics in 2022 will take place in Beijing China\"\n",
    "\n",
    "lst = list(filter(lambda character: character.lower() in \"aeiou\", str1))\n",
    "\n",
    "print(lst)"
   ]
  }
 ],
 "metadata": {
  "kernelspec": {
   "display_name": "Python 3",
   "language": "python",
   "name": "python3"
  },
  "language_info": {
   "codemirror_mode": {
    "name": "ipython",
    "version": 3
   },
   "file_extension": ".py",
   "mimetype": "text/x-python",
   "name": "python",
   "nbconvert_exporter": "python",
   "pygments_lexer": "ipython3",
   "version": "3.12.7"
  }
 },
 "nbformat": 4,
 "nbformat_minor": 2
}
