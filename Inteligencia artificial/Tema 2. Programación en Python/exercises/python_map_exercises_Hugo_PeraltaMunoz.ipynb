{
 "cells": [
  {
   "cell_type": "markdown",
   "metadata": {},
   "source": [
    "# Python Map Exercises - Hugo Peralta Muñoz"
   ]
  },
  {
   "cell_type": "markdown",
   "metadata": {},
   "source": [
    "## Exercise 13-a \n",
    "\n",
    "Write a map function that adds plus 5 to each item in the list.\n",
    "\n",
    "`lst1=[10, 20, 30, 40, 50, 60]`"
   ]
  },
  {
   "cell_type": "code",
   "execution_count": 2,
   "metadata": {},
   "outputs": [
    {
     "name": "stdout",
     "output_type": "stream",
     "text": [
      "[15, 25, 35, 45, 55, 65]\n"
     ]
    }
   ],
   "source": [
    "lst1 = [10, 20, 30, 40, 50, 60]\n",
    "\n",
    "lst2 = list(map(lambda n: n + 5, lst1))\n",
    "\n",
    "print(lst2)"
   ]
  },
  {
   "cell_type": "markdown",
   "metadata": {},
   "source": [
    "## Exercise 13-b\n",
    "\n",
    "Write a map function that returns the squares of the items in the list.\n",
    "\n",
    "`lst1=[10, 20, 30, 40, 50, 60]`"
   ]
  },
  {
   "cell_type": "code",
   "execution_count": 3,
   "metadata": {},
   "outputs": [
    {
     "name": "stdout",
     "output_type": "stream",
     "text": [
      "[100, 400, 900, 1600, 2500, 3600]\n"
     ]
    }
   ],
   "source": [
    "lst1=[10, 20, 30, 40, 50, 60]\n",
    "\n",
    "lst2 = list(map(lambda n: n ** 2, lst1))\n",
    "\n",
    "print(lst2)"
   ]
  },
  {
   "cell_type": "markdown",
   "metadata": {},
   "source": [
    "## Exercise 13-c\n",
    "\n",
    "Write a map function that adds `\"Hello, \"` in front of each item in the list.\n",
    "\n",
    "`lst1=[\"Jane\", \"Lee\", \"Will\", \"Brie\"]`"
   ]
  },
  {
   "cell_type": "code",
   "execution_count": 2,
   "metadata": {},
   "outputs": [
    {
     "name": "stdout",
     "output_type": "stream",
     "text": [
      "['Hello, Jane', 'Hello, Lee', 'Hello, Will', 'Hello, Brie']\n"
     ]
    }
   ],
   "source": [
    "lst1=[\"Jane\", \"Lee\", \"Will\", \"Brie\"]\n",
    "\n",
    "lst2 = list(map(lambda word: \"Hello, \" + word , lst1))\n",
    "\n",
    "print(lst2)"
   ]
  }
 ],
 "metadata": {
  "kernelspec": {
   "display_name": "Python 3",
   "language": "python",
   "name": "python3"
  },
  "language_info": {
   "codemirror_mode": {
    "name": "ipython",
    "version": 3
   },
   "file_extension": ".py",
   "mimetype": "text/x-python",
   "name": "python",
   "nbconvert_exporter": "python",
   "pygments_lexer": "ipython3",
   "version": "3.12.7"
  }
 },
 "nbformat": 4,
 "nbformat_minor": 2
}
