{
 "cells": [
  {
   "attachments": {
    "image.png": {
     "image/png": "[encoded data removed]"
    }
   },
   "cell_type": "markdown",
   "metadata": {},
   "source": [
    "# PyTorch, Conceptos básicos.\n",
    "\n",
    "![image.png](attachment:image.png)\n",
    "\n",
    "* Es un framework enfocado en *deep learning*. \n",
    "* Es el más utilizado en los parpers de IA en general y deep learning en particular.\n",
    "* Comparte mucha nomenclatura con NumPy.\n",
    "\n",
    "Hay librerías que extienden las funcionalidades de PyTorch en dominios específicos:\n",
    "\n",
    "* `torchvision`\n",
    "* `torchaudio`\n",
    "* `torchtext`"
   ]
  },
  {
   "cell_type": "markdown",
   "metadata": {},
   "source": [
    "## Importación de la librería"
   ]
  },
  {
   "cell_type": "code",
   "execution_count": 35,
   "metadata": {},
   "outputs": [],
   "source": [
    "# %pip install torch"
   ]
  },
  {
   "cell_type": "code",
   "execution_count": 36,
   "metadata": {},
   "outputs": [],
   "source": [
    "import numpy as np\n",
    "import torch"
   ]
  },
  {
   "cell_type": "code",
   "execution_count": 37,
   "metadata": {},
   "outputs": [
    {
     "data": {
      "text/plain": [
       "'2.5.1+cpu'"
      ]
     },
     "execution_count": 37,
     "metadata": {},
     "output_type": "execute_result"
    }
   ],
   "source": [
    "torch.__version__"
   ]
  },
  {
   "cell_type": "markdown",
   "metadata": {},
   "source": [
    "## Tensores"
   ]
  },
  {
   "cell_type": "code",
   "execution_count": 38,
   "metadata": {},
   "outputs": [
    {
     "data": {
      "text/plain": [
       "tensor([[1, 2, 3],\n",
       "        [4, 5, 6]])"
      ]
     },
     "execution_count": 38,
     "metadata": {},
     "output_type": "execute_result"
    }
   ],
   "source": [
    "# Creación a partir de una lista\n",
    "\n",
    "lista = [[1, 2, 3], [4, 5, 6]]\n",
    "\n",
    "tensor1 = torch.tensor(lista)\n",
    "tensor1"
   ]
  },
  {
   "cell_type": "code",
   "execution_count": 39,
   "metadata": {},
   "outputs": [
    {
     "data": {
      "text/plain": [
       "tensor([[1, 2, 3],\n",
       "        [4, 5, 6]])"
      ]
     },
     "execution_count": 39,
     "metadata": {},
     "output_type": "execute_result"
    }
   ],
   "source": [
    "# Creación a partir de un array de numpy\n",
    "\n",
    "a = np.array([[1, 2, 3], [4, 5, 6]], dtype=np.int64)\n",
    "\n",
    "tensor2 = torch.from_numpy(a)\n",
    "tensor2"
   ]
  },
  {
   "cell_type": "code",
   "execution_count": 40,
   "metadata": {},
   "outputs": [
    {
     "data": {
      "text/plain": [
       "(torch.Size([2, 3]), torch.Size([2, 3]))"
      ]
     },
     "execution_count": 40,
     "metadata": {},
     "output_type": "execute_result"
    }
   ],
   "source": [
    "# Dimensiones\n",
    "\n",
    "tensor1.shape, tensor2.shape"
   ]
  },
  {
   "cell_type": "code",
   "execution_count": 41,
   "metadata": {},
   "outputs": [
    {
     "data": {
      "text/plain": [
       "(torch.int64, torch.int64)"
      ]
     },
     "execution_count": 41,
     "metadata": {},
     "output_type": "execute_result"
    }
   ],
   "source": [
    "# Tipo de dato base\n",
    "\n",
    "tensor1.dtype, tensor2.dtype"
   ]
  },
  {
   "cell_type": "code",
   "execution_count": 42,
   "metadata": {},
   "outputs": [
    {
     "data": {
      "text/plain": [
       "(device(type='cpu'), device(type='cpu'))"
      ]
     },
     "execution_count": 42,
     "metadata": {},
     "output_type": "execute_result"
    }
   ],
   "source": [
    "# Uso de CPU o GPU\n",
    "\n",
    "tensor1.device, tensor2.device"
   ]
  },
  {
   "cell_type": "code",
   "execution_count": 43,
   "metadata": {},
   "outputs": [
    {
     "data": {
      "text/plain": [
       "(6, 6)"
      ]
     },
     "execution_count": 43,
     "metadata": {},
     "output_type": "execute_result"
    }
   ],
   "source": [
    "# Número de elementos\n",
    "\n",
    "tensor1.numel(), tensor2.numel()"
   ]
  },
  {
   "cell_type": "code",
   "execution_count": 44,
   "metadata": {},
   "outputs": [
    {
     "data": {
      "text/plain": [
       "(torch.strided, torch.strided)"
      ]
     },
     "execution_count": 44,
     "metadata": {},
     "output_type": "execute_result"
    }
   ],
   "source": [
    "# Tipo de almacenamiento en memoria\n",
    "\n",
    "tensor1.layout, tensor2.layout"
   ]
  },
  {
   "cell_type": "markdown",
   "metadata": {},
   "source": [
    "## Operaciones con tensores\n",
    "\n",
    "Estos tensores, a diferencia de TensorFlow, si son mutables."
   ]
  },
  {
   "cell_type": "code",
   "execution_count": 45,
   "metadata": {},
   "outputs": [
    {
     "data": {
      "text/plain": [
       "(tensor([[ 2,  4,  6],\n",
       "         [ 8, 10, 12]]),\n",
       " tensor([[0, 0, 0],\n",
       "         [0, 0, 0]]))"
      ]
     },
     "execution_count": 45,
     "metadata": {},
     "output_type": "execute_result"
    }
   ],
   "source": [
    "# Suma o resta (deben tener las mismas dimensiones)\n",
    "\n",
    "tensor1 + tensor2, tensor1 - tensor2"
   ]
  },
  {
   "cell_type": "code",
   "execution_count": 46,
   "metadata": {},
   "outputs": [
    {
     "data": {
      "text/plain": [
       "(tensor([[ 1,  4,  9],\n",
       "         [16, 25, 36]]),\n",
       " tensor([[100, 200, 300],\n",
       "         [400, 500, 600]]))"
      ]
     },
     "execution_count": 46,
     "metadata": {},
     "output_type": "execute_result"
    }
   ],
   "source": [
    "# Multiplicación elemento a elemento\n",
    "tensor1 * tensor2, tensor1 * 100"
   ]
  },
  {
   "cell_type": "code",
   "execution_count": 48,
   "metadata": {},
   "outputs": [
    {
     "data": {
      "text/plain": [
       "tensor([[14, 32],\n",
       "        [32, 77]])"
      ]
     },
     "execution_count": 48,
     "metadata": {},
     "output_type": "execute_result"
    }
   ],
   "source": [
    "# Multiplicación matricial\n",
    "torch.matmul(tensor1, tensor2.T)"
   ]
  },
  {
   "cell_type": "code",
   "execution_count": 50,
   "metadata": {},
   "outputs": [
    {
     "data": {
      "text/plain": [
       "(tensor(21), tensor(21))"
      ]
     },
     "execution_count": 50,
     "metadata": {},
     "output_type": "execute_result"
    }
   ],
   "source": [
    "# Sumatorio\n",
    "tensor1.sum(), tensor2.sum()"
   ]
  },
  {
   "cell_type": "code",
   "execution_count": 52,
   "metadata": {},
   "outputs": [
    {
     "data": {
      "text/plain": [
       "(tensor(6), tensor(1), tensor(3.5000))"
      ]
     },
     "execution_count": 52,
     "metadata": {},
     "output_type": "execute_result"
    }
   ],
   "source": [
    "# Máximo, mínimo y media\n",
    "\n",
    "tensor1.max(), tensor1.min(), tensor1.float().mean()"
   ]
  },
  {
   "cell_type": "markdown",
   "metadata": {},
   "source": [
    "## Creación de redes neuronales"
   ]
  },
  {
   "cell_type": "code",
   "execution_count": 53,
   "metadata": {},
   "outputs": [],
   "source": [
    "# Importa la librería correspondiente a redes neuronales\n",
    "import torch.nn as nn"
   ]
  },
  {
   "cell_type": "code",
   "execution_count": 54,
   "metadata": {},
   "outputs": [],
   "source": [
    "# Creación de una capa lineal para la entrada\n",
    "input_layer = nn.Linear(in_features=3, out_features=2)"
   ]
  },
  {
   "cell_type": "code",
   "execution_count": 55,
   "metadata": {},
   "outputs": [
    {
     "data": {
      "text/plain": [
       "tensor([[ 0.7830, -0.2038,  0.2291]])"
      ]
     },
     "execution_count": 55,
     "metadata": {},
     "output_type": "execute_result"
    }
   ],
   "source": [
    "input_data = torch.tensor([[0.783, -0.2038, 0.2291]])\n",
    "input_data"
   ]
  },
  {
   "cell_type": "code",
   "execution_count": 57,
   "metadata": {},
   "outputs": [
    {
     "data": {
      "text/plain": [
       "tensor([[-0.1094, -0.0023]], grad_fn=<AddmmBackward0>)"
      ]
     },
     "execution_count": 57,
     "metadata": {},
     "output_type": "execute_result"
    }
   ],
   "source": [
    "output = input_layer(input_data)\n",
    "output"
   ]
  },
  {
   "cell_type": "code",
   "execution_count": 58,
   "metadata": {},
   "outputs": [
    {
     "data": {
      "text/plain": [
       "(Parameter containing:\n",
       " tensor([[-0.4995, -0.1653, -0.1989],\n",
       "         [-0.3875,  0.0589,  0.3095]], requires_grad=True),\n",
       " Parameter containing:\n",
       " tensor([0.2936, 0.2422], requires_grad=True))"
      ]
     },
     "execution_count": 58,
     "metadata": {},
     "output_type": "execute_result"
    }
   ],
   "source": [
    "# Pesos y sesgos de la capa\n",
    "input_layer.weight, input_layer.bias"
   ]
  },
  {
   "cell_type": "code",
   "execution_count": 60,
   "metadata": {},
   "outputs": [
    {
     "data": {
      "text/plain": [
       "tensor([[-0.1094, -0.0023]], grad_fn=<AddBackward0>)"
      ]
     },
     "execution_count": 60,
     "metadata": {},
     "output_type": "execute_result"
    }
   ],
   "source": [
    "# Ejercicio\n",
    "# Comprueba que operaciones matemáticas se están haciendo en la capa\n",
    "\n",
    "output_manual = torch.matmul(input_data, input_layer.weight.T) + input_layer.bias\n",
    "output_manual"
   ]
  },
  {
   "cell_type": "markdown",
   "metadata": {},
   "source": [
    "## Red neuronal con varias capas"
   ]
  },
  {
   "cell_type": "code",
   "execution_count": 61,
   "metadata": {},
   "outputs": [],
   "source": [
    "model = nn.Sequential(\n",
    "    nn.Linear(10, 6),\n",
    "    nn.Linear(6, 18),\n",
    "    nn.Linear(18, 20)\n",
    ")"
   ]
  },
  {
   "cell_type": "code",
   "execution_count": 64,
   "metadata": {},
   "outputs": [
    {
     "data": {
      "text/plain": [
       "tensor([[ 0.1091, -1.1388,  1.2262,  0.6285,  0.9155,  0.0601,  0.5424,  0.8952,\n",
       "         -0.6316, -0.6076]])"
      ]
     },
     "execution_count": 64,
     "metadata": {},
     "output_type": "execute_result"
    }
   ],
   "source": [
    "input_data = torch.randn(1, 10)\n",
    "input_data"
   ]
  },
  {
   "cell_type": "code",
   "execution_count": 63,
   "metadata": {},
   "outputs": [
    {
     "data": {
      "text/plain": [
       "tensor([[-0.1207, -0.0743, -0.0674, -0.1834,  0.7042, -0.1684, -0.3769, -0.3614,\n",
       "          0.7647, -0.5893, -0.3678, -0.7546,  0.4843, -0.1544,  0.5831,  0.1492,\n",
       "         -0.2590,  0.2143, -0.0215, -0.1611]], grad_fn=<AddmmBackward0>)"
      ]
     },
     "execution_count": 63,
     "metadata": {},
     "output_type": "execute_result"
    }
   ],
   "source": [
    "# Aplicamos el tensor de entrada a la red neuronal\n",
    "\n",
    "output_tensor = model(input_data)\n",
    "output_tensor"
   ]
  },
  {
   "cell_type": "markdown",
   "metadata": {},
   "source": [
    "## Función de activación\n",
    "\n",
    "En PyTorch, a diferencia de TensorFlow, las funciones de activación no se suelen especificar como un parámetro en las capas. En su lugar, se definen explícitamente como capas separadas en la red."
   ]
  },
  {
   "cell_type": "code",
   "execution_count": 69,
   "metadata": {},
   "outputs": [
    {
     "data": {
      "text/plain": [
       "tensor([[-0.8082, -0.6716, -0.7368,  1.6353,  1.0576, -1.2473],\n",
       "        [-1.0543,  0.7354,  0.4588,  0.2235,  0.4273,  1.5841],\n",
       "        [-0.1515, -0.4123, -0.3217,  1.3911,  0.9793,  0.1941],\n",
       "        [ 0.7246,  0.1325, -0.4546,  0.1099,  0.1897,  0.7584]])"
      ]
     },
     "execution_count": 69,
     "metadata": {},
     "output_type": "execute_result"
    }
   ],
   "source": [
    "tensor3 = torch.randn((4, 6))\n",
    "tensor3"
   ]
  },
  {
   "cell_type": "code",
   "execution_count": 71,
   "metadata": {},
   "outputs": [
    {
     "data": {
      "text/plain": [
       "tensor([[0.3083, 0.3381, 0.3237, 0.8369, 0.7422, 0.2232],\n",
       "        [0.2584, 0.6760, 0.6127, 0.5557, 0.6052, 0.8298],\n",
       "        [0.4622, 0.3984, 0.4203, 0.8008, 0.7270, 0.5484],\n",
       "        [0.6736, 0.5331, 0.3883, 0.5275, 0.5473, 0.6810]])"
      ]
     },
     "execution_count": 71,
     "metadata": {},
     "output_type": "execute_result"
    }
   ],
   "source": [
    "sigmoid = nn.Sigmoid()\n",
    "sigmoid(tensor3)"
   ]
  },
  {
   "cell_type": "code",
   "execution_count": 72,
   "metadata": {},
   "outputs": [
    {
     "data": {
      "text/plain": [
       "tensor([[0.0000, 0.0000, 0.0000, 1.6353, 1.0576, 0.0000],\n",
       "        [0.0000, 0.7354, 0.4588, 0.2235, 0.4273, 1.5841],\n",
       "        [0.0000, 0.0000, 0.0000, 1.3911, 0.9793, 0.1941],\n",
       "        [0.7246, 0.1325, 0.0000, 0.1099, 0.1897, 0.7584]])"
      ]
     },
     "execution_count": 72,
     "metadata": {},
     "output_type": "execute_result"
    }
   ],
   "source": [
    "relu = nn.ReLU()\n",
    "relu(tensor3)"
   ]
  },
  {
   "cell_type": "code",
   "execution_count": 74,
   "metadata": {},
   "outputs": [
    {
     "name": "stderr",
     "output_type": "stream",
     "text": [
      "c:\\Users\\alfre\\AppData\\Local\\Programs\\Python\\Python311\\Lib\\site-packages\\torch\\nn\\modules\\module.py:1736: UserWarning: Implicit dimension choice for softmax has been deprecated. Change the call to include dim=X as an argument.\n",
      "  return self._call_impl(*args, **kwargs)\n"
     ]
    },
    {
     "data": {
      "text/plain": [
       "tensor([[0.0458, 0.0525, 0.0492, 0.5272, 0.2958, 0.0295],\n",
       "        [0.0298, 0.1787, 0.1355, 0.1071, 0.1313, 0.4175],\n",
       "        [0.0847, 0.0653, 0.0715, 0.3963, 0.2625, 0.1197],\n",
       "        [0.2487, 0.1376, 0.0765, 0.1345, 0.1456, 0.2572]])"
      ]
     },
     "execution_count": 74,
     "metadata": {},
     "output_type": "execute_result"
    }
   ],
   "source": [
    "softmax = nn.Softmax()\n",
    "softmax(tensor3)"
   ]
  },
  {
   "cell_type": "code",
   "execution_count": 76,
   "metadata": {},
   "outputs": [
    {
     "data": {
      "text/plain": [
       "Sequential(\n",
       "  (0): Linear(in_features=10, out_features=6, bias=True)\n",
       "  (1): ReLU()\n",
       "  (2): Linear(in_features=6, out_features=18, bias=True)\n",
       "  (3): ReLU()\n",
       "  (4): Linear(in_features=18, out_features=20, bias=True)\n",
       "  (5): Sigmoid()\n",
       ")"
      ]
     },
     "execution_count": 76,
     "metadata": {},
     "output_type": "execute_result"
    }
   ],
   "source": [
    "# Funciones de activación en una red neuronal\n",
    "model = nn.Sequential(\n",
    "    nn.Linear(10, 6),\n",
    "    nn.ReLU(),\n",
    "    nn.Linear(6, 18),\n",
    "    nn.ReLU(),\n",
    "    nn.Linear(18, 20),\n",
    "    nn.Sigmoid()\n",
    ")\n",
    "\n",
    "model"
   ]
  }
 ],
 "metadata": {
  "kernelspec": {
   "display_name": "Python 3",
   "language": "python",
   "name": "python3"
  },
  "language_info": {
   "codemirror_mode": {
    "name": "ipython",
    "version": 3
   },
   "file_extension": ".py",
   "mimetype": "text/x-python",
   "name": "python",
   "nbconvert_exporter": "python",
   "pygments_lexer": "ipython3",
   "version": "3.11.2"
  }
 },
 "nbformat": 4,
 "nbformat_minor": 2
}
