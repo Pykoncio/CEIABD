{
 "cells": [
  {
   "cell_type": "markdown",
   "metadata": {},
   "source": [
    "# Detección de anomalías - Big Mart Sales\n",
    "\n",
    "En esta práctica de detección de anomalías vamos a trabajar con el dataset **Big Mart Sales**.\n",
    "\n",
    "Nuestro objetivo será ver la relación entre el precio de los artículos y las ventas de los mismos y detectar *outliers* en esos parámetros."
   ]
  },
  {
   "cell_type": "code",
   "execution_count": 3,
   "metadata": {},
   "outputs": [
    {
     "name": "stdout",
     "output_type": "stream",
     "text": [
      "Requirement already satisfied: pyod in c:\\users\\hugo.peralta.munoz\\appdata\\local\\programs\\python\\python312\\lib\\site-packages (2.0.2)\n",
      "Requirement already satisfied: joblib in c:\\users\\hugo.peralta.munoz\\appdata\\local\\programs\\python\\python312\\lib\\site-packages (from pyod) (1.4.2)\n",
      "Requirement already satisfied: matplotlib in c:\\users\\hugo.peralta.munoz\\appdata\\local\\programs\\python\\python312\\lib\\site-packages (from pyod) (3.9.2)\n",
      "Requirement already satisfied: numpy>=1.19 in c:\\users\\hugo.peralta.munoz\\appdata\\local\\programs\\python\\python312\\lib\\site-packages (from pyod) (2.0.2)\n",
      "Requirement already satisfied: numba>=0.51 in c:\\users\\hugo.peralta.munoz\\appdata\\local\\programs\\python\\python312\\lib\\site-packages (from pyod) (0.60.0)\n",
      "Requirement already satisfied: scipy>=1.5.1 in c:\\users\\hugo.peralta.munoz\\appdata\\local\\programs\\python\\python312\\lib\\site-packages (from pyod) (1.14.1)\n",
      "Requirement already satisfied: scikit-learn>=0.22.0 in c:\\users\\hugo.peralta.munoz\\appdata\\local\\programs\\python\\python312\\lib\\site-packages (from pyod) (1.5.2)\n",
      "Requirement already satisfied: llvmlite<0.44,>=0.43.0dev0 in c:\\users\\hugo.peralta.munoz\\appdata\\local\\programs\\python\\python312\\lib\\site-packages (from numba>=0.51->pyod) (0.43.0)\n",
      "Requirement already satisfied: threadpoolctl>=3.1.0 in c:\\users\\hugo.peralta.munoz\\appdata\\local\\programs\\python\\python312\\lib\\site-packages (from scikit-learn>=0.22.0->pyod) (3.5.0)\n",
      "Requirement already satisfied: contourpy>=1.0.1 in c:\\users\\hugo.peralta.munoz\\appdata\\local\\programs\\python\\python312\\lib\\site-packages (from matplotlib->pyod) (1.3.1)\n",
      "Requirement already satisfied: cycler>=0.10 in c:\\users\\hugo.peralta.munoz\\appdata\\local\\programs\\python\\python312\\lib\\site-packages (from matplotlib->pyod) (0.12.1)\n",
      "Requirement already satisfied: fonttools>=4.22.0 in c:\\users\\hugo.peralta.munoz\\appdata\\local\\programs\\python\\python312\\lib\\site-packages (from matplotlib->pyod) (4.55.0)\n",
      "Requirement already satisfied: kiwisolver>=1.3.1 in c:\\users\\hugo.peralta.munoz\\appdata\\local\\programs\\python\\python312\\lib\\site-packages (from matplotlib->pyod) (1.4.7)\n",
      "Requirement already satisfied: packaging>=20.0 in c:\\users\\hugo.peralta.munoz\\appdata\\roaming\\python\\python312\\site-packages (from matplotlib->pyod) (24.1)\n",
      "Requirement already satisfied: pillow>=8 in c:\\users\\hugo.peralta.munoz\\appdata\\local\\programs\\python\\python312\\lib\\site-packages (from matplotlib->pyod) (11.0.0)\n",
      "Requirement already satisfied: pyparsing>=2.3.1 in c:\\users\\hugo.peralta.munoz\\appdata\\local\\programs\\python\\python312\\lib\\site-packages (from matplotlib->pyod) (3.2.0)\n",
      "Requirement already satisfied: python-dateutil>=2.7 in c:\\users\\hugo.peralta.munoz\\appdata\\roaming\\python\\python312\\site-packages (from matplotlib->pyod) (2.9.0.post0)\n",
      "Requirement already satisfied: six>=1.5 in c:\\users\\hugo.peralta.munoz\\appdata\\roaming\\python\\python312\\site-packages (from python-dateutil>=2.7->matplotlib->pyod) (1.16.0)\n"
     ]
    },
    {
     "name": "stderr",
     "output_type": "stream",
     "text": [
      "\n",
      "[notice] A new release of pip is available: 24.2 -> 24.3.1\n",
      "[notice] To update, run: python.exe -m pip install --upgrade pip\n"
     ]
    },
    {
     "name": "stdout",
     "output_type": "stream",
     "text": [
      "Collecting combo\n",
      "  Downloading combo-0.1.3.tar.gz (38 kB)\n",
      "  Installing build dependencies: started\n",
      "  Installing build dependencies: finished with status 'done'\n",
      "  Getting requirements to build wheel: started\n",
      "  Getting requirements to build wheel: finished with status 'done'\n",
      "  Preparing metadata (pyproject.toml): started\n",
      "  Preparing metadata (pyproject.toml): finished with status 'done'\n",
      "Requirement already satisfied: joblib in c:\\users\\hugo.peralta.munoz\\appdata\\local\\programs\\python\\python312\\lib\\site-packages (from combo) (1.4.2)\n",
      "Requirement already satisfied: matplotlib in c:\\users\\hugo.peralta.munoz\\appdata\\local\\programs\\python\\python312\\lib\\site-packages (from combo) (3.9.2)\n",
      "Requirement already satisfied: numpy>=1.13 in c:\\users\\hugo.peralta.munoz\\appdata\\local\\programs\\python\\python312\\lib\\site-packages (from combo) (2.0.2)\n",
      "Requirement already satisfied: numba>=0.35 in c:\\users\\hugo.peralta.munoz\\appdata\\local\\programs\\python\\python312\\lib\\site-packages (from combo) (0.60.0)\n",
      "Requirement already satisfied: pyod in c:\\users\\hugo.peralta.munoz\\appdata\\local\\programs\\python\\python312\\lib\\site-packages (from combo) (2.0.2)\n",
      "Requirement already satisfied: scipy in c:\\users\\hugo.peralta.munoz\\appdata\\local\\programs\\python\\python312\\lib\\site-packages (from combo) (1.14.1)\n",
      "Requirement already satisfied: scikit_learn>=0.20 in c:\\users\\hugo.peralta.munoz\\appdata\\local\\programs\\python\\python312\\lib\\site-packages (from combo) (1.5.2)\n",
      "Requirement already satisfied: llvmlite<0.44,>=0.43.0dev0 in c:\\users\\hugo.peralta.munoz\\appdata\\local\\programs\\python\\python312\\lib\\site-packages (from numba>=0.35->combo) (0.43.0)\n",
      "Requirement already satisfied: threadpoolctl>=3.1.0 in c:\\users\\hugo.peralta.munoz\\appdata\\local\\programs\\python\\python312\\lib\\site-packages (from scikit_learn>=0.20->combo) (3.5.0)\n",
      "Requirement already satisfied: contourpy>=1.0.1 in c:\\users\\hugo.peralta.munoz\\appdata\\local\\programs\\python\\python312\\lib\\site-packages (from matplotlib->combo) (1.3.1)\n",
      "Requirement already satisfied: cycler>=0.10 in c:\\users\\hugo.peralta.munoz\\appdata\\local\\programs\\python\\python312\\lib\\site-packages (from matplotlib->combo) (0.12.1)\n",
      "Requirement already satisfied: fonttools>=4.22.0 in c:\\users\\hugo.peralta.munoz\\appdata\\local\\programs\\python\\python312\\lib\\site-packages (from matplotlib->combo) (4.55.0)\n",
      "Requirement already satisfied: kiwisolver>=1.3.1 in c:\\users\\hugo.peralta.munoz\\appdata\\local\\programs\\python\\python312\\lib\\site-packages (from matplotlib->combo) (1.4.7)\n",
      "Requirement already satisfied: packaging>=20.0 in c:\\users\\hugo.peralta.munoz\\appdata\\roaming\\python\\python312\\site-packages (from matplotlib->combo) (24.1)\n",
      "Requirement already satisfied: pillow>=8 in c:\\users\\hugo.peralta.munoz\\appdata\\local\\programs\\python\\python312\\lib\\site-packages (from matplotlib->combo) (11.0.0)\n",
      "Requirement already satisfied: pyparsing>=2.3.1 in c:\\users\\hugo.peralta.munoz\\appdata\\local\\programs\\python\\python312\\lib\\site-packages (from matplotlib->combo) (3.2.0)\n",
      "Requirement already satisfied: python-dateutil>=2.7 in c:\\users\\hugo.peralta.munoz\\appdata\\roaming\\python\\python312\\site-packages (from matplotlib->combo) (2.9.0.post0)\n",
      "Requirement already satisfied: six>=1.5 in c:\\users\\hugo.peralta.munoz\\appdata\\roaming\\python\\python312\\site-packages (from python-dateutil>=2.7->matplotlib->combo) (1.16.0)\n",
      "Building wheels for collected packages: combo\n",
      "  Building wheel for combo (pyproject.toml): started\n",
      "  Building wheel for combo (pyproject.toml): finished with status 'done'\n",
      "  Created wheel for combo: filename=combo-0.1.3-py3-none-any.whl size=42906 sha256=7da36fa7124bfc5300780eaa799df1b24176ec840b89bf62d01af698e9ecb79d\n",
      "  Stored in directory: c:\\users\\hugo.peralta.munoz\\appdata\\local\\pip\\cache\\wheels\\21\\e7\\9e\\8baa8e183e9e3d7e37b74c5c0083462d91fb34123b92abb6ad\n",
      "Successfully built combo\n",
      "Installing collected packages: combo\n",
      "Successfully installed combo-0.1.3\n"
     ]
    },
    {
     "name": "stderr",
     "output_type": "stream",
     "text": [
      "  WARNING: Retrying (Retry(total=4, connect=None, read=None, redirect=None, status=None)) after connection broken by 'ProtocolError('Connection aborted.', ConnectionResetError(10054, 'An existing connection was forcibly closed by the remote host', None, 10054, None))': /packages/ff/76/1c86426e35a8b1cd5f404db654d2a602bac27263063163ead1230066c1e6/combo-0.1.3.tar.gz\n",
      "\n",
      "[notice] A new release of pip is available: 24.2 -> 24.3.1\n",
      "[notice] To update, run: python.exe -m pip install --upgrade pip\n"
     ]
    }
   ],
   "source": [
    "!pip install pyod\n",
    "!pip install combo # Para combinar varios modelos con el algoritmo Feature Bagging"
   ]
  },
  {
   "cell_type": "code",
   "execution_count": 7,
   "metadata": {},
   "outputs": [],
   "source": [
    "import numpy as np \n",
    "import matplotlib.pyplot as plt\n",
    "import seaborn as sns \n",
    "import pandas as pd"
   ]
  },
  {
   "cell_type": "code",
   "execution_count": 8,
   "metadata": {},
   "outputs": [],
   "source": [
    "bigmart_df = pd.read_csv(\"Train.csv\")"
   ]
  },
  {
   "cell_type": "markdown",
   "metadata": {},
   "source": [
    "## Importación de modelos"
   ]
  },
  {
   "cell_type": "code",
   "execution_count": 5,
   "metadata": {},
   "outputs": [],
   "source": [
    "# Angle-Based Outlier Detection\n",
    "# Basado en densidad\n",
    "from pyod.models.abod import ABOD\n",
    "\n",
    "# Cluster-Based Local Outlier Factor\n",
    "# Basado en centroides\n",
    "from pyod.models.cblof import CBLOF\n",
    "\n",
    "# Feature Bagging \n",
    "# Divide el dataset en grupos y aplica diferentes modelos a cada subconjunto (LOF, KNN, ...)\n",
    "from pyod.models.feature_bagging import FeatureBagging\n",
    "\n",
    "# Histogram-Based Outlier Score\n",
    "# Basado en distribuciones\n",
    "from pyod.models.hbos import HBOS\n",
    "\n",
    "# Isolation Forest \n",
    "# Usa arboles de decision pero no es jerarquico \n",
    "from pyod.models.iforest import IForest\n",
    "\n",
    "# K-Nearest Neighbors\n",
    "from pyod.models.knn import KNN\n",
    "\n",
    "# Local Outlier Factor\n",
    "# Basado en densidad\n",
    "from pyod.models.lof import LOF"
   ]
  },
  {
   "cell_type": "markdown",
   "metadata": {},
   "source": [
    "## Exploración y visualización de los datos"
   ]
  },
  {
   "cell_type": "code",
   "execution_count": 9,
   "metadata": {},
   "outputs": [
    {
     "data": {
      "text/html": [
       "<div>\n",
       "<style scoped>\n",
       "    .dataframe tbody tr th:only-of-type {\n",
       "        vertical-align: middle;\n",
       "    }\n",
       "\n",
       "    .dataframe tbody tr th {\n",
       "        vertical-align: top;\n",
       "    }\n",
       "\n",
       "    .dataframe thead th {\n",
       "        text-align: right;\n",
       "    }\n",
       "</style>\n",
       "<table border=\"1\" class=\"dataframe\">\n",
       "  <thead>\n",
       "    <tr style=\"text-align: right;\">\n",
       "      <th></th>\n",
       "      <th>Item_Identifier</th>\n",
       "      <th>Item_Weight</th>\n",
       "      <th>Item_Fat_Content</th>\n",
       "      <th>Item_Visibility</th>\n",
       "      <th>Item_Type</th>\n",
       "      <th>Item_MRP</th>\n",
       "      <th>Outlet_Identifier</th>\n",
       "      <th>Outlet_Establishment_Year</th>\n",
       "      <th>Outlet_Size</th>\n",
       "      <th>Outlet_Location_Type</th>\n",
       "      <th>Outlet_Type</th>\n",
       "      <th>Item_Outlet_Sales</th>\n",
       "    </tr>\n",
       "  </thead>\n",
       "  <tbody>\n",
       "    <tr>\n",
       "      <th>0</th>\n",
       "      <td>FDA15</td>\n",
       "      <td>9.300</td>\n",
       "      <td>Low Fat</td>\n",
       "      <td>0.016047</td>\n",
       "      <td>Dairy</td>\n",
       "      <td>249.8092</td>\n",
       "      <td>OUT049</td>\n",
       "      <td>1999</td>\n",
       "      <td>Medium</td>\n",
       "      <td>Tier 1</td>\n",
       "      <td>Supermarket Type1</td>\n",
       "      <td>3735.1380</td>\n",
       "    </tr>\n",
       "    <tr>\n",
       "      <th>1</th>\n",
       "      <td>DRC01</td>\n",
       "      <td>5.920</td>\n",
       "      <td>Regular</td>\n",
       "      <td>0.019278</td>\n",
       "      <td>Soft Drinks</td>\n",
       "      <td>48.2692</td>\n",
       "      <td>OUT018</td>\n",
       "      <td>2009</td>\n",
       "      <td>Medium</td>\n",
       "      <td>Tier 3</td>\n",
       "      <td>Supermarket Type2</td>\n",
       "      <td>443.4228</td>\n",
       "    </tr>\n",
       "    <tr>\n",
       "      <th>2</th>\n",
       "      <td>FDN15</td>\n",
       "      <td>17.500</td>\n",
       "      <td>Low Fat</td>\n",
       "      <td>0.016760</td>\n",
       "      <td>Meat</td>\n",
       "      <td>141.6180</td>\n",
       "      <td>OUT049</td>\n",
       "      <td>1999</td>\n",
       "      <td>Medium</td>\n",
       "      <td>Tier 1</td>\n",
       "      <td>Supermarket Type1</td>\n",
       "      <td>2097.2700</td>\n",
       "    </tr>\n",
       "    <tr>\n",
       "      <th>3</th>\n",
       "      <td>FDX07</td>\n",
       "      <td>19.200</td>\n",
       "      <td>Regular</td>\n",
       "      <td>0.000000</td>\n",
       "      <td>Fruits and Vegetables</td>\n",
       "      <td>182.0950</td>\n",
       "      <td>OUT010</td>\n",
       "      <td>1998</td>\n",
       "      <td>NaN</td>\n",
       "      <td>Tier 3</td>\n",
       "      <td>Grocery Store</td>\n",
       "      <td>732.3800</td>\n",
       "    </tr>\n",
       "    <tr>\n",
       "      <th>4</th>\n",
       "      <td>NCD19</td>\n",
       "      <td>8.930</td>\n",
       "      <td>Low Fat</td>\n",
       "      <td>0.000000</td>\n",
       "      <td>Household</td>\n",
       "      <td>53.8614</td>\n",
       "      <td>OUT013</td>\n",
       "      <td>1987</td>\n",
       "      <td>High</td>\n",
       "      <td>Tier 3</td>\n",
       "      <td>Supermarket Type1</td>\n",
       "      <td>994.7052</td>\n",
       "    </tr>\n",
       "    <tr>\n",
       "      <th>...</th>\n",
       "      <td>...</td>\n",
       "      <td>...</td>\n",
       "      <td>...</td>\n",
       "      <td>...</td>\n",
       "      <td>...</td>\n",
       "      <td>...</td>\n",
       "      <td>...</td>\n",
       "      <td>...</td>\n",
       "      <td>...</td>\n",
       "      <td>...</td>\n",
       "      <td>...</td>\n",
       "      <td>...</td>\n",
       "    </tr>\n",
       "    <tr>\n",
       "      <th>8518</th>\n",
       "      <td>FDF22</td>\n",
       "      <td>6.865</td>\n",
       "      <td>Low Fat</td>\n",
       "      <td>0.056783</td>\n",
       "      <td>Snack Foods</td>\n",
       "      <td>214.5218</td>\n",
       "      <td>OUT013</td>\n",
       "      <td>1987</td>\n",
       "      <td>High</td>\n",
       "      <td>Tier 3</td>\n",
       "      <td>Supermarket Type1</td>\n",
       "      <td>2778.3834</td>\n",
       "    </tr>\n",
       "    <tr>\n",
       "      <th>8519</th>\n",
       "      <td>FDS36</td>\n",
       "      <td>8.380</td>\n",
       "      <td>Regular</td>\n",
       "      <td>0.046982</td>\n",
       "      <td>Baking Goods</td>\n",
       "      <td>108.1570</td>\n",
       "      <td>OUT045</td>\n",
       "      <td>2002</td>\n",
       "      <td>NaN</td>\n",
       "      <td>Tier 2</td>\n",
       "      <td>Supermarket Type1</td>\n",
       "      <td>549.2850</td>\n",
       "    </tr>\n",
       "    <tr>\n",
       "      <th>8520</th>\n",
       "      <td>NCJ29</td>\n",
       "      <td>10.600</td>\n",
       "      <td>Low Fat</td>\n",
       "      <td>0.035186</td>\n",
       "      <td>Health and Hygiene</td>\n",
       "      <td>85.1224</td>\n",
       "      <td>OUT035</td>\n",
       "      <td>2004</td>\n",
       "      <td>Small</td>\n",
       "      <td>Tier 2</td>\n",
       "      <td>Supermarket Type1</td>\n",
       "      <td>1193.1136</td>\n",
       "    </tr>\n",
       "    <tr>\n",
       "      <th>8521</th>\n",
       "      <td>FDN46</td>\n",
       "      <td>7.210</td>\n",
       "      <td>Regular</td>\n",
       "      <td>0.145221</td>\n",
       "      <td>Snack Foods</td>\n",
       "      <td>103.1332</td>\n",
       "      <td>OUT018</td>\n",
       "      <td>2009</td>\n",
       "      <td>Medium</td>\n",
       "      <td>Tier 3</td>\n",
       "      <td>Supermarket Type2</td>\n",
       "      <td>1845.5976</td>\n",
       "    </tr>\n",
       "    <tr>\n",
       "      <th>8522</th>\n",
       "      <td>DRG01</td>\n",
       "      <td>14.800</td>\n",
       "      <td>Low Fat</td>\n",
       "      <td>0.044878</td>\n",
       "      <td>Soft Drinks</td>\n",
       "      <td>75.4670</td>\n",
       "      <td>OUT046</td>\n",
       "      <td>1997</td>\n",
       "      <td>Small</td>\n",
       "      <td>Tier 1</td>\n",
       "      <td>Supermarket Type1</td>\n",
       "      <td>765.6700</td>\n",
       "    </tr>\n",
       "  </tbody>\n",
       "</table>\n",
       "<p>8523 rows × 12 columns</p>\n",
       "</div>"
      ],
      "text/plain": [
       "     Item_Identifier  Item_Weight  ...        Outlet_Type  Item_Outlet_Sales\n",
       "0              FDA15        9.300  ...  Supermarket Type1          3735.1380\n",
       "1              DRC01        5.920  ...  Supermarket Type2           443.4228\n",
       "2              FDN15       17.500  ...  Supermarket Type1          2097.2700\n",
       "3              FDX07       19.200  ...      Grocery Store           732.3800\n",
       "4              NCD19        8.930  ...  Supermarket Type1           994.7052\n",
       "...              ...          ...  ...                ...                ...\n",
       "8518           FDF22        6.865  ...  Supermarket Type1          2778.3834\n",
       "8519           FDS36        8.380  ...  Supermarket Type1           549.2850\n",
       "8520           NCJ29       10.600  ...  Supermarket Type1          1193.1136\n",
       "8521           FDN46        7.210  ...  Supermarket Type2          1845.5976\n",
       "8522           DRG01       14.800  ...  Supermarket Type1           765.6700\n",
       "\n",
       "[8523 rows x 12 columns]"
      ]
     },
     "execution_count": 9,
     "metadata": {},
     "output_type": "execute_result"
    }
   ],
   "source": [
    "bigmart_df"
   ]
  },
  {
   "cell_type": "code",
   "execution_count": 10,
   "metadata": {},
   "outputs": [
    {
     "name": "stdout",
     "output_type": "stream",
     "text": [
      "<class 'pandas.core.frame.DataFrame'>\n",
      "RangeIndex: 8523 entries, 0 to 8522\n",
      "Data columns (total 12 columns):\n",
      " #   Column                     Non-Null Count  Dtype  \n",
      "---  ------                     --------------  -----  \n",
      " 0   Item_Identifier            8523 non-null   object \n",
      " 1   Item_Weight                7060 non-null   float64\n",
      " 2   Item_Fat_Content           8523 non-null   object \n",
      " 3   Item_Visibility            8523 non-null   float64\n",
      " 4   Item_Type                  8523 non-null   object \n",
      " 5   Item_MRP                   8523 non-null   float64\n",
      " 6   Outlet_Identifier          8523 non-null   object \n",
      " 7   Outlet_Establishment_Year  8523 non-null   int64  \n",
      " 8   Outlet_Size                6113 non-null   object \n",
      " 9   Outlet_Location_Type       8523 non-null   object \n",
      " 10  Outlet_Type                8523 non-null   object \n",
      " 11  Item_Outlet_Sales          8523 non-null   float64\n",
      "dtypes: float64(4), int64(1), object(7)\n",
      "memory usage: 799.2+ KB\n"
     ]
    }
   ],
   "source": [
    "bigmart_df.info()"
   ]
  },
  {
   "cell_type": "code",
   "execution_count": 11,
   "metadata": {},
   "outputs": [
    {
     "data": {
      "text/html": [
       "<div>\n",
       "<style scoped>\n",
       "    .dataframe tbody tr th:only-of-type {\n",
       "        vertical-align: middle;\n",
       "    }\n",
       "\n",
       "    .dataframe tbody tr th {\n",
       "        vertical-align: top;\n",
       "    }\n",
       "\n",
       "    .dataframe thead th {\n",
       "        text-align: right;\n",
       "    }\n",
       "</style>\n",
       "<table border=\"1\" class=\"dataframe\">\n",
       "  <thead>\n",
       "    <tr style=\"text-align: right;\">\n",
       "      <th></th>\n",
       "      <th>Item_Weight</th>\n",
       "      <th>Item_Visibility</th>\n",
       "      <th>Item_MRP</th>\n",
       "      <th>Outlet_Establishment_Year</th>\n",
       "      <th>Item_Outlet_Sales</th>\n",
       "    </tr>\n",
       "  </thead>\n",
       "  <tbody>\n",
       "    <tr>\n",
       "      <th>count</th>\n",
       "      <td>7060.000000</td>\n",
       "      <td>8523.000000</td>\n",
       "      <td>8523.000000</td>\n",
       "      <td>8523.000000</td>\n",
       "      <td>8523.000000</td>\n",
       "    </tr>\n",
       "    <tr>\n",
       "      <th>mean</th>\n",
       "      <td>12.857645</td>\n",
       "      <td>0.066132</td>\n",
       "      <td>140.992782</td>\n",
       "      <td>1997.831867</td>\n",
       "      <td>2181.288914</td>\n",
       "    </tr>\n",
       "    <tr>\n",
       "      <th>std</th>\n",
       "      <td>4.643456</td>\n",
       "      <td>0.051598</td>\n",
       "      <td>62.275067</td>\n",
       "      <td>8.371760</td>\n",
       "      <td>1706.499616</td>\n",
       "    </tr>\n",
       "    <tr>\n",
       "      <th>min</th>\n",
       "      <td>4.555000</td>\n",
       "      <td>0.000000</td>\n",
       "      <td>31.290000</td>\n",
       "      <td>1985.000000</td>\n",
       "      <td>33.290000</td>\n",
       "    </tr>\n",
       "    <tr>\n",
       "      <th>25%</th>\n",
       "      <td>8.773750</td>\n",
       "      <td>0.026989</td>\n",
       "      <td>93.826500</td>\n",
       "      <td>1987.000000</td>\n",
       "      <td>834.247400</td>\n",
       "    </tr>\n",
       "    <tr>\n",
       "      <th>50%</th>\n",
       "      <td>12.600000</td>\n",
       "      <td>0.053931</td>\n",
       "      <td>143.012800</td>\n",
       "      <td>1999.000000</td>\n",
       "      <td>1794.331000</td>\n",
       "    </tr>\n",
       "    <tr>\n",
       "      <th>75%</th>\n",
       "      <td>16.850000</td>\n",
       "      <td>0.094585</td>\n",
       "      <td>185.643700</td>\n",
       "      <td>2004.000000</td>\n",
       "      <td>3101.296400</td>\n",
       "    </tr>\n",
       "    <tr>\n",
       "      <th>max</th>\n",
       "      <td>21.350000</td>\n",
       "      <td>0.328391</td>\n",
       "      <td>266.888400</td>\n",
       "      <td>2009.000000</td>\n",
       "      <td>13086.964800</td>\n",
       "    </tr>\n",
       "  </tbody>\n",
       "</table>\n",
       "</div>"
      ],
      "text/plain": [
       "       Item_Weight  ...  Item_Outlet_Sales\n",
       "count  7060.000000  ...        8523.000000\n",
       "mean     12.857645  ...        2181.288914\n",
       "std       4.643456  ...        1706.499616\n",
       "min       4.555000  ...          33.290000\n",
       "25%       8.773750  ...         834.247400\n",
       "50%      12.600000  ...        1794.331000\n",
       "75%      16.850000  ...        3101.296400\n",
       "max      21.350000  ...       13086.964800\n",
       "\n",
       "[8 rows x 5 columns]"
      ]
     },
     "execution_count": 11,
     "metadata": {},
     "output_type": "execute_result"
    }
   ],
   "source": [
    "bigmart_df.describe()"
   ]
  },
  {
   "cell_type": "code",
   "execution_count": 12,
   "metadata": {},
   "outputs": [
    {
     "data": {
      "text/plain": [
       "array(['Low Fat', 'Regular', 'low fat', 'LF', 'reg'], dtype=object)"
      ]
     },
     "execution_count": 12,
     "metadata": {},
     "output_type": "execute_result"
    }
   ],
   "source": [
    "bigmart_df[\"Item_Fat_Content\"].unique()"
   ]
  },
  {
   "cell_type": "code",
   "execution_count": 15,
   "metadata": {},
   "outputs": [],
   "source": [
    "bigmart_df.replace([\"low fat\", \"LF\", \"reg\"], [\"Low Fat\", \"Low Fat\", \"Regular\"], inplace=True)"
   ]
  },
  {
   "cell_type": "code",
   "execution_count": 16,
   "metadata": {},
   "outputs": [
    {
     "data": {
      "text/plain": [
       "array(['Low Fat', 'Regular'], dtype=object)"
      ]
     },
     "execution_count": 16,
     "metadata": {},
     "output_type": "execute_result"
    }
   ],
   "source": [
    "bigmart_df[\"Item_Fat_Content\"].unique()"
   ]
  },
  {
   "cell_type": "code",
   "execution_count": 17,
   "metadata": {},
   "outputs": [
    {
     "data": {
      "text/plain": [
       "array(['Dairy', 'Soft Drinks', 'Meat', 'Fruits and Vegetables',\n",
       "       'Household', 'Baking Goods', 'Snack Foods', 'Frozen Foods',\n",
       "       'Breakfast', 'Health and Hygiene', 'Hard Drinks', 'Canned',\n",
       "       'Breads', 'Starchy Foods', 'Others', 'Seafood'], dtype=object)"
      ]
     },
     "execution_count": 17,
     "metadata": {},
     "output_type": "execute_result"
    }
   ],
   "source": [
    "bigmart_df[\"Item_Type\"].unique()"
   ]
  },
  {
   "cell_type": "code",
   "execution_count": 19,
   "metadata": {},
   "outputs": [
    {
     "data": {
      "text/plain": [
       "array(['OUT049', 'OUT018', 'OUT010', 'OUT013', 'OUT027', 'OUT045',\n",
       "       'OUT017', 'OUT046', 'OUT035', 'OUT019'], dtype=object)"
      ]
     },
     "execution_count": 19,
     "metadata": {},
     "output_type": "execute_result"
    }
   ],
   "source": [
    "bigmart_df[\"Outlet_Identifier\"].unique()"
   ]
  },
  {
   "cell_type": "code",
   "execution_count": 18,
   "metadata": {},
   "outputs": [
    {
     "data": {
      "text/plain": [
       "array(['Supermarket Type1', 'Supermarket Type2', 'Grocery Store',\n",
       "       'Supermarket Type3'], dtype=object)"
      ]
     },
     "execution_count": 18,
     "metadata": {},
     "output_type": "execute_result"
    }
   ],
   "source": [
    "bigmart_df[\"Outlet_Type\"].unique()"
   ]
  },
  {
   "cell_type": "code",
   "execution_count": 20,
   "metadata": {},
   "outputs": [
    {
     "data": {
      "text/plain": [
       "array(['Medium', nan, 'High', 'Small'], dtype=object)"
      ]
     },
     "execution_count": 20,
     "metadata": {},
     "output_type": "execute_result"
    }
   ],
   "source": [
    "bigmart_df[\"Outlet_Size\"].unique()"
   ]
  },
  {
   "cell_type": "code",
   "execution_count": 21,
   "metadata": {},
   "outputs": [
    {
     "data": {
      "text/plain": [
       "array(['Tier 1', 'Tier 3', 'Tier 2'], dtype=object)"
      ]
     },
     "execution_count": 21,
     "metadata": {},
     "output_type": "execute_result"
    }
   ],
   "source": [
    "bigmart_df[\"Outlet_Location_Type\"].unique()"
   ]
  },
  {
   "cell_type": "code",
   "execution_count": 22,
   "metadata": {},
   "outputs": [
    {
     "data": {
      "text/plain": [
       "Item_Identifier                 0\n",
       "Item_Weight                  1463\n",
       "Item_Fat_Content                0\n",
       "Item_Visibility                 0\n",
       "Item_Type                       0\n",
       "Item_MRP                        0\n",
       "Outlet_Identifier               0\n",
       "Outlet_Establishment_Year       0\n",
       "Outlet_Size                  2410\n",
       "Outlet_Location_Type            0\n",
       "Outlet_Type                     0\n",
       "Item_Outlet_Sales               0\n",
       "dtype: int64"
      ]
     },
     "execution_count": 22,
     "metadata": {},
     "output_type": "execute_result"
    }
   ],
   "source": [
    "# Valores nulos por cada tipo\n",
    "\n",
    "bigmart_df.isna().sum()"
   ]
  },
  {
   "cell_type": "code",
   "execution_count": 28,
   "metadata": {},
   "outputs": [
    {
     "data": {
      "text/plain": [
       "<Figure size 1600x1200 with 0 Axes>"
      ]
     },
     "metadata": {},
     "output_type": "display_data"
    },
    {
     "data": {
      "image/png": "[encoded data removed]",
      "text/plain": [
       "<Figure size 640x480 with 1 Axes>"
      ]
     },
     "metadata": {},
     "output_type": "display_data"
    }
   ],
   "source": [
    "# MRP vs Item Outlet Sales\n",
    "\n",
    "plt.figure(figsize=(16, 12))\n",
    "bigmart_df.plot.scatter(\"Item_MRP\", \"Item_Outlet_Sales\")\n",
    "plt.show()"
   ]
  },
  {
   "cell_type": "markdown",
   "metadata": {},
   "source": [
    "## Escalado de datos \n",
    "\n",
    "Hay mucha diferencia en la escala de ambos atributos ya que son muy dispares. Se puede hacer el escalado o no pero en términos generales también aumenta la velocidad del entrenamiento del modelo."
   ]
  },
  {
   "cell_type": "code",
   "execution_count": 29,
   "metadata": {},
   "outputs": [
    {
     "data": {
      "text/html": [
       "<div>\n",
       "<style scoped>\n",
       "    .dataframe tbody tr th:only-of-type {\n",
       "        vertical-align: middle;\n",
       "    }\n",
       "\n",
       "    .dataframe tbody tr th {\n",
       "        vertical-align: top;\n",
       "    }\n",
       "\n",
       "    .dataframe thead th {\n",
       "        text-align: right;\n",
       "    }\n",
       "</style>\n",
       "<table border=\"1\" class=\"dataframe\">\n",
       "  <thead>\n",
       "    <tr style=\"text-align: right;\">\n",
       "      <th></th>\n",
       "      <th>Item_MRP</th>\n",
       "      <th>Item_Outlet_Sales</th>\n",
       "    </tr>\n",
       "  </thead>\n",
       "  <tbody>\n",
       "    <tr>\n",
       "      <th>0</th>\n",
       "      <td>0.927507</td>\n",
       "      <td>0.283587</td>\n",
       "    </tr>\n",
       "    <tr>\n",
       "      <th>1</th>\n",
       "      <td>0.072068</td>\n",
       "      <td>0.031419</td>\n",
       "    </tr>\n",
       "    <tr>\n",
       "      <th>2</th>\n",
       "      <td>0.468288</td>\n",
       "      <td>0.158115</td>\n",
       "    </tr>\n",
       "    <tr>\n",
       "      <th>3</th>\n",
       "      <td>0.640093</td>\n",
       "      <td>0.053555</td>\n",
       "    </tr>\n",
       "    <tr>\n",
       "      <th>4</th>\n",
       "      <td>0.095805</td>\n",
       "      <td>0.073651</td>\n",
       "    </tr>\n",
       "    <tr>\n",
       "      <th>...</th>\n",
       "      <td>...</td>\n",
       "      <td>...</td>\n",
       "    </tr>\n",
       "    <tr>\n",
       "      <th>8518</th>\n",
       "      <td>0.777729</td>\n",
       "      <td>0.210293</td>\n",
       "    </tr>\n",
       "    <tr>\n",
       "      <th>8519</th>\n",
       "      <td>0.326263</td>\n",
       "      <td>0.039529</td>\n",
       "    </tr>\n",
       "    <tr>\n",
       "      <th>8520</th>\n",
       "      <td>0.228492</td>\n",
       "      <td>0.088850</td>\n",
       "    </tr>\n",
       "    <tr>\n",
       "      <th>8521</th>\n",
       "      <td>0.304939</td>\n",
       "      <td>0.138835</td>\n",
       "    </tr>\n",
       "    <tr>\n",
       "      <th>8522</th>\n",
       "      <td>0.187510</td>\n",
       "      <td>0.056105</td>\n",
       "    </tr>\n",
       "  </tbody>\n",
       "</table>\n",
       "<p>8523 rows × 2 columns</p>\n",
       "</div>"
      ],
      "text/plain": [
       "      Item_MRP  Item_Outlet_Sales\n",
       "0     0.927507           0.283587\n",
       "1     0.072068           0.031419\n",
       "2     0.468288           0.158115\n",
       "3     0.640093           0.053555\n",
       "4     0.095805           0.073651\n",
       "...        ...                ...\n",
       "8518  0.777729           0.210293\n",
       "8519  0.326263           0.039529\n",
       "8520  0.228492           0.088850\n",
       "8521  0.304939           0.138835\n",
       "8522  0.187510           0.056105\n",
       "\n",
       "[8523 rows x 2 columns]"
      ]
     },
     "execution_count": 29,
     "metadata": {},
     "output_type": "execute_result"
    }
   ],
   "source": [
    "# Escalamos los dos atributos en el rango de 0 a 1\n",
    "\n",
    "from sklearn.preprocessing import MinMaxScaler\n",
    "\n",
    "scaler = MinMaxScaler(feature_range=(0, 1))\n",
    "bigmart_df[[\"Item_MRP\", \"Item_Outlet_Sales\"]] = scaler.fit_transform(bigmart_df[[\"Item_MRP\", \"Item_Outlet_Sales\"]])\n",
    "\n",
    "bigmart_df[[\"Item_MRP\", \"Item_Outlet_Sales\"]]"
   ]
  },
  {
   "cell_type": "code",
   "execution_count": 31,
   "metadata": {},
   "outputs": [
    {
     "data": {
      "text/plain": [
       "array([[0.92750715, 0.28358666],\n",
       "       [0.0720684 , 0.03141895],\n",
       "       [0.46828841, 0.15811486],\n",
       "       ...,\n",
       "       [0.22849221, 0.08885035],\n",
       "       [0.30493925, 0.13883505],\n",
       "       [0.18750976, 0.05610527]])"
      ]
     },
     "execution_count": 31,
     "metadata": {},
     "output_type": "execute_result"
    }
   ],
   "source": [
    "# Pasamos las columnas a dos arrays de NumPy \n",
    "\n",
    "X = bigmart_df[[\"Item_MRP\", \"Item_Outlet_Sales\"]].to_numpy() \n",
    "\n",
    "X"
   ]
  },
  {
   "cell_type": "markdown",
   "metadata": {},
   "source": [
    "## Creación del diccionario de los modelos\n",
    "\n",
    "Creamos un diccionario con los algoritmos que queremos utilizar.\n",
    "\n",
    "Vamos a considerar hipotéticamente que los outliers están en torno al 5% de las observaciones que son diferentes al resto, por tanto, el parámetro `contamination` lo ponemos a 0.05, almacenaremos este valor en una variable denominada `outliers_fraction`."
   ]
  },
  {
   "cell_type": "code",
   "execution_count": 32,
   "metadata": {},
   "outputs": [],
   "source": [
    "outliers_fraction = 0.05\n",
    "\n",
    "classifiers = {\n",
    "    \"ABOD\": ABOD(contamination=outliers_fraction),\n",
    "    \"CBLOF\": CBLOF(contamination=outliers_fraction, check_estimator=False),\n",
    "    \"FeatureBagging\": FeatureBagging(LOF(n_neighbors=35) ,contamination=outliers_fraction, check_estimator=False),\n",
    "    \"HBOS\": HBOS(contamination=outliers_fraction),\n",
    "    \"IForest\": IForest(contamination=outliers_fraction),\n",
    "    \"KNN\": KNN(contamination=outliers_fraction),\n",
    "    \"LOF\": LOF(n_neighbors=35, contamination=outliers_fraction)\n",
    "}\n",
    "\n",
    "# check_estimator=False hace que no se compruebe que el estimador (la clase que implementa el algoritmo)\n",
    "# cumple una serie de estandares como que implementa unos metodos determinados\n",
    "# de esta forma va mas rapido"
   ]
  },
  {
   "cell_type": "markdown",
   "metadata": {},
   "source": [
    "## Detección de Outliers\n",
    "\n",
    "Aplicamos los datos a cada modelo y vemos cómo predice cada uno de los outliers."
   ]
  },
  {
   "cell_type": "code",
   "execution_count": null,
   "metadata": {},
   "outputs": [],
   "source": [
    "for clf_name, clf in classifiers.items():\n",
    "    # Hacer una copia del dataframe \n",
    "    copy_df = bigmart_df.copy()\n",
    "\n",
    "    # Extraer la informacion sobre los outliers\n",
    "\n",
    "    # Añadimos la columna de outliers al dataframe\n",
    "\n",
    "    # Separa los inliners y outliers \n",
    "\n",
    "    # Muestra numero de inliners y outliers \n",
    "\n",
    "    # Muestra la grafica "
   ]
  }
 ],
 "metadata": {
  "kernelspec": {
   "display_name": "Python 3",
   "language": "python",
   "name": "python3"
  },
  "language_info": {
   "codemirror_mode": {
    "name": "ipython",
    "version": 3
   },
   "file_extension": ".py",
   "mimetype": "text/x-python",
   "name": "python",
   "nbconvert_exporter": "python",
   "pygments_lexer": "ipython3",
   "version": "3.12.7"
  }
 },
 "nbformat": 4,
 "nbformat_minor": 2
}
