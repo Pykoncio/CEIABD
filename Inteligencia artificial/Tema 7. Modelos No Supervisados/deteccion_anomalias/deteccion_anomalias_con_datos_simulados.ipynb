{
 "cells": [
  {
   "cell_type": "markdown",
   "metadata": {},
   "source": [
    "# Detección de anomalías\n",
    "\n",
    "La detección de anomalías consiste en descubrir instancias que se salen de los parámetros habituales, en inglés, *outliers*.\n",
    "\n",
    "Los casos que siguen la norma son los *inliers*.\n",
    "\n",
    "En este cuaderno vamos a utilizar la librería PyOD que está específicamente diseñada para la detección de *outliers* y cuenta con más de 25 algoritmos diferentes para este cometido."
   ]
  },
  {
   "cell_type": "markdown",
   "metadata": {},
   "source": [
    "**Ejemplos de outliers:**\n",
    "\n",
    "- La selección española de fútbol gana por 7 goles a 0 contra Costa Rica en el mundial de Qatar. En general, cualquier resultado deportivo excepcional.\n",
    "- Un error en la recogida de datos dice que la superficie de un estudio es de 10000 metros cuadrados.\n",
    "- Un usuario tiene un determinado patrón de compra y en un momento dado realiza una compra en otro país o de una cuantía mucho más alta de lo habitual. No tiene por qué ser un fraude o un error, lo que sí es seguro es que es un *outlier*.\n",
    "- Para el departamento de ciberseguridad, un acceso extraño a la red.\n",
    "\n",
    "## Tipos de outliers\n",
    "\n",
    "* **Univariado**: Es un valor extremo en una única variable. Por ejemplo, una persona que pesa 200kg.\n",
    "* **Multivariado**: Combina valores no usuales de, al menos, dos variables. Mirando las variables por separado, puede que no sea evidente que tenemos un *outlier*. Por ejemplo, una persona mide 2 metros y pesa 40kg.\n",
    "\n",
    "## ¿Por qué hay que detectar los outliers?\n",
    "\n",
    "* Los *outliers* pueden tener un impacto muy grande en el modelo.\n",
    "\n",
    "<img src=\"https://drive.google.com/uc?id=1CdWbC2qyK_y4BcaTnA1na8bz-_aStHiE\">\n",
    "\n",
    "* Pueden ser los datos más importantes del dataset. Por ejemplo, en la detección de un uso fraudulento de la tarketa de crédito o en un experimento científico: mueren 100 ratas y sobrevive una, merece la pena investigar a esa rata."
   ]
  },
  {
   "cell_type": "code",
   "execution_count": 5,
   "metadata": {},
   "outputs": [],
   "source": [
    "import numpy as np \n",
    "import matplotlib.pyplot as plt\n",
    "import seaborn as sns\n",
    "import pandas as pandas\n",
    "from scipy import stats"
   ]
  },
  {
   "cell_type": "code",
   "execution_count": 4,
   "metadata": {},
   "outputs": [],
   "source": [
    "# Importamos los modelos de los algoritmos Angle-Based Outlier Detection y k-Nearest Neightbours Detections\n",
    "\n",
    "from pyod.models.abod import ABOD\n",
    "from pyod.models.knn import KNN"
   ]
  },
  {
   "cell_type": "code",
   "execution_count": 6,
   "metadata": {},
   "outputs": [],
   "source": [
    "from pyod.utils.data import generate_data\n",
    "\n",
    "#Generamos datos aleatorios con dos atributos y un porcentaje de outliers del 8%\n",
    "X_train, y_train = generate_data(n_train=200, train_only=True, n_features=2, contamination=0.08)"
   ]
  },
  {
   "cell_type": "code",
   "execution_count": 7,
   "metadata": {},
   "outputs": [
    {
     "data": {
      "text/plain": [
       "array([[ 4.08574494,  3.77115419],\n",
       "       [ 3.68126303,  3.9374469 ],\n",
       "       [ 4.01446552,  4.36203255],\n",
       "       [ 3.99311596,  4.51731131],\n",
       "       [ 4.2881842 ,  3.76535302],\n",
       "       [ 3.80230349,  4.12602647],\n",
       "       [ 3.9764907 ,  3.86858045],\n",
       "       [ 4.37676943,  4.39362825],\n",
       "       [ 4.02107198,  3.9903293 ],\n",
       "       [ 4.09398482,  3.98703498],\n",
       "       [ 4.00626371,  4.03715999],\n",
       "       [ 4.18660033,  3.95014606],\n",
       "       [ 3.97999483,  3.92205599],\n",
       "       [ 3.66687396,  4.06482929],\n",
       "       [ 3.8619582 ,  3.36716522],\n",
       "       [ 3.82957859,  3.40422891],\n",
       "       [ 4.11081421,  4.03589602],\n",
       "       [ 3.5967122 ,  4.20451198],\n",
       "       [ 4.38775878,  3.81717193],\n",
       "       [ 4.31248761,  3.65418446],\n",
       "       [ 4.15672896,  4.03054235],\n",
       "       [ 3.92450403,  3.70975735],\n",
       "       [ 3.89203067,  4.13470975],\n",
       "       [ 4.3772892 ,  4.16276103],\n",
       "       [ 3.97978343,  3.88784241],\n",
       "       [ 3.69402662,  3.74752009],\n",
       "       [ 3.7367525 ,  4.0220678 ],\n",
       "       [ 4.45816981,  3.76294993],\n",
       "       [ 4.32363618,  4.041504  ],\n",
       "       [ 3.75042203,  3.41158938],\n",
       "       [ 4.1746098 ,  3.89334831],\n",
       "       [ 3.8009291 ,  4.00661201],\n",
       "       [ 4.15442455,  4.11953329],\n",
       "       [ 4.05030116,  4.09884761],\n",
       "       [ 3.62266637,  3.850906  ],\n",
       "       [ 3.79501239,  3.8535154 ],\n",
       "       [ 4.39147634,  4.26974378],\n",
       "       [ 4.0132187 ,  4.04450277],\n",
       "       [ 3.66792432,  3.98717722],\n",
       "       [ 4.0068258 ,  4.32398699],\n",
       "       [ 3.79270557,  3.97837288],\n",
       "       [ 4.10798438,  3.91079667],\n",
       "       [ 3.82551029,  3.74852436],\n",
       "       [ 4.04285936,  4.38807341],\n",
       "       [ 3.98945261,  4.07323935],\n",
       "       [ 3.88296881,  4.20336788],\n",
       "       [ 4.07801192,  3.4920461 ],\n",
       "       [ 4.24359427,  3.61986524],\n",
       "       [ 3.91101984,  3.76943818],\n",
       "       [ 3.72490912,  4.15342111],\n",
       "       [ 3.9833001 ,  3.80018567],\n",
       "       [ 4.27460901,  4.07804276],\n",
       "       [ 3.70366597,  4.09115484],\n",
       "       [ 3.93976644,  4.11843351],\n",
       "       [ 3.96125706,  3.92203252],\n",
       "       [ 3.97909736,  3.68758736],\n",
       "       [ 4.0738008 ,  4.04720873],\n",
       "       [ 3.69706484,  3.90711073],\n",
       "       [ 3.91098948,  3.88870145],\n",
       "       [ 4.13085936,  3.87551648],\n",
       "       [ 4.0748435 ,  4.58809452],\n",
       "       [ 3.54434889,  3.71918606],\n",
       "       [ 3.56061959,  3.43249024],\n",
       "       [ 4.18894296,  3.52350326],\n",
       "       [ 3.98951773,  3.94416349],\n",
       "       [ 4.01302594,  4.08522402],\n",
       "       [ 3.91434247,  3.79156158],\n",
       "       [ 4.02185466,  3.91834333],\n",
       "       [ 4.08179196,  4.02220587],\n",
       "       [ 4.1073162 ,  4.18075368],\n",
       "       [ 3.76823687,  3.97536671],\n",
       "       [ 4.10523595,  3.96053745],\n",
       "       [ 3.77750767,  3.9364114 ],\n",
       "       [ 3.86107607,  3.80607147],\n",
       "       [ 4.34873495,  4.27386893],\n",
       "       [ 4.16864397,  3.74858003],\n",
       "       [ 3.96134626,  4.37417316],\n",
       "       [ 3.95105548,  4.08891108],\n",
       "       [ 3.91058041,  4.00800491],\n",
       "       [ 4.00310091,  3.60967126],\n",
       "       [ 3.91599102,  4.198113  ],\n",
       "       [ 3.85004136,  3.83735852],\n",
       "       [ 3.94021555,  3.70893043],\n",
       "       [ 3.68919427,  4.1464413 ],\n",
       "       [ 4.02172163,  4.11225058],\n",
       "       [ 3.60272921,  3.69551081],\n",
       "       [ 4.06521834,  4.0283557 ],\n",
       "       [ 3.99582537,  3.73084868],\n",
       "       [ 3.93334191,  3.664267  ],\n",
       "       [ 4.10746372,  4.07991535],\n",
       "       [ 4.03638678,  4.02436858],\n",
       "       [ 4.06149937,  3.70457134],\n",
       "       [ 3.82730637,  3.76817468],\n",
       "       [ 3.75328056,  3.74786461],\n",
       "       [ 4.20981599,  4.27213859],\n",
       "       [ 3.81125515,  4.04150488],\n",
       "       [ 4.06097681,  3.88448132],\n",
       "       [ 4.23137978,  4.35652505],\n",
       "       [ 3.79238806,  3.59862712],\n",
       "       [ 3.84797273,  3.74867289],\n",
       "       [ 3.65144519,  4.27495424],\n",
       "       [ 4.40758796,  4.27436092],\n",
       "       [ 4.07133696,  3.78879798],\n",
       "       [ 4.17378108,  4.39019871],\n",
       "       [ 4.04194691,  3.95997081],\n",
       "       [ 4.08504319,  4.21266345],\n",
       "       [ 3.88712981,  3.9574725 ],\n",
       "       [ 3.97285125,  3.75633104],\n",
       "       [ 4.12558697,  4.06710489],\n",
       "       [ 4.08295322,  3.83543755],\n",
       "       [ 3.89436128,  4.04887798],\n",
       "       [ 4.2896243 ,  3.83213178],\n",
       "       [ 4.456222  ,  3.95424803],\n",
       "       [ 3.82290575,  3.92516995],\n",
       "       [ 4.39567435,  3.95133966],\n",
       "       [ 4.09402857,  4.35987519],\n",
       "       [ 4.22275727,  4.15040057],\n",
       "       [ 4.0624966 ,  3.90103076],\n",
       "       [ 3.49058918,  4.15352425],\n",
       "       [ 4.18083604,  3.77477436],\n",
       "       [ 4.01361696,  3.8095171 ],\n",
       "       [ 4.3742392 ,  3.82626878],\n",
       "       [ 3.55301082,  4.11539921],\n",
       "       [ 3.69683387,  4.33075805],\n",
       "       [ 4.15677363,  4.26112493],\n",
       "       [ 4.22570036,  4.12361571],\n",
       "       [ 3.85715071,  4.00698459],\n",
       "       [ 3.77776099,  3.7321391 ],\n",
       "       [ 3.93153706,  3.96029657],\n",
       "       [ 3.96774756,  4.37930588],\n",
       "       [ 4.13722501,  3.91963492],\n",
       "       [ 4.23418974,  3.76073594],\n",
       "       [ 3.99599388,  3.73389542],\n",
       "       [ 3.98204846,  4.67209848],\n",
       "       [ 4.23577683,  4.34953366],\n",
       "       [ 3.86529763,  4.46782026],\n",
       "       [ 4.0215999 ,  3.71630393],\n",
       "       [ 4.31918511,  3.67072999],\n",
       "       [ 4.15159272,  4.2050182 ],\n",
       "       [ 3.82903366,  4.04082969],\n",
       "       [ 4.31019089,  3.91779967],\n",
       "       [ 3.86580435,  4.24689629],\n",
       "       [ 4.06245702,  3.97809742],\n",
       "       [ 3.92766419,  4.45486249],\n",
       "       [ 3.68964863,  4.10836123],\n",
       "       [ 4.02001053,  4.59320615],\n",
       "       [ 3.82134699,  4.34809468],\n",
       "       [ 3.77588652,  3.48712874],\n",
       "       [ 3.83498077,  3.91999708],\n",
       "       [ 3.92019366,  3.93302934],\n",
       "       [ 4.39046676,  4.21893169],\n",
       "       [ 3.93703492,  3.77411015],\n",
       "       [ 3.74780735,  4.07777343],\n",
       "       [ 3.98871179,  4.02391888],\n",
       "       [ 4.17751141,  4.2332668 ],\n",
       "       [ 3.49403012,  3.93794399],\n",
       "       [ 4.11802045,  3.83796111],\n",
       "       [ 3.91558061,  3.87330209],\n",
       "       [ 3.68290769,  3.91389325],\n",
       "       [ 3.888458  ,  3.93135912],\n",
       "       [ 4.1189111 ,  3.75068784],\n",
       "       [ 4.08527849,  4.26463056],\n",
       "       [ 4.07374417,  4.05085913],\n",
       "       [ 3.717661  ,  3.8409444 ],\n",
       "       [ 4.12076819,  3.91689601],\n",
       "       [ 4.25091637,  4.21135653],\n",
       "       [ 4.23502784,  4.06476571],\n",
       "       [ 3.69427212,  4.16310135],\n",
       "       [ 3.96523007,  4.54023983],\n",
       "       [ 3.94530926,  3.78565739],\n",
       "       [ 3.86783587,  4.47094541],\n",
       "       [ 3.89140555,  3.8269421 ],\n",
       "       [ 3.88946898,  3.73929615],\n",
       "       [ 3.95694229,  3.8138413 ],\n",
       "       [ 4.30264794,  4.10551518],\n",
       "       [ 4.07228321,  4.00768968],\n",
       "       [ 4.25240559,  4.52790002],\n",
       "       [ 4.10738961,  3.82560531],\n",
       "       [ 4.09644275,  3.79412571],\n",
       "       [ 4.04777659,  4.32223994],\n",
       "       [ 4.05134609,  4.01201263],\n",
       "       [ 3.96484986,  3.91978959],\n",
       "       [ 4.22218846,  3.79089707],\n",
       "       [ 4.40256448,  3.83204861],\n",
       "       [ 2.29195162, -3.18750364],\n",
       "       [ 0.42345478, -1.54552732],\n",
       "       [-2.28795148, -0.16518019],\n",
       "       [ 1.4701077 , -2.0602275 ],\n",
       "       [ 0.26116227, -1.00454845],\n",
       "       [-3.28417303, -3.47939121],\n",
       "       [ 3.15571838, -3.98909439],\n",
       "       [ 2.99240037,  0.21204851],\n",
       "       [-1.30258551,  3.27776284],\n",
       "       [-3.62880959, -1.23706227],\n",
       "       [-1.00468553, -2.41623002],\n",
       "       [-2.45712068, -0.26583973],\n",
       "       [ 0.39141264, -3.001518  ],\n",
       "       [ 1.94532018, -2.00590507],\n",
       "       [-2.88246025, -3.510827  ],\n",
       "       [ 1.14549694,  2.87896455]])"
      ]
     },
     "execution_count": 7,
     "metadata": {},
     "output_type": "execute_result"
    }
   ],
   "source": [
    "X_train "
   ]
  },
  {
   "cell_type": "code",
   "execution_count": null,
   "metadata": {},
   "outputs": [
    {
     "data": {
      "text/plain": [
       "array([0., 0., 0., 0., 0., 0., 0., 0., 0., 0., 0., 0., 0., 0., 0., 0., 0.,\n",
       "       0., 0., 0., 0., 0., 0., 0., 0., 0., 0., 0., 0., 0., 0., 0., 0., 0.,\n",
       "       0., 0., 0., 0., 0., 0., 0., 0., 0., 0., 0., 0., 0., 0., 0., 0., 0.,\n",
       "       0., 0., 0., 0., 0., 0., 0., 0., 0., 0., 0., 0., 0., 0., 0., 0., 0.,\n",
       "       0., 0., 0., 0., 0., 0., 0., 0., 0., 0., 0., 0., 0., 0., 0., 0., 0.,\n",
       "       0., 0., 0., 0., 0., 0., 0., 0., 0., 0., 0., 0., 0., 0., 0., 0., 0.,\n",
       "       0., 0., 0., 0., 0., 0., 0., 0., 0., 0., 0., 0., 0., 0., 0., 0., 0.,\n",
       "       0., 0., 0., 0., 0., 0., 0., 0., 0., 0., 0., 0., 0., 0., 0., 0., 0.,\n",
       "       0., 0., 0., 0., 0., 0., 0., 0., 0., 0., 0., 0., 0., 0., 0., 0., 0.,\n",
       "       0., 0., 0., 0., 0., 0., 0., 0., 0., 0., 0., 0., 0., 0., 0., 0., 0.,\n",
       "       0., 0., 0., 0., 0., 0., 0., 0., 0., 0., 0., 0., 0., 0., 1., 1., 1.,\n",
       "       1., 1., 1., 1., 1., 1., 1., 1., 1., 1., 1., 1., 1.])"
      ]
     },
     "execution_count": 8,
     "metadata": {},
     "output_type": "execute_result"
    }
   ],
   "source": [
    "y_train # Muestra los valores que son outliers de forma booleana, si es 0 es un inliner"
   ]
  },
  {
   "cell_type": "code",
   "execution_count": 15,
   "metadata": {},
   "outputs": [],
   "source": [
    "# X es una matriz de puntos (x, y) \n",
    "# Para la representación gráfica de los puntos necesitamos sacar las x y las y a vectores diferentes\n",
    "\n",
    "features_1 = X_train[:, 0]\n",
    "features_2 = X_train[:, 1]"
   ]
  },
  {
   "cell_type": "code",
   "execution_count": 22,
   "metadata": {},
   "outputs": [
    {
     "data": {
      "image/png": "[encoded data removed]",
      "text/plain": [
       "<Figure size 1000x800 with 1 Axes>"
      ]
     },
     "metadata": {},
     "output_type": "display_data"
    }
   ],
   "source": [
    "plt.figure(figsize=(10, 8))\n",
    "plt.grid(visible=True)\n",
    "plt.scatter(feature_1, feature_2, c=y_train)\n",
    "plt.title(\"Gráfico de dispersión\")\n",
    "plt.xlabel(\"Features 1\")\n",
    "plt.ylabel(\"Features 2\")\n",
    "plt.show()"
   ]
  },
  {
   "cell_type": "code",
   "execution_count": 23,
   "metadata": {},
   "outputs": [],
   "source": [
    "# Extraemos los outliers y los inliers\n",
    "\n",
    "from pyod.utils.data import get_outliers_inliers\n",
    "\n",
    "X_outliers, X_inliers = get_outliers_inliers(X_train, y_train)"
   ]
  },
  {
   "cell_type": "code",
   "execution_count": 24,
   "metadata": {},
   "outputs": [
    {
     "data": {
      "image/png": "[encoded data removed]",
      "text/plain": [
       "<Figure size 1000x800 with 1 Axes>"
      ]
     },
     "metadata": {},
     "output_type": "display_data"
    }
   ],
   "source": [
    "# Mostramos una gráfica donde se muestren los outliers y los inliers de color diferente\n",
    "\n",
    "plt.figure(figsize=(10, 8))\n",
    "plt.grid(visible=True)\n",
    "plt.title(\"Gráfico de dispersión\")\n",
    "plt.xlabel(\"Features 1\")\n",
    "plt.ylabel(\"Features 2\")\n",
    "\n",
    "plt.scatter(X_outliers[:, 0], X_outliers[:, 1], c=\"orange\")\n",
    "plt.scatter(X_inliers[:, 0], X_inliers[:, 1], c=\"green\")\n",
    "\n",
    "plt.show()"
   ]
  }
 ],
 "metadata": {
  "kernelspec": {
   "display_name": "Python 3",
   "language": "python",
   "name": "python3"
  },
  "language_info": {
   "codemirror_mode": {
    "name": "ipython",
    "version": 3
   },
   "file_extension": ".py",
   "mimetype": "text/x-python",
   "name": "python",
   "nbconvert_exporter": "python",
   "pygments_lexer": "ipython3",
   "version": "3.12.7"
  }
 },
 "nbformat": 4,
 "nbformat_minor": 2
}
